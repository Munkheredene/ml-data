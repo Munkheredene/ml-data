{
 "cells": [
  {
   "cell_type": "markdown",
   "id": "ada75f46-da4a-4fcf-a04a-eea6f44f4cfb",
   "metadata": {},
   "source": [
    "Problem 1 Confirmation of competition contents"
   ]
  },
  {
   "cell_type": "code",
   "execution_count": 20,
   "id": "44de8047-813a-4c2c-8691-682445a19deb",
   "metadata": {},
   "outputs": [],
   "source": [
    "import gc\n",
    "import joblib\n",
    "import warnings\n",
    "import pandas as pd\n",
    "import numpy as np\n",
    "from tqdm import tqdm\n",
    "from scipy import stats\n",
    "from sklearn.svm import SVC\n",
    "from sklearn.metrics import roc_auc_score\n",
    "from sklearn.linear_model import LogisticRegression\n",
    "from sklearn.neighbors import KNeighborsClassifier\n",
    "from sklearn.tree import DecisionTreeClassifier\n",
    "from sklearn.ensemble import (RandomForestClassifier,\n",
    "                              GradientBoostingClassifier)\n",
    "from sklearn.model_selection import StratifiedKFold\n",
    "from sklearn.preprocessing import LabelEncoder\n",
    "\n",
    "warnings.filterwarnings('ignore')\n",
    "\n",
    "gc.enable()"
   ]
  },
  {
   "cell_type": "markdown",
   "id": "51b4141f-6829-4b06-aba9-172a5b541d56",
   "metadata": {},
   "source": [
    "Problem 2 Learning and verification"
   ]
  },
  {
   "cell_type": "code",
   "execution_count": 21,
   "id": "a1b60cbb-5efc-4248-aa08-90cc090088cd",
   "metadata": {},
   "outputs": [
    {
     "data": {
      "text/plain": [
       "0"
      ]
     },
     "execution_count": 21,
     "metadata": {},
     "output_type": "execute_result"
    }
   ],
   "source": [
    "DEBUG = True\n",
    "REMOVE_OUTLIERS=True\n",
    "\n",
    "if DEBUG:\n",
    "    train_df = pd.read_csv('data/task15/application_train.csv', nrows=1000)\n",
    "    test_df = pd.read_csv('data/task15/application_test.csv', nrows=1000)\n",
    "else:\n",
    "    train_df = pd.read_csv('data/task15/application_train.csv')\n",
    "    test_df = pd.read_csv('data/task15/application_test.csv')\n",
    "\n",
    "train_df['isTrain'] = 'Train'\n",
    "test_df['isTrain'] = 'Test'\n",
    "\n",
    "test_df['TARGET'] = np.nan\n",
    "\n",
    "df = pd.concat([train_df, test_df[train_df.columns]], axis=0)\n",
    "df = df.reset_index(drop=True)\n",
    "\n",
    "del train_df, test_df\n",
    "gc.collect()"
   ]
  },
  {
   "cell_type": "code",
   "execution_count": 22,
   "id": "7b0e4150-a61d-4bc0-90d8-5875c86a487d",
   "metadata": {},
   "outputs": [
    {
     "data": {
      "text/plain": [
       "(2000, 123)"
      ]
     },
     "execution_count": 22,
     "metadata": {},
     "output_type": "execute_result"
    }
   ],
   "source": [
    "df.shape"
   ]
  },
  {
   "cell_type": "markdown",
   "id": "3f312afe-1712-4a19-96f2-5e75b3e9d512",
   "metadata": {},
   "source": [
    "Problem 4 Feature engineering"
   ]
  },
  {
   "cell_type": "code",
   "execution_count": 23,
   "id": "c3462b85-01b2-4de6-80ce-3f76ac7ab6a0",
   "metadata": {},
   "outputs": [
    {
     "name": "stdout",
     "output_type": "stream",
     "text": [
      "Number of cat columns: 63\n",
      "Number of numerical columns: 57\n"
     ]
    }
   ],
   "source": [
    "num_columns = []\n",
    "cat_columns = []\n",
    "should_be_encode = []\n",
    "not_useful_columns = ['SK_ID_CURR', 'TARGET', 'isTrain']\n",
    "\n",
    "for col in df.columns:\n",
    "    if col not in not_useful_columns:\n",
    "        unique_len = len(df[col].unique())\n",
    "        data_type = df[col].dtype\n",
    "\n",
    "        if unique_len<=20 and data_type!=\"object\":\n",
    "            cat_columns.append(col)\n",
    "        elif data_type=='object':\n",
    "            should_be_encode.append(col)\n",
    "        else:\n",
    "            num_columns.append(col)\n",
    "\n",
    "print('Number of cat columns:', len(cat_columns+should_be_encode))\n",
    "print('Number of numerical columns:', len(num_columns))"
   ]
  },
  {
   "cell_type": "code",
   "execution_count": 24,
   "id": "2bcd4ff6-800f-4b23-9eb0-47a620ef295b",
   "metadata": {},
   "outputs": [],
   "source": [
    "missing_values = {}\n",
    "for col in num_columns:\n",
    "    num_missing_values = df[col].isnull().sum()\n",
    "    if num_missing_values>0:\n",
    "        df[col] = df[col].fillna(np.nanmean(df[col].values))\n",
    "        missing_values[col] = np.nanmean(df[col].values)"
   ]
  },
  {
   "cell_type": "code",
   "execution_count": 25,
   "id": "aa512aee-e9d5-4732-9be9-bdb5fa1e887c",
   "metadata": {},
   "outputs": [
    {
     "data": {
      "text/plain": [
       "{'AMT_ANNUITY': 27896.891195597796,\n",
       " 'AMT_GOODS_PRICE': 491480.8626813407,\n",
       " 'OWN_CAR_AGE': 12.106569343065695,\n",
       " 'EXT_SOURCE_1': 0.4980570277236582,\n",
       " 'EXT_SOURCE_2': 0.5157714723627375,\n",
       " 'EXT_SOURCE_3': 0.5034876519837745,\n",
       " 'APARTMENTS_AVG': 0.114991351888668,\n",
       " 'BASEMENTAREA_AVG': 0.0871649411764706,\n",
       " 'YEARS_BEGINEXPLUATATION_AVG': 0.979848703170029,\n",
       " 'YEARS_BUILD_AVG': 0.7499645112781954,\n",
       " 'COMMONAREA_AVG': 0.042430677966101685,\n",
       " 'ELEVATORS_AVG': 0.07589109947643981,\n",
       " 'ENTRANCES_AVG': 0.14419236043095005,\n",
       " 'FLOORSMAX_AVG': 0.22618407335907334,\n",
       " 'FLOORSMIN_AVG': 0.23438777777777775,\n",
       " 'LANDAREA_AVG': 0.06458865598027129,\n",
       " 'LIVINGAPARTMENTS_AVG': 0.09552752,\n",
       " 'LIVINGAREA_AVG': 0.10460177339901477,\n",
       " 'NONLIVINGAPARTMENTS_AVG': 0.007794398682042832,\n",
       " 'NONLIVINGAREA_AVG': 0.02911912568306011,\n",
       " 'APARTMENTS_MODE': 0.11219662027833001,\n",
       " 'BASEMENTAREA_MODE': 0.08608717647058822,\n",
       " 'YEARS_BEGINEXPLUATATION_MODE': 0.9785262247838616,\n",
       " 'YEARS_BUILD_MODE': 0.757468120300752,\n",
       " 'COMMONAREA_MODE': 0.040581694915254235,\n",
       " 'ELEVATORS_MODE': 0.07245549738219895,\n",
       " 'ENTRANCES_MODE': 0.13998501469147895,\n",
       " 'FLOORSMAX_MODE': 0.22225733590733593,\n",
       " 'LANDAREA_MODE': 0.06392096177558569,\n",
       " 'LIVINGAPARTMENTS_MODE': 0.10000543999999999,\n",
       " 'LIVINGAREA_MODE': 0.10378502463054187,\n",
       " 'NONLIVINGAPARTMENTS_MODE': 0.007259802306425041,\n",
       " 'NONLIVINGAREA_MODE': 0.028830601092896174,\n",
       " 'APARTMENTS_MEDI': 0.11568339960238568,\n",
       " 'BASEMENTAREA_MEDI': 0.086838,\n",
       " 'YEARS_BEGINEXPLUATATION_MEDI': 0.9801405379442842,\n",
       " 'YEARS_BUILD_MEDI': 0.7532066165413535,\n",
       " 'COMMONAREA_MEDI': 0.042460508474576275,\n",
       " 'ELEVATORS_MEDI': 0.07551832460732986,\n",
       " 'ENTRANCES_MEDI': 0.1439197845249755,\n",
       " 'FLOORSMAX_MEDI': 0.22569584942084941,\n",
       " 'FLOORSMIN_MEDI': 0.23349412698412697,\n",
       " 'LANDAREA_MEDI': 0.06544266337854501,\n",
       " 'LIVINGAPARTMENTS_MEDI': 0.09663008,\n",
       " 'LIVINGAREA_MEDI': 0.1061266009852217,\n",
       " 'NONLIVINGAPARTMENTS_MEDI': 0.007740527182866556,\n",
       " 'NONLIVINGAREA_MEDI': 0.02935486338797814,\n",
       " 'TOTALAREA_MODE': 0.10098189573459716}"
      ]
     },
     "execution_count": 25,
     "metadata": {},
     "output_type": "execute_result"
    }
   ],
   "source": [
    "missing_values"
   ]
  },
  {
   "cell_type": "code",
   "execution_count": 26,
   "id": "f8f45a57-f31a-48f9-8458-117906e28ef1",
   "metadata": {},
   "outputs": [],
   "source": [
    "for col in should_be_encode:\n",
    "    num_missing_values = df[col].isnull().sum()\n",
    "    if num_missing_values > 0:\n",
    "        df[col] = df[col].fillna(df[col].mode())\n",
    "        missing_values[col] = (df[col].mode())"
   ]
  },
  {
   "cell_type": "code",
   "execution_count": 27,
   "id": "d61f358c-e9fd-49d0-8beb-c0d0b75cbe6a",
   "metadata": {},
   "outputs": [],
   "source": [
    "for col in cat_columns:\n",
    "    num_missing_values = df[col].isnull().sum()\n",
    "    if num_missing_values > 0:\n",
    "        df[col] = df[col].fillna(df[col].median())\n",
    "        missing_values[col] = (df[col].median())"
   ]
  },
  {
   "cell_type": "code",
   "execution_count": 28,
   "id": "3270dec3-46bf-418b-ab02-0568eb8fb9a3",
   "metadata": {},
   "outputs": [
    {
     "data": {
      "text/plain": [
       "['data/task15/missing_values.pkl']"
      ]
     },
     "execution_count": 28,
     "metadata": {},
     "output_type": "execute_result"
    }
   ],
   "source": [
    "joblib.dump(missing_values, 'data/task15/missing_values.pkl')"
   ]
  },
  {
   "cell_type": "code",
   "execution_count": 29,
   "id": "efba3f3f-4d11-49a7-a50e-5c9a93fc48be",
   "metadata": {},
   "outputs": [
    {
     "data": {
      "text/plain": [
       "['data/task15/encoders.pkl']"
      ]
     },
     "execution_count": 29,
     "metadata": {},
     "output_type": "execute_result"
    }
   ],
   "source": [
    "encoders = {}\n",
    "for col in should_be_encode:\n",
    "    encoder = LabelEncoder().fit(df[col])\n",
    "    encoders[col] = encoder\n",
    "    df[col] = encoder.transform(df[col])\n",
    "\n",
    "joblib.dump(encoders, \"data/task15/encoders.pkl\",)"
   ]
  },
  {
   "cell_type": "code",
   "execution_count": 30,
   "id": "9b8e2686-e362-4934-8cd1-8aced5dd756a",
   "metadata": {},
   "outputs": [
    {
     "data": {
      "text/plain": [
       "0"
      ]
     },
     "execution_count": 30,
     "metadata": {},
     "output_type": "execute_result"
    }
   ],
   "source": [
    "for col in cat_columns+should_be_encode+num_columns:\n",
    "    if df[col].isnull().sum()>0:\n",
    "        print(col, df[col].dtype, df[col].isnull().sum())\n",
    "cat_columns = cat_columns + should_be_encode\n",
    "del should_be_encode\n",
    "gc.collect()"
   ]
  },
  {
   "cell_type": "code",
   "execution_count": 31,
   "id": "afa2cb44-b480-4398-82d0-9a8d48949e85",
   "metadata": {},
   "outputs": [
    {
     "name": "stderr",
     "output_type": "stream",
     "text": [
      "  0%|                                                                                           | 0/63 [00:00<?, ?it/s]\n",
      "100%|███████████████████████████████████████████████████████████████████████████████████| 6/6 [00:00<00:00, 281.68it/s]\u001b[A\n",
      "\n",
      "100%|████████████████████████████████████████████████████████████████████████████████████████████| 1/1 [00:00<?, ?it/s]\u001b[A\n",
      "\n",
      "100%|████████████████████████████████████████████████████████████████████████████████████████████| 2/2 [00:00<?, ?it/s]\u001b[A\n",
      "\n",
      "100%|████████████████████████████████████████████████████████████████████████████████████████████| 2/2 [00:00<?, ?it/s]\u001b[A\n",
      "\n",
      "100%|███████████████████████████████████████████████████████████████████████████████████| 2/2 [00:00<00:00, 362.12it/s]\u001b[A\n",
      "\n",
      "100%|████████████████████████████████████████████████████████████████████████████████████████████| 2/2 [00:00<?, ?it/s]\u001b[A\n",
      "\n",
      "100%|████████████████████████████████████████████████████████████████████████████████████████████| 2/2 [00:00<?, ?it/s]\u001b[A\n",
      "\n",
      "100%|████████████████████████████████████████████████████████████████████████████████████████████| 7/7 [00:00<?, ?it/s]\u001b[A\n",
      " 13%|██████████▌                                                                        | 8/63 [00:00<00:00, 66.67it/s]\n",
      "100%|███████████████████████████████████████████████████████████████████████████████████| 3/3 [00:00<00:00, 976.71it/s]\u001b[A\n",
      "\n",
      "100%|███████████████████████████████████████████████████████████████████████████████████| 3/3 [00:00<00:00, 212.90it/s]\u001b[A\n",
      "\n",
      "100%|███████████████████████████████████████████████████████████████████████████████████| 2/2 [00:00<00:00, 275.29it/s]\u001b[A\n",
      "\n",
      "100%|███████████████████████████████████████████████████████████████████████████████████| 2/2 [00:00<00:00, 669.64it/s]\u001b[A\n",
      "\n",
      "100%|███████████████████████████████████████████████████████████████████████████████████| 2/2 [00:00<00:00, 668.68it/s]\u001b[A\n",
      "\n",
      "100%|███████████████████████████████████████████████████████████████████████████████████| 2/2 [00:00<00:00, 669.70it/s]\u001b[A\n",
      "\n",
      "100%|███████████████████████████████████████████████████████████████████████████████████| 2/2 [00:00<00:00, 581.69it/s]\u001b[A\n",
      "\n",
      "100%|████████████████████████████████████████████████████████████████████████████████████████████| 2/2 [00:00<?, ?it/s]\u001b[A\n",
      "\n",
      "100%|█████████████████████████████████████████████████████████████████████████████████| 17/17 [00:00<00:00, 863.30it/s]\u001b[A\n",
      "\n",
      "100%|█████████████████████████████████████████████████████████████████████████████████| 18/18 [00:00<00:00, 902.69it/s]\u001b[A\n",
      " 29%|███████████████████████▍                                                          | 18/63 [00:00<00:00, 78.41it/s]\n",
      "100%|███████████████████████████████████████████████████████████████████████████████████| 5/5 [00:00<00:00, 859.07it/s]\u001b[A\n",
      "\n",
      "100%|█████████████████████████████████████████████████████████████████████████████████| 19/19 [00:00<00:00, 762.65it/s]\u001b[A\n",
      "\n",
      "100%|██████████████████████████████████████████████████████████████████████████████████| 5/5 [00:00<00:00, 1355.71it/s]\u001b[A\n",
      "\n",
      "100%|████████████████████████████████████████████████████████████████████████████████████████████| 1/1 [00:00<?, ?it/s]\u001b[A\n",
      "\n",
      "100%|████████████████████████████████████████████████████████████████████████████████████████████| 2/2 [00:00<?, ?it/s]\u001b[A\n",
      "\n",
      "100%|███████████████████████████████████████████████████████████████████████████████████| 1/1 [00:00<00:00, 486.01it/s]\u001b[A\n",
      "\n",
      "100%|████████████████████████████████████████████████████████████████████████████████████████████| 2/2 [00:00<?, ?it/s]\u001b[A\n",
      "\n",
      "100%|████████████████████████████████████████████████████████████████████████████████████████████| 2/2 [00:00<?, ?it/s]\u001b[A\n",
      " 41%|█████████████████████████████████▊                                                | 26/63 [00:00<00:00, 76.93it/s]\n",
      "100%|████████████████████████████████████████████████████████████████████████████████████████████| 1/1 [00:00<?, ?it/s]\u001b[A\n",
      "\n",
      "100%|███████████████████████████████████████████████████████████████████████████████████| 2/2 [00:00<00:00, 199.84it/s]\u001b[A\n",
      "\n",
      "100%|████████████████████████████████████████████████████████████████████████████████████████████| 2/2 [00:00<?, ?it/s]\u001b[A\n",
      "\n",
      "100%|███████████████████████████████████████████████████████████████████████████████████| 1/1 [00:00<00:00, 495.96it/s]\u001b[A\n",
      "\n",
      "100%|███████████████████████████████████████████████████████████████████████████████████| 2/2 [00:00<00:00, 195.35it/s]\u001b[A\n",
      "\n",
      "100%|████████████████████████████████████████████████████████████████████████████████████████████| 1/1 [00:00<?, ?it/s]\u001b[A\n",
      "\n",
      "100%|███████████████████████████████████████████████████████████████████████████████████| 2/2 [00:00<00:00, 329.96it/s]\u001b[A\n",
      "\n",
      "100%|████████████████████████████████████████████████████████████████████████████████████████████| 2/2 [00:00<?, ?it/s]\u001b[A\n",
      "\n",
      "100%|████████████████████████████████████████████████████████████████████████████████████████████| 2/2 [00:00<?, ?it/s]\u001b[A\n",
      "\n",
      "100%|████████████████████████████████████████████████████████████████████████████████████████████| 2/2 [00:00<?, ?it/s]\u001b[A\n",
      "\n",
      "100%|███████████████████████████████████████████████████████████████████████████████████| 1/1 [00:00<00:00, 466.03it/s]\u001b[A\n",
      "\n",
      "100%|███████████████████████████████████████████████████████████████████████████████████| 2/2 [00:00<00:00, 394.61it/s]\u001b[A\n",
      " 60%|█████████████████████████████████████████████████▍                                | 38/63 [00:00<00:00, 89.99it/s]\n",
      "100%|████████████████████████████████████████████████████████████████████████████████████████████| 1/1 [00:00<?, ?it/s]\u001b[A\n",
      "\n",
      "100%|████████████████████████████████████████████████████████████████████████████████████████████| 1/1 [00:00<?, ?it/s]\u001b[A\n",
      "\n",
      "100%|██████████████████████████████████████████████████████████████████████████████████| 1/1 [00:00<00:00, 1932.86it/s]\u001b[A\n",
      "\n",
      "100%|███████████████████████████████████████████████████████████████████████████████████| 2/2 [00:00<00:00, 204.90it/s]\u001b[A\n",
      "\n",
      "100%|███████████████████████████████████████████████████████████████████████████████████| 3/3 [00:00<00:00, 421.07it/s]\u001b[A\n",
      "\n",
      "100%|███████████████████████████████████████████████████████████████████████████████████| 3/3 [00:00<00:00, 328.05it/s]\u001b[A\n",
      "\n",
      "100%|███████████████████████████████████████████████████████████████████████████████████| 9/9 [00:00<00:00, 680.10it/s]\u001b[A\n",
      "\n",
      "100%|███████████████████████████████████████████████████████████████████████████████████| 6/6 [00:00<00:00, 788.77it/s]\u001b[A\n",
      "\n",
      "100%|█████████████████████████████████████████████████████████████████████████████████| 10/10 [00:00<00:00, 685.66it/s]\u001b[A\n",
      "\n",
      "100%|███████████████████████████████████████████████████████████████████████████████████| 2/2 [00:00<00:00, 436.50it/s]\u001b[A\n",
      " 76%|██████████████████████████████████████████████████████████████▍                   | 48/63 [00:00<00:00, 84.75it/s]\n",
      "100%|████████████████████████████████████████████████████████████████████████████████████████████| 2/2 [00:00<?, ?it/s]\u001b[A\n",
      "\n",
      "100%|████████████████████████████████████████████████████████████████████████████████████████████| 2/2 [00:00<?, ?it/s]\u001b[A\n",
      "\n",
      "100%|███████████████████████████████████████████████████████████████████████████████████| 2/2 [00:00<00:00, 208.84it/s]\u001b[A\n",
      "\n",
      "100%|███████████████████████████████████████████████████████████████████████████████████| 8/8 [00:00<00:00, 443.36it/s]\u001b[A\n",
      "\n",
      "100%|███████████████████████████████████████████████████████████████████████████████████| 4/4 [00:00<00:00, 201.14it/s]\u001b[A\n",
      "\n",
      "100%|███████████████████████████████████████████████████████████████████████████████████| 4/4 [00:00<00:00, 771.26it/s]\u001b[A\n",
      "\n",
      "100%|███████████████████████████████████████████████████████████████████████████████████| 5/5 [00:00<00:00, 499.56it/s]\u001b[A\n",
      "\n",
      "100%|███████████████████████████████████████████████████████████████████████████████████| 6/6 [00:00<00:00, 427.74it/s]\u001b[A\n",
      "\n",
      "100%|█████████████████████████████████████████████████████████████████████████████████| 19/19 [00:00<00:00, 807.74it/s]\u001b[A\n",
      " 90%|██████████████████████████████████████████████████████████████████████████▏       | 57/63 [00:00<00:00, 74.51it/s]\n",
      "100%|███████████████████████████████████████████████████████████████████████████████████| 7/7 [00:00<00:00, 466.49it/s]\u001b[A\n",
      "\n",
      "100%|█████████████████████████████████████████████████████████████████████████████████| 51/51 [00:00<00:00, 718.36it/s]\u001b[A\n",
      "\n",
      "100%|███████████████████████████████████████████████████████████████████████████████████| 5/5 [00:00<00:00, 412.11it/s]\u001b[A\n",
      "\n",
      "100%|████████████████████████████████████████████████████████████████████████████████████████████| 4/4 [00:00<?, ?it/s]\u001b[A\n",
      "\n",
      "100%|███████████████████████████████████████████████████████████████████████████████████| 8/8 [00:00<00:00, 651.64it/s]\u001b[A\n",
      "\n",
      "100%|███████████████████████████████████████████████████████████████████████████████████| 3/3 [00:00<00:00, 306.80it/s]\u001b[A\n",
      "100%|██████████████████████████████████████████████████████████████████████████████████| 63/63 [00:00<00:00, 69.53it/s]\n"
     ]
    },
    {
     "data": {
      "text/plain": [
       "9"
      ]
     },
     "execution_count": 31,
     "metadata": {},
     "output_type": "execute_result"
    }
   ],
   "source": [
    "dummy_columns = []\n",
    "map_dummy = {}\n",
    "for col in tqdm(cat_columns, total=len(cat_columns)):\n",
    "    for value in tqdm(df[col].unique()):\n",
    "        df[f'dummy_{col}_{value}'] = 0\n",
    "        df.loc[df[col]==value, f'dummy_{col}_{value}'] = 1\n",
    "        dummy_columns.append(f'dummy_{col}_{value}')\n",
    "        map_dummy[col] = f\"dummy_{col}_{value}\"\n",
    "\n",
    "joblib.dump(map_dummy, 'data/task15/map_dummy.pkl')\n",
    "\n",
    "del cat_columns\n",
    "gc.collect()"
   ]
  },
  {
   "cell_type": "code",
   "execution_count": 32,
   "id": "41cf3c97-fe29-46d1-8068-8211399a0ec1",
   "metadata": {},
   "outputs": [
    {
     "data": {
      "text/plain": [
       "(2000, 425)"
      ]
     },
     "execution_count": 32,
     "metadata": {},
     "output_type": "execute_result"
    }
   ],
   "source": [
    "df.shape"
   ]
  },
  {
   "cell_type": "code",
   "execution_count": 33,
   "id": "6332f162-ae7c-4673-9ed3-a54d21006439",
   "metadata": {},
   "outputs": [
    {
     "data": {
      "text/plain": [
       "0"
      ]
     },
     "execution_count": 33,
     "metadata": {},
     "output_type": "execute_result"
    }
   ],
   "source": [
    "train_df = df.loc[df['isTrain']=='Train'].reset_index(drop=True)\n",
    "test_df = df.loc[df['isTrain']=='Test'].reset_index(drop=True)\n",
    "del df\n",
    "gc.collect()"
   ]
  },
  {
   "cell_type": "code",
   "execution_count": 34,
   "id": "04f88a38-f6c2-4bb8-8de5-7f1d70be27c5",
   "metadata": {},
   "outputs": [
    {
     "data": {
      "text/plain": [
       "['data/task15/dummy_columns.pkl']"
      ]
     },
     "execution_count": 34,
     "metadata": {},
     "output_type": "execute_result"
    }
   ],
   "source": [
    "outlier_idx = []\n",
    "for col in num_columns:\n",
    "    z_score = stats.zscore(train_df[col])\n",
    "    outlier_idx = outlier_idx + list(train_df.loc[(np.abs(z_score)>3)].index)\n",
    "\n",
    "outlier_idx = list(set(outlier_idx))\n",
    "\n",
    "if REMOVE_OUTLIERS:\n",
    "    train_df = train_df.drop(index=outlier_idx,\n",
    "                             axis=0).reset_index(drop=True)\n",
    "\n",
    "joblib.dump(num_columns, 'data/task15/num_columns.pkl')\n",
    "joblib.dump(dummy_columns, 'data/task15/dummy_columns.pkl')"
   ]
  },
  {
   "cell_type": "code",
   "execution_count": 35,
   "id": "4c90f8a6-afc1-408f-99bb-5d5368ff40d5",
   "metadata": {},
   "outputs": [
    {
     "name": "stdout",
     "output_type": "stream",
     "text": [
      "Class ratio = 0.0703883495145631\n"
     ]
    }
   ],
   "source": [
    "print(f\"Class ratio = {train_df['TARGET'].sum()/train_df.shape[0]}\" )"
   ]
  },
  {
   "cell_type": "code",
   "execution_count": 36,
   "id": "c6d237a2-55df-48db-b3ef-c6f776140da2",
   "metadata": {},
   "outputs": [
    {
     "name": "stdout",
     "output_type": "stream",
     "text": [
      "FOLD-0: AUC score=0.702\n",
      "FOLD-1: AUC score=0.737\n",
      "FOLD-2: AUC score=0.682\n",
      "FOLD-3: AUC score=0.701\n",
      "FOLD-4: AUC score=0.624\n"
     ]
    },
    {
     "data": {
      "text/plain": [
       "['data/task15/models.pkl']"
      ]
     },
     "execution_count": 36,
     "metadata": {},
     "output_type": "execute_result"
    }
   ],
   "source": [
    "skf = StratifiedKFold(n_splits=5,\n",
    "                      shuffle=True,\n",
    "                      random_state=42)\n",
    "\n",
    "models = []\n",
    "for fold, (train_idx, val_idx) in enumerate(skf.split(train_df,\n",
    "                                                      train_df['TARGET'],\n",
    "                                                      groups=train_df['TARGET'])):\n",
    "    train_set = train_df.loc[train_idx]\n",
    "    val_set = train_df.loc[val_idx]\n",
    "\n",
    "    model = GradientBoostingClassifier().fit(train_set[num_columns+dummy_columns],\n",
    "                                     train_set['TARGET'])\n",
    "    models.append(model)\n",
    "\n",
    "    y_pred = model.predict_proba(val_set[num_columns+dummy_columns])[:, 1]\n",
    "\n",
    "    auc_score = roc_auc_score(val_set['TARGET'], y_pred)\n",
    "    print(f\"FOLD-{fold}: AUC score={np.round(auc_score, 3)}\")\n",
    "\n",
    "joblib.dump(models, 'data/task15/models.pkl')"
   ]
  },
  {
   "cell_type": "markdown",
   "id": "4e518bba-e0f6-4104-a500-76b71e1f3112",
   "metadata": {},
   "source": [
    "Problem 3 Estimation on test data"
   ]
  },
  {
   "cell_type": "code",
   "execution_count": 42,
   "id": "721a7f68-a8f0-4a2a-b190-bfd359cee5a3",
   "metadata": {},
   "outputs": [],
   "source": [
    "test_df = pd.read_csv('data/task15/application_test.csv')"
   ]
  },
  {
   "cell_type": "code",
   "execution_count": 45,
   "id": "44afad2b-e31c-4529-8634-148012280d5c",
   "metadata": {},
   "outputs": [],
   "source": [
    "missing_values = joblib.load('data/task15/missing_values.pkl')\n",
    "for col in missing_values.keys():\n",
    "    test_df.loc[test_df[col].isnull(), col] = missing_values[col]"
   ]
  },
  {
   "cell_type": "code",
   "execution_count": 46,
   "id": "b4da36a9-c78b-45c8-bae2-88e8313e69d0",
   "metadata": {},
   "outputs": [
    {
     "ename": "ValueError",
     "evalue": "y contains previously unseen labels: 0",
     "output_type": "error",
     "traceback": [
      "\u001b[1;31m---------------------------------------------------------------------------\u001b[0m",
      "\u001b[1;31mKeyError\u001b[0m                                  Traceback (most recent call last)",
      "File \u001b[1;32m~\\AppData\\Local\\Programs\\Python\\Python310\\lib\\site-packages\\sklearn\\utils\\_encode.py:225\u001b[0m, in \u001b[0;36m_encode\u001b[1;34m(values, uniques, check_unknown)\u001b[0m\n\u001b[0;32m    224\u001b[0m \u001b[38;5;28;01mtry\u001b[39;00m:\n\u001b[1;32m--> 225\u001b[0m     \u001b[38;5;28;01mreturn\u001b[39;00m \u001b[43m_map_to_integer\u001b[49m\u001b[43m(\u001b[49m\u001b[43mvalues\u001b[49m\u001b[43m,\u001b[49m\u001b[43m \u001b[49m\u001b[43muniques\u001b[49m\u001b[43m)\u001b[49m\n\u001b[0;32m    226\u001b[0m \u001b[38;5;28;01mexcept\u001b[39;00m \u001b[38;5;167;01mKeyError\u001b[39;00m \u001b[38;5;28;01mas\u001b[39;00m e:\n",
      "File \u001b[1;32m~\\AppData\\Local\\Programs\\Python\\Python310\\lib\\site-packages\\sklearn\\utils\\_encode.py:165\u001b[0m, in \u001b[0;36m_map_to_integer\u001b[1;34m(values, uniques)\u001b[0m\n\u001b[0;32m    164\u001b[0m table \u001b[38;5;241m=\u001b[39m _nandict({val: i \u001b[38;5;28;01mfor\u001b[39;00m i, val \u001b[38;5;129;01min\u001b[39;00m \u001b[38;5;28menumerate\u001b[39m(uniques)})\n\u001b[1;32m--> 165\u001b[0m \u001b[38;5;28;01mreturn\u001b[39;00m np\u001b[38;5;241m.\u001b[39marray([table[v] \u001b[38;5;28;01mfor\u001b[39;00m v \u001b[38;5;129;01min\u001b[39;00m values])\n",
      "File \u001b[1;32m~\\AppData\\Local\\Programs\\Python\\Python310\\lib\\site-packages\\sklearn\\utils\\_encode.py:165\u001b[0m, in \u001b[0;36m<listcomp>\u001b[1;34m(.0)\u001b[0m\n\u001b[0;32m    164\u001b[0m table \u001b[38;5;241m=\u001b[39m _nandict({val: i \u001b[38;5;28;01mfor\u001b[39;00m i, val \u001b[38;5;129;01min\u001b[39;00m \u001b[38;5;28menumerate\u001b[39m(uniques)})\n\u001b[1;32m--> 165\u001b[0m \u001b[38;5;28;01mreturn\u001b[39;00m np\u001b[38;5;241m.\u001b[39marray([\u001b[43mtable\u001b[49m\u001b[43m[\u001b[49m\u001b[43mv\u001b[49m\u001b[43m]\u001b[49m \u001b[38;5;28;01mfor\u001b[39;00m v \u001b[38;5;129;01min\u001b[39;00m values])\n",
      "File \u001b[1;32m~\\AppData\\Local\\Programs\\Python\\Python310\\lib\\site-packages\\sklearn\\utils\\_encode.py:159\u001b[0m, in \u001b[0;36m_nandict.__missing__\u001b[1;34m(self, key)\u001b[0m\n\u001b[0;32m    158\u001b[0m     \u001b[38;5;28;01mreturn\u001b[39;00m \u001b[38;5;28mself\u001b[39m\u001b[38;5;241m.\u001b[39mnan_value\n\u001b[1;32m--> 159\u001b[0m \u001b[38;5;28;01mraise\u001b[39;00m \u001b[38;5;167;01mKeyError\u001b[39;00m(key)\n",
      "\u001b[1;31mKeyError\u001b[0m: 0",
      "\nDuring handling of the above exception, another exception occurred:\n",
      "\u001b[1;31mValueError\u001b[0m                                Traceback (most recent call last)",
      "Cell \u001b[1;32mIn[46], line 3\u001b[0m\n\u001b[0;32m      1\u001b[0m encoders \u001b[38;5;241m=\u001b[39m joblib\u001b[38;5;241m.\u001b[39mload(\u001b[38;5;124m'\u001b[39m\u001b[38;5;124mdata/task15/encoders.pkl\u001b[39m\u001b[38;5;124m'\u001b[39m)\n\u001b[0;32m      2\u001b[0m \u001b[38;5;28;01mfor\u001b[39;00m col \u001b[38;5;129;01min\u001b[39;00m encoders\u001b[38;5;241m.\u001b[39mkeys():\n\u001b[1;32m----> 3\u001b[0m     test_df[col] \u001b[38;5;241m=\u001b[39m \u001b[43mencoders\u001b[49m\u001b[43m[\u001b[49m\u001b[43mcol\u001b[49m\u001b[43m]\u001b[49m\u001b[38;5;241;43m.\u001b[39;49m\u001b[43mtransform\u001b[49m\u001b[43m(\u001b[49m\u001b[43mtest_df\u001b[49m\u001b[43m[\u001b[49m\u001b[43mcol\u001b[49m\u001b[43m]\u001b[49m\u001b[43m)\u001b[49m\n",
      "File \u001b[1;32m~\\AppData\\Local\\Programs\\Python\\Python310\\lib\\site-packages\\sklearn\\preprocessing\\_label.py:137\u001b[0m, in \u001b[0;36mLabelEncoder.transform\u001b[1;34m(self, y)\u001b[0m\n\u001b[0;32m    134\u001b[0m \u001b[38;5;28;01mif\u001b[39;00m _num_samples(y) \u001b[38;5;241m==\u001b[39m \u001b[38;5;241m0\u001b[39m:\n\u001b[0;32m    135\u001b[0m     \u001b[38;5;28;01mreturn\u001b[39;00m np\u001b[38;5;241m.\u001b[39marray([])\n\u001b[1;32m--> 137\u001b[0m \u001b[38;5;28;01mreturn\u001b[39;00m \u001b[43m_encode\u001b[49m\u001b[43m(\u001b[49m\u001b[43my\u001b[49m\u001b[43m,\u001b[49m\u001b[43m \u001b[49m\u001b[43muniques\u001b[49m\u001b[38;5;241;43m=\u001b[39;49m\u001b[38;5;28;43mself\u001b[39;49m\u001b[38;5;241;43m.\u001b[39;49m\u001b[43mclasses_\u001b[49m\u001b[43m)\u001b[49m\n",
      "File \u001b[1;32m~\\AppData\\Local\\Programs\\Python\\Python310\\lib\\site-packages\\sklearn\\utils\\_encode.py:227\u001b[0m, in \u001b[0;36m_encode\u001b[1;34m(values, uniques, check_unknown)\u001b[0m\n\u001b[0;32m    225\u001b[0m         \u001b[38;5;28;01mreturn\u001b[39;00m _map_to_integer(values, uniques)\n\u001b[0;32m    226\u001b[0m     \u001b[38;5;28;01mexcept\u001b[39;00m \u001b[38;5;167;01mKeyError\u001b[39;00m \u001b[38;5;28;01mas\u001b[39;00m e:\n\u001b[1;32m--> 227\u001b[0m         \u001b[38;5;28;01mraise\u001b[39;00m \u001b[38;5;167;01mValueError\u001b[39;00m(\u001b[38;5;124mf\u001b[39m\u001b[38;5;124m\"\u001b[39m\u001b[38;5;124my contains previously unseen labels: \u001b[39m\u001b[38;5;132;01m{\u001b[39;00m\u001b[38;5;28mstr\u001b[39m(e)\u001b[38;5;132;01m}\u001b[39;00m\u001b[38;5;124m\"\u001b[39m)\n\u001b[0;32m    228\u001b[0m \u001b[38;5;28;01melse\u001b[39;00m:\n\u001b[0;32m    229\u001b[0m     \u001b[38;5;28;01mif\u001b[39;00m check_unknown:\n",
      "\u001b[1;31mValueError\u001b[0m: y contains previously unseen labels: 0"
     ]
    }
   ],
   "source": [
    "encoders = joblib.load('data/task15/encoders.pkl')\n",
    "for col in encoders.keys():\n",
    "    test_df[col] = encoders[col].transform(test_df[col])"
   ]
  },
  {
   "cell_type": "code",
   "execution_count": 48,
   "id": "c44503db-82fa-4f31-ab0a-12b61bcaa65b",
   "metadata": {},
   "outputs": [
    {
     "name": "stderr",
     "output_type": "stream",
     "text": [
      "  0%|                                                                                           | 0/58 [00:00<?, ?it/s]\n",
      "100%|████████████████████████████████████████████████████████████████████████████████| 11/11 [00:00<00:00, 1231.54it/s]\u001b[A\n",
      "\n",
      "100%|███████████████████████████████████████████████████████████████████████████████████| 2/2 [00:00<00:00, 665.29it/s]\u001b[A\n",
      "\n",
      "100%|███████████████████████████████████████████████████████████████████████████████████| 2/2 [00:00<00:00, 398.96it/s]\u001b[A\n",
      "\n",
      "100%|████████████████████████████████████████████████████████████████████████████████████████████| 2/2 [00:00<?, ?it/s]\u001b[A\n",
      "\n",
      "100%|████████████████████████████████████████████████████████████████████████████████████████████| 2/2 [00:00<?, ?it/s]\u001b[A\n",
      "\n",
      "100%|████████████████████████████████████████████████████████████████████████████████████████████| 2/2 [00:00<?, ?it/s]\u001b[A\n",
      "\n",
      "100%|███████████████████████████████████████████████████████████████████████████████████| 2/2 [00:00<00:00, 200.13it/s]\u001b[A\n",
      " 12%|██████████                                                                         | 7/58 [00:00<00:01, 46.75it/s]\n",
      "100%|█████████████████████████████████████████████████████████████████████████████████| 12/12 [00:00<00:00, 686.86it/s]\u001b[A\n",
      "\n",
      "100%|███████████████████████████████████████████████████████████████████████████████████| 3/3 [00:00<00:00, 210.31it/s]\u001b[A\n",
      "\n",
      "100%|███████████████████████████████████████████████████████████████████████████████████| 4/4 [00:00<00:00, 357.33it/s]\u001b[A\n",
      "\n",
      "100%|████████████████████████████████████████████████████████████████████████████████████████████| 2/2 [00:00<?, ?it/s]\u001b[A\n",
      "\n",
      "100%|███████████████████████████████████████████████████████████████████████████████████| 2/2 [00:00<00:00, 490.99it/s]\u001b[A\n",
      "\n",
      "100%|████████████████████████████████████████████████████████████████████████████████████████████| 2/2 [00:00<?, ?it/s]\u001b[A\n",
      "\n",
      "100%|███████████████████████████████████████████████████████████████████████████████████| 2/2 [00:00<00:00, 570.46it/s]\u001b[A\n",
      "\n",
      "100%|████████████████████████████████████████████████████████████████████████████████████████████| 2/2 [00:00<?, ?it/s]\u001b[A\n",
      "\n",
      "100%|██████████████████████████████████████████████████████████████████████████████████| 2/2 [00:00<00:00, 1309.08it/s]\u001b[A\n",
      " 28%|██████████████████████▌                                                           | 16/58 [00:00<00:00, 67.76it/s]\n",
      "100%|███████████████████████████████████████████████████████████████████████████████████| 8/8 [00:00<00:00, 604.08it/s]\u001b[A\n",
      "\n",
      "100%|███████████████████████████████████████████████████████████████████████████████████| 7/7 [00:00<00:00, 689.76it/s]\u001b[A\n",
      "\n",
      "100%|███████████████████████████████████████████████████████████████████████████████████| 1/1 [00:00<00:00, 113.65it/s]\u001b[A\n",
      "\n",
      "100%|███████████████████████████████████████████████████████████████████████████████████| 2/2 [00:00<00:00, 502.19it/s]\u001b[A\n",
      "\n",
      "100%|███████████████████████████████████████████████████████████████████████████████████| 2/2 [00:00<00:00, 502.49it/s]\u001b[A\n",
      "\n",
      "100%|███████████████████████████████████████████████████████████████████████████████████| 2/2 [00:00<00:00, 478.12it/s]\u001b[A\n",
      "\n",
      "100%|███████████████████████████████████████████████████████████████████████████████████| 2/2 [00:00<00:00, 799.07it/s]\u001b[A\n",
      "\n",
      "100%|███████████████████████████████████████████████████████████████████████████████████| 2/2 [00:00<00:00, 307.31it/s]\u001b[A\n",
      "\n",
      "100%|███████████████████████████████████████████████████████████████████████████████████| 2/2 [00:00<00:00, 399.27it/s]\u001b[A\n",
      "\n",
      "100%|████████████████████████████████████████████████████████████████████████████████████████████| 2/2 [00:00<?, ?it/s]\u001b[A\n",
      "\n",
      "100%|████████████████████████████████████████████████████████████████████████████████████| 1/1 [00:00<00:00, 98.46it/s]\u001b[A\n",
      "\n",
      "100%|████████████████████████████████████████████████████████████████████████████████████████████| 2/2 [00:00<?, ?it/s]\u001b[A\n",
      " 48%|███████████████████████████████████████▌                                          | 28/58 [00:00<00:00, 87.44it/s]\n",
      "100%|████████████████████████████████████████████████████████████████████████████████████████████| 1/1 [00:00<?, ?it/s]\u001b[A\n",
      "\n",
      "100%|███████████████████████████████████████████████████████████████████████████████████| 1/1 [00:00<00:00, 963.32it/s]\u001b[A\n",
      "\n",
      "100%|████████████████████████████████████████████████████████████████████████████████████████████| 1/1 [00:00<?, ?it/s]\u001b[A\n",
      "\n",
      "100%|███████████████████████████████████████████████████████████████████████████████████| 1/1 [00:00<00:00, 199.17it/s]\u001b[A\n",
      "\n",
      "100%|████████████████████████████████████████████████████████████████████████████████████████████| 1/1 [00:00<?, ?it/s]\u001b[A\n",
      "\n",
      "100%|████████████████████████████████████████████████████████████████████████████████████████████| 1/1 [00:00<?, ?it/s]\u001b[A\n",
      "\n",
      "100%|████████████████████████████████████████████████████████████████████████████████████████████| 2/2 [00:00<?, ?it/s]\u001b[A\n",
      "\n",
      "100%|████████████████████████████████████████████████████████████████████████████████████████████| 1/1 [00:00<?, ?it/s]\u001b[A\n",
      "\n",
      "100%|███████████████████████████████████████████████████████████████████████████████████| 1/1 [00:00<00:00, 122.91it/s]\u001b[A\n",
      "\n",
      "100%|████████████████████████████████████████████████████████████████████████████████████████████| 1/1 [00:00<?, ?it/s]\u001b[A\n",
      "\n",
      "100%|███████████████████████████████████████████████████████████████████████████████████| 3/3 [00:00<00:00, 735.93it/s]\u001b[A\n",
      "\n",
      "100%|███████████████████████████████████████████████████████████████████████████████████| 3/3 [00:00<00:00, 653.45it/s]\u001b[A\n",
      "\n",
      "100%|██████████████████████████████████████████████████████████████████████████████████| 3/3 [00:00<00:00, 2490.68it/s]\u001b[A\n",
      "\n",
      "100%|███████████████████████████████████████████████████████████████████████████████████| 8/8 [00:00<00:00, 800.80it/s]\u001b[A\n",
      " 72%|██████████████████████████████████████████████████████████▋                      | 42/58 [00:00<00:00, 101.08it/s]\n",
      "100%|███████████████████████████████████████████████████████████████████████████████████| 2/2 [00:00<00:00, 200.62it/s]\u001b[A\n",
      "\n",
      "100%|████████████████████████████████████████████████████████████████████████████████████████████| 2/2 [00:00<?, ?it/s]\u001b[A\n",
      "\n",
      "100%|███████████████████████████████████████████████████████████████████████████████████| 2/2 [00:00<00:00, 263.96it/s]\u001b[A\n",
      "\n",
      "100%|████████████████████████████████████████████████████████████████████████████████████████████| 2/2 [00:00<?, ?it/s]\u001b[A\n",
      "\n",
      "100%|███████████████████████████████████████████████████████████████████████████████████| 8/8 [00:00<00:00, 224.70it/s]\u001b[A\n",
      "\n",
      "100%|███████████████████████████████████████████████████████████████████████████████████| 7/7 [00:00<00:00, 212.97it/s]\u001b[A\n",
      "\n",
      "100%|███████████████████████████████████████████████████████████████████████████████████| 5/5 [00:00<00:00, 200.27it/s]\u001b[A\n",
      "\n",
      "100%|███████████████████████████████████████████████████████████████████████████████████| 5/5 [00:00<00:00, 208.56it/s]\u001b[A\n",
      "\n",
      "100%|███████████████████████████████████████████████████████████████████████████████████| 6/6 [00:00<00:00, 181.89it/s]\u001b[A\n",
      "\n",
      "100%|█████████████████████████████████████████████████████████████████████████████████| 19/19 [00:00<00:00, 211.77it/s]\u001b[A\n",
      "\n",
      "100%|███████████████████████████████████████████████████████████████████████████████████| 7/7 [00:00<00:00, 174.45it/s]\u001b[A\n",
      " 91%|██████████████████████████████████████████████████████████████████████████▉       | 53/58 [00:00<00:00, 53.47it/s]\n",
      "  0%|                                                                                           | 0/58 [00:00<?, ?it/s]\u001b[A\n",
      " 29%|███████████████████████▋                                                         | 17/58 [00:00<00:00, 161.81it/s]\u001b[A\n",
      "100%|█████████████████████████████████████████████████████████████████████████████████| 58/58 [00:00<00:00, 196.49it/s]\u001b[A\n",
      "\n",
      "100%|███████████████████████████████████████████████████████████████████████████████████| 5/5 [00:00<00:00, 273.85it/s]\u001b[A\n",
      "\n",
      "100%|███████████████████████████████████████████████████████████████████████████████████| 4/4 [00:00<00:00, 408.11it/s]\u001b[A\n",
      "\n",
      "100%|███████████████████████████████████████████████████████████████████████████████████| 8/8 [00:00<00:00, 243.43it/s]\u001b[A\n",
      "\n",
      "100%|███████████████████████████████████████████████████████████████████████████████████| 3/3 [00:00<00:00, 302.13it/s]\u001b[A\n",
      "100%|██████████████████████████████████████████████████████████████████████████████████| 58/58 [00:01<00:00, 45.68it/s]\n"
     ]
    }
   ],
   "source": [
    "    ## dummy\n",
    "cat_cols = ['CNT_CHILDREN', 'FLAG_MOBIL', 'FLAG_EMP_PHONE', 'FLAG_WORK_PHONE', 'FLAG_CONT_MOBILE', 'FLAG_PHONE', 'FLAG_EMAIL', 'CNT_FAM_MEMBERS', 'REGION_RATING_CLIENT', 'REGION_RATING_CLIENT_W_CITY', 'REG_REGION_NOT_LIVE_REGION', 'REG_REGION_NOT_WORK_REGION', 'LIVE_REGION_NOT_WORK_REGION', 'REG_CITY_NOT_LIVE_CITY', 'REG_CITY_NOT_WORK_CITY', 'LIVE_CITY_NOT_WORK_CITY', 'DEF_30_CNT_SOCIAL_CIRCLE', 'DEF_60_CNT_SOCIAL_CIRCLE', 'FLAG_DOCUMENT_2', 'FLAG_DOCUMENT_3', 'FLAG_DOCUMENT_4', 'FLAG_DOCUMENT_5', 'FLAG_DOCUMENT_6', 'FLAG_DOCUMENT_7', 'FLAG_DOCUMENT_8', 'FLAG_DOCUMENT_9', 'FLAG_DOCUMENT_10', 'FLAG_DOCUMENT_11', 'FLAG_DOCUMENT_12', 'FLAG_DOCUMENT_13', 'FLAG_DOCUMENT_14', 'FLAG_DOCUMENT_15', 'FLAG_DOCUMENT_16', 'FLAG_DOCUMENT_17', 'FLAG_DOCUMENT_18', 'FLAG_DOCUMENT_19', 'FLAG_DOCUMENT_20', 'FLAG_DOCUMENT_21', 'AMT_REQ_CREDIT_BUREAU_HOUR', 'AMT_REQ_CREDIT_BUREAU_DAY', 'AMT_REQ_CREDIT_BUREAU_WEEK', 'AMT_REQ_CREDIT_BUREAU_QRT', 'NAME_CONTRACT_TYPE', 'CODE_GENDER', 'FLAG_OWN_CAR', 'FLAG_OWN_REALTY', 'NAME_TYPE_SUITE', 'NAME_INCOME_TYPE', 'NAME_EDUCATION_TYPE', 'NAME_FAMILY_STATUS', 'NAME_HOUSING_TYPE', 'OCCUPATION_TYPE', 'WEEKDAY_APPR_PROCESS_START', 'ORGANIZATION_TYPE', 'FONDKAPREMONT_MODE', 'HOUSETYPE_MODE', 'WALLSMATERIAL_MODE', 'EMERGENCYSTATE_MODE']\n",
    "    for col in tqdm(cat_cols, total=len(cat_cols)):\n",
    "        for value in tqdm(test_df[col].unique()):\n",
    "            test_df[f'dummy_{col}_{value}'] = 0\n",
    "            test_df.loc[test_df[col]==value, f'dummy_{col}_{value}'] = 1"
   ]
  },
  {
   "cell_type": "code",
   "execution_count": 49,
   "id": "1dd319d0-8883-4455-b734-147265c018d5",
   "metadata": {},
   "outputs": [],
   "source": [
    "models = joblib.load('data/task15/models.pkl')\n",
    "num_columns = joblib.load('data/task15/num_columns.pkl')\n",
    "dummy_columns = joblib.load('data/task15/dummy_columns.pkl')\n",
    "\n",
    "for col in dummy_columns:\n",
    "    if col not in test_df.columns:\n",
    "        test_df[col] = 0\n",
    "\n",
    "y_pred = np.zeros(test_df.shape[0])\n",
    "for model in models:\n",
    "    y_pred += model.predict_proba(test_df[num_columns+dummy_columns])[:, 1]/len(models)\n",
    "\n",
    "test_df['TARGET'] = y_pred\n",
    "test_df[['SK_ID_CURR', 'TARGET']].to_csv('data/task15/submission.csv', index=False)"
   ]
  },
  {
   "cell_type": "code",
   "execution_count": null,
   "id": "3c004d5d-c775-426e-ad31-f11cd94e8005",
   "metadata": {},
   "outputs": [],
   "source": []
  }
 ],
 "metadata": {
  "kernelspec": {
   "display_name": "Python 3 (ipykernel)",
   "language": "python",
   "name": "python3"
  },
  "language_info": {
   "codemirror_mode": {
    "name": "ipython",
    "version": 3
   },
   "file_extension": ".py",
   "mimetype": "text/x-python",
   "name": "python",
   "nbconvert_exporter": "python",
   "pygments_lexer": "ipython3",
   "version": "3.10.11"
  }
 },
 "nbformat": 4,
 "nbformat_minor": 5
}
