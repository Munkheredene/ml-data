{
 "cells": [
  {
   "cell_type": "markdown",
   "id": "cf19e0cf-2e39-4262-8e84-fa723415238a",
   "metadata": {},
   "source": [
    "Problem 1 Execution of various methods\n",
    "Keras provides 4 types of Reccurent layers. All but SimpleRNN are gated recurrent neural networks."
   ]
  },
  {
   "cell_type": "code",
   "execution_count": 1,
   "id": "045eef9f-0486-4266-a98e-8f9c48cdf697",
   "metadata": {},
   "outputs": [],
   "source": [
    "from __future__ import print_function\n",
    "from keras.preprocessing import sequence\n",
    "from keras.models import Sequential\n",
    "from keras.layers import Dense, Embedding,SimpleRNN,LSTM\n",
    "from keras.layers import LSTM\n",
    "from keras.datasets import imdb\n",
    "from keras import backend as K"
   ]
  },
  {
   "cell_type": "code",
   "execution_count": 2,
   "id": "7b552c53-736f-45ec-b9f6-ab33e0e2b9b8",
   "metadata": {},
   "outputs": [],
   "source": [
    "from keras.layers.convolutional import Conv3D\n",
    "from keras.layers import LSTM  \n",
    "from keras.layers import BatchNormalization\n",
    "import numpy as np\n",
    "import pylab as plt\n",
    "from keras.utils.data_utils import pad_sequences\n",
    "from tensorflow.keras.preprocessing.sequence import pad_sequences"
   ]
  },
  {
   "cell_type": "code",
   "execution_count": 3,
   "id": "cf269f58-dbbc-4086-9c64-ae3ccb627d58",
   "metadata": {},
   "outputs": [
    {
     "name": "stdout",
     "output_type": "stream",
     "text": [
      "Loading data...\n",
      "Downloading data from https://storage.googleapis.com/tensorflow/tf-keras-datasets/imdb.npz\n",
      "17464789/17464789 [==============================] - 3s 0us/step\n",
      "25000 train sequences\n",
      "25000 test sequences\n",
      "Pad sequences (samples x time)\n",
      "x_train shape: (25000, 80)\n",
      "x_test shape: (25000, 80)\n"
     ]
    }
   ],
   "source": [
    "max_features = 20000\n",
    "# cut texts after this number of words (among top max_features most common words)\n",
    "maxlen = 80\n",
    "batch_size = 32\n",
    "\n",
    "print('Loading data...')\n",
    "(x_train, y_train), (x_test, y_test) = imdb.load_data(num_words=max_features)\n",
    "print(len(x_train), 'train sequences')\n",
    "print(len(x_test), 'test sequences')\n",
    "\n",
    "print('Pad sequences (samples x time)')\n",
    "x_train = pad_sequences(x_train, maxlen=maxlen)\n",
    "x_test = pad_sequences(x_test, maxlen=maxlen)\n",
    "print('x_train shape:', x_train.shape)\n",
    "print('x_test shape:', x_test.shape)"
   ]
  },
  {
   "cell_type": "markdown",
   "id": "a0aff01d-3e3d-44ad-ba2f-bcb79823a9d0",
   "metadata": {},
   "source": [
    "Problem 1 Execution of various methods"
   ]
  },
  {
   "cell_type": "code",
   "execution_count": null,
   "id": "bf860918-eb7b-40ac-8aa3-4147da5a5b11",
   "metadata": {},
   "outputs": [
    {
     "name": "stdout",
     "output_type": "stream",
     "text": [
      "Build model...\n",
      "Train...\n",
      "Epoch 1/15\n",
      "782/782 [==============================] - 215s 271ms/step - loss: 0.4315 - accuracy: 0.7964 - val_loss: 0.4010 - val_accuracy: 0.8173\n",
      "Epoch 2/15\n",
      "782/782 [==============================] - 222s 284ms/step - loss: 0.2541 - accuracy: 0.8993 - val_loss: 0.3819 - val_accuracy: 0.8399\n",
      "Epoch 3/15\n",
      "782/782 [==============================] - 220s 282ms/step - loss: 0.1636 - accuracy: 0.9394 - val_loss: 0.4623 - val_accuracy: 0.8217\n",
      "Epoch 4/15\n",
      "782/782 [==============================] - 220s 282ms/step - loss: 0.1090 - accuracy: 0.9597 - val_loss: 0.5139 - val_accuracy: 0.8260\n",
      "Epoch 5/15\n",
      "782/782 [==============================] - 222s 284ms/step - loss: 0.0741 - accuracy: 0.9752 - val_loss: 0.6788 - val_accuracy: 0.8192\n",
      "Epoch 6/15\n",
      "782/782 [==============================] - 225s 288ms/step - loss: 0.0550 - accuracy: 0.9814 - val_loss: 0.6808 - val_accuracy: 0.8148\n",
      "Epoch 7/15\n",
      "782/782 [==============================] - 224s 286ms/step - loss: 0.0381 - accuracy: 0.9882 - val_loss: 0.8647 - val_accuracy: 0.8102\n",
      "Epoch 8/15\n",
      "782/782 [==============================] - 223s 286ms/step - loss: 0.0298 - accuracy: 0.9904 - val_loss: 0.9022 - val_accuracy: 0.8202\n",
      "Epoch 9/15\n",
      "782/782 [==============================] - ETA: 0s - loss: 0.0203 - accuracy: 0.9937"
     ]
    }
   ],
   "source": [
    "print('Build model...')\n",
    "model = Sequential()\n",
    "\n",
    "model.add(Embedding(max_features, 128))\n",
    "model.add(LSTM(128, dropout=0.2, recurrent_dropout=0.2))\n",
    "model.add(Dense(1, activation='sigmoid'))\n",
    "\n",
    "# try using different optimizers and different optimizer configs\n",
    "model.compile(loss='binary_crossentropy',\n",
    "              optimizer='adam',\n",
    "              metrics=['accuracy'])\n",
    "\n",
    "print('Train...')\n",
    "model.fit(x_train, y_train,\n",
    "          batch_size=batch_size,\n",
    "          epochs=15,\n",
    "          validation_data=(x_test, y_test))\n",
    "score, acc = model.evaluate(x_test, y_test,\n",
    "                            batch_size=batch_size)\n",
    "print('Test score:', score)\n",
    "print('Test accuracy:', acc)"
   ]
  },
  {
   "cell_type": "code",
   "execution_count": null,
   "id": "4f05f374-67b7-4227-ad60-f146d1ca8a2c",
   "metadata": {},
   "outputs": [],
   "source": [
    "from keras.layers import SimpleRNN"
   ]
  }
 ],
 "metadata": {
  "kernelspec": {
   "display_name": "Python 3 (ipykernel)",
   "language": "python",
   "name": "python3"
  },
  "language_info": {
   "codemirror_mode": {
    "name": "ipython",
    "version": 3
   },
   "file_extension": ".py",
   "mimetype": "text/x-python",
   "name": "python",
   "nbconvert_exporter": "python",
   "pygments_lexer": "ipython3",
   "version": "3.10.11"
  }
 },
 "nbformat": 4,
 "nbformat_minor": 5
}
