{
 "cells": [
  {
   "cell_type": "code",
   "execution_count": 1,
   "id": "5a4d8dac-ea04-4ff6-9566-19173f3d02e8",
   "metadata": {},
   "outputs": [],
   "source": [
    "import numpy as np\n",
    "import pandas as pd\n",
    "from sklearn.datasets import make_blobs\n",
    "import matplotlib.pyplot as plt\n",
    "from sklearn.decomposition import PCA\n",
    "from sklearn.cluster import KMeans\n",
    "from sklearn.metrics import silhouette_score\n",
    "from sklearn.manifold import TSNE\n",
    "from sklearn.cluster import DBSCAN"
   ]
  },
  {
   "cell_type": "code",
   "execution_count": 2,
   "id": "d69d3551-5e93-44c8-8673-a37da09ffdda",
   "metadata": {},
   "outputs": [],
   "source": [
    "class ScratchKMeans():\n",
    "    def __init__(self, n_clusters, n_init, max_iter, tol, verbose=False, random_state=None):\n",
    "        self.n_clusters = n_clusters\n",
    "        self.n_init = n_init\n",
    "        self.max_iter = max_iter\n",
    "        self.tol = tol\n",
    "        self.verbose = verbose\n",
    "        self.random_state = random_state\n",
    "        self.centroids = None\n",
    "\n",
    "    def fit(self, X):\n",
    "        best_sse = np.inf\n",
    "        best_centroids = None\n",
    "\n",
    "        for _ in range(self.n_init):\n",
    "            # Initialize centroids by randomly selecting data points\n",
    "            np.random.seed(self.random_state)\n",
    "            centroids = X[np.random.choice(X.shape[0], self.n_clusters, replace=False)]\n",
    "\n",
    "            for _ in range(self.max_iter):\n",
    "                # Assign each data point to the nearest centroid\n",
    "                labels = self._assign_clusters(X, centroids)\n",
    "\n",
    "                # Update centroids based on the mean of data points in each cluster\n",
    "                new_centroids = self._update_centroids(X, labels)\n",
    "\n",
    "                # Check for convergence\n",
    "                if np.linalg.norm(new_centroids - centroids) < self.tol:\n",
    "                    break\n",
    "\n",
    "                centroids = new_centroids\n",
    "\n",
    "            # Calculate SSE for the current initialization\n",
    "            _sse = self._calculate_sse(X, centroids)\n",
    "\n",
    "            # Update best result if the current inertia is lower\n",
    "            if _sse < best_sse:\n",
    "                best_sse = _sse\n",
    "                best_centroids = centroids\n",
    "\n",
    "        self.centroids = best_centroids\n",
    "\n",
    "        if self.verbose:\n",
    "            print(f\"Number of iterations: {self.max_iter}\")\n",
    "            print(f\"Best SSE: {best_sse}\")\n",
    "\n",
    "    def _assign_clusters(self, X, centroids):\n",
    "        distances = np.linalg.norm(X[:, np.newaxis] - centroids, axis=2)\n",
    "        labels = np.argmin(distances, axis=1)\n",
    "        return labels\n",
    "\n",
    "    def _update_centroids(self, X, labels):\n",
    "        new_centroids = np.array([X[labels == k].mean(axis=0) for\n",
    "                                  k in range(self.n_clusters)])\n",
    "        return new_centroids\n",
    "\n",
    "    def _calculate_sse(self, X, centroids):\n",
    "        distances = np.linalg.norm(X[:, np.newaxis] - centroids, axis=2)\n",
    "        #min_distances = np.min(distances, axis=1)\n",
    "        sse = np.sum(distances**2)\n",
    "        return sse\n",
    "\n",
    "    def predict(self, X):\n",
    "        labels = self._assign_clusters(X, self.centroids)\n",
    "        return labels, self.centroids"
   ]
  },
  {
   "cell_type": "code",
   "execution_count": 3,
   "id": "72951435-7ae6-41ec-a331-ec61f12de450",
   "metadata": {},
   "outputs": [],
   "source": [
    "def calculate_sse(X, n_clusters, labels, centroids):\n",
    "    \"\"\"\n",
    "    Calculates the sum of squared errors (SSE).\n",
    "\n",
    "    Args:\n",
    "        X (np.ndarray): The data matrix of shape (N, D).\n",
    "        r (np.ndarray): The cluster assignment matrix of shape (N, K).\n",
    "        mu (np.ndarray): The centroids of shape (K, D).\n",
    "\n",
    "    Returns:\n",
    "        float: The sum of squared errors.\n",
    "    \"\"\"\n",
    "    sse = 0\n",
    "    for k in range(n_clusters):\n",
    "        Xk = X[labels == k, :]\n",
    "        if len(Xk) > 0:\n",
    "            sse += np.sum((Xk - centroids[k, :])**2)\n",
    "    return sse"
   ]
  },
  {
   "cell_type": "markdown",
   "id": "95218ea1-7f05-4f90-b8a5-5b5819c9c75e",
   "metadata": {},
   "source": [
    "Test"
   ]
  },
  {
   "cell_type": "code",
   "execution_count": 4,
   "id": "8a0999c2-2407-463a-a56e-74b478225fc1",
   "metadata": {},
   "outputs": [],
   "source": [
    "X, _ = make_blobs(n_samples=100, n_features=2,\n",
    "                  centers=4, cluster_std=0.5,\n",
    "                  shuffle=True, random_state=0)"
   ]
  },
  {
   "cell_type": "code",
   "execution_count": 5,
   "id": "181f32b3-9eef-4b79-9152-23089e91e119",
   "metadata": {},
   "outputs": [
    {
     "name": "stdout",
     "output_type": "stream",
     "text": [
      "Number of iterations: 200\n",
      "Best SSE: 7552.843993824609\n"
     ]
    }
   ],
   "source": [
    "kmeans = ScratchKMeans(n_clusters=4,\n",
    "                       n_init=10,\n",
    "                       max_iter=200,\n",
    "                       tol=1e-4, verbose=True,\n",
    "                       random_state=42)\n",
    "kmeans.fit(X)\n",
    "predicted_labels = kmeans.predict(X)"
   ]
  },
  {
   "cell_type": "markdown",
   "id": "838b3e10-2fcb-4608-a7e0-7fe5caf176cc",
   "metadata": {},
   "source": [
    "elbow method"
   ]
  },
  {
   "cell_type": "code",
   "execution_count": 12,
   "id": "2096284e-fee6-44d4-bffe-acc6d2ea2c5b",
   "metadata": {},
   "outputs": [
    {
     "ename": "NameError",
     "evalue": "name 'elbow_method' is not defined",
     "output_type": "error",
     "traceback": [
      "\u001b[1;31m---------------------------------------------------------------------------\u001b[0m",
      "\u001b[1;31mNameError\u001b[0m                                 Traceback (most recent call last)",
      "Cell \u001b[1;32mIn[12], line 1\u001b[0m\n\u001b[1;32m----> 1\u001b[0m K\u001b[38;5;241m=\u001b[39m\u001b[43melbow_method\u001b[49m(X, max_clusters\u001b[38;5;241m=\u001b[39m\u001b[38;5;241m15\u001b[39m)\n",
      "\u001b[1;31mNameError\u001b[0m: name 'elbow_method' is not defined"
     ]
    }
   ],
   "source": [
    "K = elbow_method(X, max_clusters=15)"
   ]
  },
  {
   "cell_type": "code",
   "execution_count": 10,
   "id": "c3d2bd69-e738-45ad-bfbd-1d183ba402bb",
   "metadata": {},
   "outputs": [
    {
     "ename": "NameError",
     "evalue": "name 'K' is not defined",
     "output_type": "error",
     "traceback": [
      "\u001b[1;31m---------------------------------------------------------------------------\u001b[0m",
      "\u001b[1;31mNameError\u001b[0m                                 Traceback (most recent call last)",
      "Cell \u001b[1;32mIn[10], line 1\u001b[0m\n\u001b[1;32m----> 1\u001b[0m \u001b[38;5;28mprint\u001b[39m(\u001b[38;5;124m\"\u001b[39m\u001b[38;5;124mBest number of cluster:\u001b[39m\u001b[38;5;124m\"\u001b[39m, \u001b[43mK\u001b[49m)\n",
      "\u001b[1;31mNameError\u001b[0m: name 'K' is not defined"
     ]
    }
   ],
   "source": []
  },
  {
   "cell_type": "code",
   "execution_count": null,
   "id": "5396f5d2-7545-42a0-9dc4-6b6a0f25f106",
   "metadata": {},
   "outputs": [],
   "source": []
  }
 ],
 "metadata": {
  "kernelspec": {
   "display_name": "Python 3 (ipykernel)",
   "language": "python",
   "name": "python3"
  },
  "language_info": {
   "codemirror_mode": {
    "name": "ipython",
    "version": 3
   },
   "file_extension": ".py",
   "mimetype": "text/x-python",
   "name": "python",
   "nbconvert_exporter": "python",
   "pygments_lexer": "ipython3",
   "version": "3.10.11"
  }
 },
 "nbformat": 4,
 "nbformat_minor": 5
}
