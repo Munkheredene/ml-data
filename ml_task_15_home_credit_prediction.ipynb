{
 "cells": [
  {
   "cell_type": "markdown",
   "id": "ada75f46-da4a-4fcf-a04a-eea6f44f4cfb",
   "metadata": {},
   "source": [
    "Problem 1 Confirmation of competition contents"
   ]
  },
  {
   "cell_type": "code",
   "execution_count": 1,
   "id": "44de8047-813a-4c2c-8691-682445a19deb",
   "metadata": {},
   "outputs": [],
   "source": [
    "import gc\n",
    "import joblib\n",
    "import warnings\n",
    "import pandas as pd\n",
    "import numpy as np\n",
    "from tqdm import tqdm\n",
    "from scipy import stats\n",
    "from sklearn.svm import SVC\n",
    "from sklearn.metrics import roc_auc_score\n",
    "from sklearn.linear_model import LogisticRegression\n",
    "from sklearn.neighbors import KNeighborsClassifier\n",
    "from sklearn.tree import DecisionTreeClassifier\n",
    "from sklearn.ensemble import (RandomForestClassifier,\n",
    "                              GradientBoostingClassifier)\n",
    "from sklearn.model_selection import StratifiedKFold\n",
    "from sklearn.preprocessing import LabelEncoder\n",
    "\n",
    "warnings.filterwarnings('ignore')\n",
    "\n",
    "gc.enable()"
   ]
  },
  {
   "cell_type": "markdown",
   "id": "51b4141f-6829-4b06-aba9-172a5b541d56",
   "metadata": {},
   "source": [
    "Problem 2 Learning and verification"
   ]
  },
  {
   "cell_type": "code",
   "execution_count": 4,
   "id": "a1b60cbb-5efc-4248-aa08-90cc090088cd",
   "metadata": {},
   "outputs": [
    {
     "data": {
      "text/plain": [
       "2707"
      ]
     },
     "execution_count": 4,
     "metadata": {},
     "output_type": "execute_result"
    }
   ],
   "source": [
    "DEBUG = False\n",
    "REMOVE_OUTLIERS=True\n",
    "\n",
    "if DEBUG:\n",
    "    train_df = pd.read_csv('data/home_credit/application_train.csv', nrows=1000)\n",
    "    test_df = pd.read_csv('data/home_credit/application_test.csv', nrows=1000)\n",
    "else:\n",
    "    train_df = pd.read_csv('data/home_credit/application_train.csv')\n",
    "    test_df = pd.read_csv('data/home_credit/application_test.csv')\n",
    "\n",
    "train_df['isTrain'] = 'Train'\n",
    "test_df['isTrain'] = 'Test'\n",
    "\n",
    "test_df['TARGET'] = np.nan\n",
    "\n",
    "df = pd.concat([train_df, test_df[train_df.columns]], axis=0)\n",
    "df = df.reset_index(drop=True)\n",
    "\n",
    "del train_df, test_df\n",
    "gc.collect()"
   ]
  },
  {
   "cell_type": "code",
   "execution_count": 5,
   "id": "7b0e4150-a61d-4bc0-90d8-5875c86a487d",
   "metadata": {},
   "outputs": [
    {
     "data": {
      "text/plain": [
       "(356255, 123)"
      ]
     },
     "execution_count": 5,
     "metadata": {},
     "output_type": "execute_result"
    }
   ],
   "source": [
    "df.shape"
   ]
  },
  {
   "cell_type": "markdown",
   "id": "3f312afe-1712-4a19-96f2-5e75b3e9d512",
   "metadata": {},
   "source": [
    "Problem 4 Feature engineering"
   ]
  },
  {
   "cell_type": "code",
   "execution_count": 7,
   "id": "c3462b85-01b2-4de6-80ce-3f76ac7ab6a0",
   "metadata": {},
   "outputs": [
    {
     "name": "stdout",
     "output_type": "stream",
     "text": [
      "Number of cat columns: 58\n",
      "Number of numerical columns: 62\n"
     ]
    }
   ],
   "source": [
    "num_columns = []\n",
    "cat_columns = []\n",
    "should_be_encode = []\n",
    "not_useful_columns = ['SK_ID_CURR', 'TARGET', 'isTrain']\n",
    "\n",
    "for col in df.columns:\n",
    "    if col not in not_useful_columns:\n",
    "        unique_len = len(df[col].unique())\n",
    "        data_type = df[col].dtype\n",
    "\n",
    "        if unique_len<=20 and data_type!=\"object\":\n",
    "            cat_columns.append(col)\n",
    "        elif data_type=='object':\n",
    "            should_be_encode.append(col)\n",
    "        else:\n",
    "            num_columns.append(col)\n",
    "\n",
    "print('Number of cat columns:', len(cat_columns+should_be_encode))\n",
    "print('Number of numerical columns:', len(num_columns))"
   ]
  },
  {
   "cell_type": "code",
   "execution_count": 8,
   "id": "2bcd4ff6-800f-4b23-9eb0-47a620ef295b",
   "metadata": {},
   "outputs": [],
   "source": [
    "missing_values = {}\n",
    "for col in num_columns:\n",
    "    num_missing_values = df[col].isnull().sum()\n",
    "    if num_missing_values>0:\n",
    "        df[col] = df[col].fillna(np.nanmean(df[col].values))\n",
    "        missing_values[col] = np.nanmean(df[col].values)"
   ]
  },
  {
   "cell_type": "code",
   "execution_count": 9,
   "id": "aa512aee-e9d5-4732-9be9-bdb5fa1e887c",
   "metadata": {},
   "outputs": [
    {
     "data": {
      "text/plain": [
       "{'AMT_ANNUITY': 27425.560656506248,\n",
       " 'AMT_GOODS_PRICE': 528019.9978004196,\n",
       " 'OWN_CAR_AGE': 12.023741054753998,\n",
       " 'EXT_SOURCE_1': 0.5019647173606229,\n",
       " 'EXT_SOURCE_2': 0.5148899751498333,\n",
       " 'EXT_SOURCE_3': 0.5093502021860116,\n",
       " 'APARTMENTS_AVG': 0.11813799565530579,\n",
       " 'BASEMENTAREA_AVG': 0.08867263218785101,\n",
       " 'YEARS_BEGINEXPLUATATION_AVG': 0.977889190913453,\n",
       " 'YEARS_BUILD_AVG': 0.7522831436693929,\n",
       " 'COMMONAREA_AVG': 0.045045127207006805,\n",
       " 'ELEVATORS_AVG': 0.07981886765365634,\n",
       " 'ENTRANCES_AVG': 0.15001510278440014,\n",
       " 'FLOORSMAX_AVG': 0.2273310098158009,\n",
       " 'FLOORSMIN_AVG': 0.2328165692549523,\n",
       " 'LANDAREA_AVG': 0.06645421391779162,\n",
       " 'LIVINGAPARTMENTS_AVG': 0.10149499540944239,\n",
       " 'LIVINGAREA_AVG': 0.10808933183069531,\n",
       " 'NONLIVINGAPARTMENTS_AVG': 0.008868181984386712,\n",
       " 'NONLIVINGAREA_AVG': 0.02850312046308469,\n",
       " 'APARTMENTS_MODE': 0.11491437095520877,\n",
       " 'BASEMENTAREA_MODE': 0.08774972119646735,\n",
       " 'YEARS_BEGINEXPLUATATION_MODE': 0.9772385752922698,\n",
       " 'YEARS_BUILD_MODE': 0.7594524439553474,\n",
       " 'COMMONAREA_MODE': 0.0429304796329765,\n",
       " 'ELEVATORS_MODE': 0.07534643816360101,\n",
       " 'ENTRANCES_MODE': 0.14547112253160002,\n",
       " 'FLOORSMAX_MODE': 0.22331479818135327,\n",
       " 'FLOORSMIN_MODE': 0.2288777849184086,\n",
       " 'LANDAREA_MODE': 0.06509245517876915,\n",
       " 'LIVINGAPARTMENTS_MODE': 0.1063818328683923,\n",
       " 'LIVINGAREA_MODE': 0.10664057290878201,\n",
       " 'NONLIVINGAPARTMENTS_MODE': 0.008115959741850557,\n",
       " 'NONLIVINGAREA_MODE': 0.027183161462779378,\n",
       " 'APARTMENTS_MEDI': 0.11854904116115642,\n",
       " 'BASEMENTAREA_MEDI': 0.08817830982504994,\n",
       " 'YEARS_BEGINEXPLUATATION_MEDI': 0.9779032754972954,\n",
       " 'YEARS_BUILD_MEDI': 0.7555483438794822,\n",
       " 'COMMONAREA_MEDI': 0.044994403818527255,\n",
       " 'ELEVATORS_MEDI': 0.07893034245551069,\n",
       " 'ENTRANCES_MEDI': 0.14949398981152442,\n",
       " 'FLOORSMAX_MEDI': 0.2269220577609303,\n",
       " 'FLOORSMIN_MEDI': 0.23250437614527508,\n",
       " 'LANDAREA_MEDI': 0.0672956069348261,\n",
       " 'LIVINGAPARTMENTS_MEDI': 0.10267445972668529,\n",
       " 'LIVINGAREA_MEDI': 0.10927921705830572,\n",
       " 'NONLIVINGAPARTMENTS_MEDI': 0.008697156151160026,\n",
       " 'NONLIVINGAREA_MEDI': 0.028385637644947614,\n",
       " 'TOTALAREA_MODE': 0.10319287473002153,\n",
       " 'OBS_30_CNT_SOCIAL_CIRCLE': 1.4257288044931797,\n",
       " 'OBS_60_CNT_SOCIAL_CIRCLE': 1.4094677721315862,\n",
       " 'DAYS_LAST_PHONE_CHANGE': -978.5808524255165,\n",
       " 'AMT_REQ_CREDIT_BUREAU_MON': 0.23169747997162177,\n",
       " 'AMT_REQ_CREDIT_BUREAU_YEAR': 1.9115641410231068}"
      ]
     },
     "execution_count": 9,
     "metadata": {},
     "output_type": "execute_result"
    }
   ],
   "source": [
    "missing_values"
   ]
  },
  {
   "cell_type": "code",
   "execution_count": 10,
   "id": "f8f45a57-f31a-48f9-8458-117906e28ef1",
   "metadata": {},
   "outputs": [],
   "source": [
    "for col in should_be_encode:\n",
    "    num_missing_values = df[col].isnull().sum()\n",
    "    if num_missing_values > 0:\n",
    "        df[col] = df[col].fillna(df[col].mode())\n",
    "        missing_values[col] = (df[col].mode())"
   ]
  },
  {
   "cell_type": "code",
   "execution_count": 11,
   "id": "d61f358c-e9fd-49d0-8beb-c0d0b75cbe6a",
   "metadata": {},
   "outputs": [],
   "source": [
    "for col in cat_columns:\n",
    "    num_missing_values = df[col].isnull().sum()\n",
    "    if num_missing_values > 0:\n",
    "        df[col] = df[col].fillna(df[col].median())\n",
    "        missing_values[col] = (df[col].median())"
   ]
  },
  {
   "cell_type": "code",
   "execution_count": 13,
   "id": "3270dec3-46bf-418b-ab02-0568eb8fb9a3",
   "metadata": {},
   "outputs": [
    {
     "data": {
      "text/plain": [
       "['data/home_credit/missing_values.pkl']"
      ]
     },
     "execution_count": 13,
     "metadata": {},
     "output_type": "execute_result"
    }
   ],
   "source": [
    "joblib.dump(missing_values, 'data/home_credit/missing_values.pkl')"
   ]
  },
  {
   "cell_type": "code",
   "execution_count": 14,
   "id": "efba3f3f-4d11-49a7-a50e-5c9a93fc48be",
   "metadata": {},
   "outputs": [
    {
     "data": {
      "text/plain": [
       "['data/home_credit/encoders.pkl']"
      ]
     },
     "execution_count": 14,
     "metadata": {},
     "output_type": "execute_result"
    }
   ],
   "source": [
    "encoders = {}\n",
    "for col in should_be_encode:\n",
    "    encoder = LabelEncoder().fit(df[col])\n",
    "    encoders[col] = encoder\n",
    "    df[col] = encoder.transform(df[col])\n",
    "\n",
    "joblib.dump(encoders, \"data/home_credit/encoders.pkl\",)"
   ]
  },
  {
   "cell_type": "code",
   "execution_count": 15,
   "id": "9b8e2686-e362-4934-8cd1-8aced5dd756a",
   "metadata": {},
   "outputs": [
    {
     "data": {
      "text/plain": [
       "818"
      ]
     },
     "execution_count": 15,
     "metadata": {},
     "output_type": "execute_result"
    }
   ],
   "source": [
    "for col in cat_columns+should_be_encode+num_columns:\n",
    "    if df[col].isnull().sum()>0:\n",
    "        print(col, df[col].dtype, df[col].isnull().sum())\n",
    "cat_columns = cat_columns + should_be_encode\n",
    "del should_be_encode\n",
    "gc.collect()"
   ]
  },
  {
   "cell_type": "code",
   "execution_count": 16,
   "id": "afa2cb44-b480-4398-82d0-9a8d48949e85",
   "metadata": {},
   "outputs": [
    {
     "name": "stderr",
     "output_type": "stream",
     "text": [
      "  0%|                                                                                           | 0/58 [00:00<?, ?it/s]\n",
      "100%|█████████████████████████████████████████████████████████████████████████████████| 16/16 [00:00<00:00, 290.10it/s]\u001b[A\n",
      "\n",
      "100%|███████████████████████████████████████████████████████████████████████████████████| 2/2 [00:00<00:00, 249.31it/s]\u001b[A\n",
      "\n",
      "100%|███████████████████████████████████████████████████████████████████████████████████| 2/2 [00:00<00:00, 167.42it/s]\u001b[A\n",
      "  5%|████▎                                                                              | 3/58 [00:00<00:01, 27.61it/s]\n",
      "100%|███████████████████████████████████████████████████████████████████████████████████| 2/2 [00:00<00:00, 214.81it/s]\u001b[A\n",
      "\n",
      "100%|███████████████████████████████████████████████████████████████████████████████████| 2/2 [00:00<00:00, 322.21it/s]\u001b[A\n",
      "\n",
      "100%|███████████████████████████████████████████████████████████████████████████████████| 2/2 [00:00<00:00, 158.19it/s]\u001b[A\n",
      "\n",
      "100%|███████████████████████████████████████████████████████████████████████████████████| 2/2 [00:00<00:00, 224.70it/s]\u001b[A\n",
      "\n",
      "100%|█████████████████████████████████████████████████████████████████████████████████| 18/18 [00:00<00:00, 287.37it/s]\u001b[A\n",
      " 14%|███████████▍                                                                       | 8/58 [00:00<00:01, 30.44it/s]\n",
      "100%|███████████████████████████████████████████████████████████████████████████████████| 3/3 [00:00<00:00, 193.51it/s]\u001b[A\n",
      "\n",
      "100%|███████████████████████████████████████████████████████████████████████████████████| 4/4 [00:00<00:00, 214.66it/s]\u001b[A\n",
      "\n",
      "100%|███████████████████████████████████████████████████████████████████████████████████| 2/2 [00:00<00:00, 235.54it/s]\u001b[A\n",
      "\n",
      "100%|███████████████████████████████████████████████████████████████████████████████████| 2/2 [00:00<00:00, 211.33it/s]\u001b[A\n",
      " 21%|████████████████▉                                                                 | 12/58 [00:00<00:01, 33.43it/s]\n",
      "100%|███████████████████████████████████████████████████████████████████████████████████| 2/2 [00:00<00:00, 240.26it/s]\u001b[A\n",
      "\n",
      "100%|███████████████████████████████████████████████████████████████████████████████████| 2/2 [00:00<00:00, 197.07it/s]\u001b[A\n",
      "\n",
      "100%|███████████████████████████████████████████████████████████████████████████████████| 2/2 [00:00<00:00, 150.65it/s]\u001b[A\n",
      "\n",
      "100%|███████████████████████████████████████████████████████████████████████████████████| 2/2 [00:00<00:00, 159.67it/s]\u001b[A\n",
      " 28%|██████████████████████▌                                                           | 16/58 [00:00<00:01, 35.65it/s]\n",
      "100%|█████████████████████████████████████████████████████████████████████████████████| 10/10 [00:00<00:00, 294.02it/s]\u001b[A\n",
      "\n",
      "100%|███████████████████████████████████████████████████████████████████████████████████| 9/9 [00:00<00:00, 146.20it/s]\u001b[A\n",
      "\n",
      "100%|███████████████████████████████████████████████████████████████████████████████████| 2/2 [00:00<00:00, 196.17it/s]\u001b[A\n",
      "\n",
      "100%|███████████████████████████████████████████████████████████████████████████████████| 2/2 [00:00<00:00, 173.51it/s]\u001b[A\n",
      " 34%|████████████████████████████▎                                                     | 20/58 [00:00<00:01, 30.10it/s]\n",
      "100%|███████████████████████████████████████████████████████████████████████████████████| 2/2 [00:00<00:00, 234.24it/s]\u001b[A\n",
      "\n",
      "100%|███████████████████████████████████████████████████████████████████████████████████| 2/2 [00:00<00:00, 266.36it/s]\u001b[A\n",
      "\n",
      "100%|███████████████████████████████████████████████████████████████████████████████████| 2/2 [00:00<00:00, 226.39it/s]\u001b[A\n",
      "\n",
      "100%|███████████████████████████████████████████████████████████████████████████████████| 2/2 [00:00<00:00, 265.20it/s]\u001b[A\n",
      "\n",
      "100%|███████████████████████████████████████████████████████████████████████████████████| 2/2 [00:00<00:00, 235.70it/s]\u001b[A\n",
      "\n",
      "100%|███████████████████████████████████████████████████████████████████████████████████| 2/2 [00:00<00:00, 148.14it/s]\u001b[A\n",
      " 45%|████████████████████████████████████▊                                             | 26/58 [00:00<00:00, 36.53it/s]\n",
      "100%|███████████████████████████████████████████████████████████████████████████████████| 2/2 [00:00<00:00, 254.46it/s]\u001b[A\n",
      "\n",
      "100%|███████████████████████████████████████████████████████████████████████████████████| 2/2 [00:00<00:00, 334.29it/s]\u001b[A\n",
      "\n",
      "100%|███████████████████████████████████████████████████████████████████████████████████| 2/2 [00:00<00:00, 250.47it/s]\u001b[A\n",
      "\n",
      "100%|███████████████████████████████████████████████████████████████████████████████████| 2/2 [00:00<00:00, 281.03it/s]\u001b[A\n",
      "\n",
      "100%|███████████████████████████████████████████████████████████████████████████████████| 2/2 [00:00<00:00, 243.16it/s]\u001b[A\n",
      "\n",
      "100%|███████████████████████████████████████████████████████████████████████████████████| 2/2 [00:00<00:00, 124.65it/s]\u001b[A\n",
      " 55%|█████████████████████████████████████████████▏                                    | 32/58 [00:00<00:00, 42.35it/s]\n",
      "100%|███████████████████████████████████████████████████████████████████████████████████| 2/2 [00:00<00:00, 235.39it/s]\u001b[A\n",
      "\n",
      "100%|███████████████████████████████████████████████████████████████████████████████████| 2/2 [00:00<00:00, 334.59it/s]\u001b[A\n",
      "\n",
      "100%|███████████████████████████████████████████████████████████████████████████████████| 2/2 [00:00<00:00, 233.09it/s]\u001b[A\n",
      "\n",
      "100%|███████████████████████████████████████████████████████████████████████████████████| 2/2 [00:00<00:00, 234.22it/s]\u001b[A\n",
      "\n",
      "100%|███████████████████████████████████████████████████████████████████████████████████| 2/2 [00:00<00:00, 266.68it/s]\u001b[A\n",
      "\n",
      "100%|███████████████████████████████████████████████████████████████████████████████████| 2/2 [00:00<00:00, 268.16it/s]\u001b[A\n",
      " 66%|█████████████████████████████████████████████████████▋                            | 38/58 [00:00<00:00, 46.26it/s]\n",
      "100%|███████████████████████████████████████████████████████████████████████████████████| 5/5 [00:00<00:00, 151.70it/s]\u001b[A\n",
      "\n",
      "100%|███████████████████████████████████████████████████████████████████████████████████| 9/9 [00:00<00:00, 299.08it/s]\u001b[A\n",
      "\n",
      "100%|███████████████████████████████████████████████████████████████████████████████████| 9/9 [00:00<00:00, 289.96it/s]\u001b[A\n",
      "\n",
      "100%|█████████████████████████████████████████████████████████████████████████████████| 11/11 [00:00<00:00, 193.72it/s]\u001b[A\n",
      "\n",
      "100%|███████████████████████████████████████████████████████████████████████████████████| 2/2 [00:00<00:00, 209.87it/s]\u001b[A\n",
      " 74%|████████████████████████████████████████████████████████████▊                     | 43/58 [00:01<00:00, 35.44it/s]\n",
      "100%|███████████████████████████████████████████████████████████████████████████████████| 3/3 [00:00<00:00, 175.68it/s]\u001b[A\n",
      "\n",
      "100%|███████████████████████████████████████████████████████████████████████████████████| 2/2 [00:00<00:00, 137.94it/s]\u001b[A\n",
      "\n",
      "100%|███████████████████████████████████████████████████████████████████████████████████| 2/2 [00:00<00:00, 142.36it/s]\u001b[A\n",
      "\n",
      "100%|███████████████████████████████████████████████████████████████████████████████████| 8/8 [00:00<00:00, 203.19it/s]\u001b[A\n",
      "\n",
      "100%|███████████████████████████████████████████████████████████████████████████████████| 8/8 [00:00<00:00, 210.62it/s]\u001b[A\n",
      " 83%|███████████████████████████████████████████████████████████████████▊              | 48/58 [00:01<00:00, 32.43it/s]\n",
      "100%|███████████████████████████████████████████████████████████████████████████████████| 5/5 [00:00<00:00, 216.45it/s]\u001b[A\n",
      "\n",
      "100%|███████████████████████████████████████████████████████████████████████████████████| 6/6 [00:00<00:00, 151.69it/s]\u001b[A\n",
      "\n",
      "100%|███████████████████████████████████████████████████████████████████████████████████| 6/6 [00:00<00:00, 254.31it/s]\u001b[A\n",
      "\n",
      "100%|█████████████████████████████████████████████████████████████████████████████████| 19/19 [00:00<00:00, 256.27it/s]\u001b[A\n",
      " 90%|█████████████████████████████████████████████████████████████████████████▌        | 52/58 [00:01<00:00, 27.92it/s]\n",
      "100%|███████████████████████████████████████████████████████████████████████████████████| 7/7 [00:00<00:00, 125.79it/s]\u001b[A\n",
      "\n",
      "  0%|                                                                                           | 0/58 [00:00<?, ?it/s]\u001b[A\n",
      " 34%|███████████████████████████▉                                                     | 20/58 [00:00<00:00, 194.30it/s]\u001b[A\n",
      "100%|█████████████████████████████████████████████████████████████████████████████████| 58/58 [00:00<00:00, 245.12it/s]\u001b[A\n",
      "\n",
      "100%|███████████████████████████████████████████████████████████████████████████████████| 5/5 [00:00<00:00, 193.98it/s]\u001b[A\n",
      "\n",
      "100%|███████████████████████████████████████████████████████████████████████████████████| 4/4 [00:00<00:00, 190.76it/s]\u001b[A\n",
      " 97%|███████████████████████████████████████████████████████████████████████████████▏  | 56/58 [00:01<00:00, 19.15it/s]\n",
      "100%|███████████████████████████████████████████████████████████████████████████████████| 8/8 [00:00<00:00, 140.11it/s]\u001b[A\n",
      "\n",
      "100%|███████████████████████████████████████████████████████████████████████████████████| 3/3 [00:00<00:00, 166.86it/s]\u001b[A\n",
      "100%|██████████████████████████████████████████████████████████████████████████████████| 58/58 [00:02<00:00, 28.04it/s]\n"
     ]
    },
    {
     "data": {
      "text/plain": [
       "9"
      ]
     },
     "execution_count": 16,
     "metadata": {},
     "output_type": "execute_result"
    }
   ],
   "source": [
    "dummy_columns = []\n",
    "map_dummy = {}\n",
    "for col in tqdm(cat_columns, total=len(cat_columns)):\n",
    "    for value in tqdm(df[col].unique()):\n",
    "        df[f'dummy_{col}_{value}'] = 0\n",
    "        df.loc[df[col]==value, f'dummy_{col}_{value}'] = 1\n",
    "        dummy_columns.append(f'dummy_{col}_{value}')\n",
    "        map_dummy[col] = f\"dummy_{col}_{value}\"\n",
    "\n",
    "joblib.dump(map_dummy, 'data/home_credit/map_dummy.pkl')\n",
    "\n",
    "del cat_columns\n",
    "gc.collect()"
   ]
  },
  {
   "cell_type": "code",
   "execution_count": 17,
   "id": "41cf3c97-fe29-46d1-8068-8211399a0ec1",
   "metadata": {},
   "outputs": [
    {
     "data": {
      "text/plain": [
       "(356255, 427)"
      ]
     },
     "execution_count": 17,
     "metadata": {},
     "output_type": "execute_result"
    }
   ],
   "source": [
    "df.shape"
   ]
  },
  {
   "cell_type": "code",
   "execution_count": 18,
   "id": "6332f162-ae7c-4673-9ed3-a54d21006439",
   "metadata": {},
   "outputs": [
    {
     "data": {
      "text/plain": [
       "0"
      ]
     },
     "execution_count": 18,
     "metadata": {},
     "output_type": "execute_result"
    }
   ],
   "source": [
    "train_df = df.loc[df['isTrain']=='Train'].reset_index(drop=True)\n",
    "test_df = df.loc[df['isTrain']=='Test'].reset_index(drop=True)\n",
    "del df\n",
    "gc.collect()"
   ]
  },
  {
   "cell_type": "code",
   "execution_count": 20,
   "id": "04f88a38-f6c2-4bb8-8de5-7f1d70be27c5",
   "metadata": {},
   "outputs": [
    {
     "data": {
      "text/plain": [
       "['data/home_credit/dummy_columns.pkl']"
      ]
     },
     "execution_count": 20,
     "metadata": {},
     "output_type": "execute_result"
    }
   ],
   "source": [
    "outlier_idx = []\n",
    "for col in num_columns:\n",
    "    z_score = stats.zscore(train_df[col])\n",
    "    outlier_idx = outlier_idx + list(train_df.loc[(np.abs(z_score)>3)].index)\n",
    "\n",
    "outlier_idx = list(set(outlier_idx))\n",
    "\n",
    "if REMOVE_OUTLIERS:\n",
    "    train_df = train_df.drop(index=outlier_idx,\n",
    "                             axis=0).reset_index(drop=True)\n",
    "\n",
    "joblib.dump(num_columns, 'data/home_credit/num_columns.pkl')\n",
    "joblib.dump(dummy_columns, 'data/home_credit/dummy_columns.pkl')"
   ]
  },
  {
   "cell_type": "code",
   "execution_count": 21,
   "id": "4c90f8a6-afc1-408f-99bb-5d5368ff40d5",
   "metadata": {},
   "outputs": [
    {
     "name": "stdout",
     "output_type": "stream",
     "text": [
      "Class ratio = 0.08663976510857448\n"
     ]
    }
   ],
   "source": [
    "print(f\"Class ratio = {train_df['TARGET'].sum()/train_df.shape[0]}\" )"
   ]
  },
  {
   "cell_type": "code",
   "execution_count": 22,
   "id": "c6d237a2-55df-48db-b3ef-c6f776140da2",
   "metadata": {},
   "outputs": [
    {
     "name": "stdout",
     "output_type": "stream",
     "text": [
      "FOLD-0: AUC score=0.614\n",
      "FOLD-1: AUC score=0.618\n",
      "FOLD-2: AUC score=0.614\n",
      "FOLD-3: AUC score=0.616\n",
      "FOLD-4: AUC score=0.632\n"
     ]
    },
    {
     "data": {
      "text/plain": [
       "['data/home_credit/models.pkl']"
      ]
     },
     "execution_count": 22,
     "metadata": {},
     "output_type": "execute_result"
    }
   ],
   "source": [
    "skf = StratifiedKFold(n_splits=5,\n",
    "                      shuffle=True,\n",
    "                      random_state=42)\n",
    "\n",
    "models = []\n",
    "for fold, (train_idx, val_idx) in enumerate(skf.split(train_df,\n",
    "                                                      train_df['TARGET'],\n",
    "                                                      groups=train_df['TARGET'])):\n",
    "    train_set = train_df.loc[train_idx]\n",
    "    val_set = train_df.loc[val_idx]\n",
    "\n",
    "    model = LogisticRegression().fit(train_set[num_columns+dummy_columns],\n",
    "                                     train_set['TARGET'])\n",
    "    models.append(model)\n",
    "\n",
    "    y_pred = model.predict_proba(val_set[num_columns+dummy_columns])[:, 1]\n",
    "\n",
    "    auc_score = roc_auc_score(val_set['TARGET'], y_pred)\n",
    "    print(f\"FOLD-{fold}: AUC score={np.round(auc_score, 3)}\")\n",
    "\n",
    "joblib.dump(models, 'data/home_credit/models.pkl')"
   ]
  },
  {
   "cell_type": "markdown",
   "id": "4e518bba-e0f6-4104-a500-76b71e1f3112",
   "metadata": {},
   "source": [
    "Problem 3 Estimation on test data"
   ]
  },
  {
   "cell_type": "code",
   "execution_count": 30,
   "id": "721a7f68-a8f0-4a2a-b190-bfd359cee5a3",
   "metadata": {},
   "outputs": [],
   "source": [
    "test_df = pd.read_csv('data/home_credit/application_test.csv')"
   ]
  },
  {
   "cell_type": "code",
   "execution_count": 31,
   "id": "c44503db-82fa-4f31-ab0a-12b61bcaa65b",
   "metadata": {},
   "outputs": [
    {
     "name": "stderr",
     "output_type": "stream",
     "text": [
      "  0%|                                                                                           | 0/58 [00:00<?, ?it/s]\n",
      "100%|█████████████████████████████████████████████████████████████████████████████████| 11/11 [00:00<00:00, 653.74it/s]\u001b[A\n",
      "\n",
      "100%|███████████████████████████████████████████████████████████████████████████████████| 2/2 [00:00<00:00, 398.40it/s]\u001b[A\n",
      "\n",
      "100%|███████████████████████████████████████████████████████████████████████████████████| 2/2 [00:00<00:00, 434.80it/s]\u001b[A\n",
      "\n",
      "100%|███████████████████████████████████████████████████████████████████████████████████| 2/2 [00:00<00:00, 649.42it/s]\u001b[A\n",
      "\n",
      "100%|███████████████████████████████████████████████████████████████████████████████████| 2/2 [00:00<00:00, 501.80it/s]\u001b[A\n",
      "\n",
      "100%|███████████████████████████████████████████████████████████████████████████████████| 2/2 [00:00<00:00, 502.01it/s]\u001b[A\n",
      "\n",
      "100%|███████████████████████████████████████████████████████████████████████████████████| 2/2 [00:00<00:00, 502.22it/s]\u001b[A\n",
      "\n",
      "100%|█████████████████████████████████████████████████████████████████████████████████| 12/12 [00:00<00:00, 645.02it/s]\u001b[A\n",
      " 14%|███████████▍                                                                       | 8/58 [00:00<00:00, 75.29it/s]\n",
      "100%|███████████████████████████████████████████████████████████████████████████████████| 3/3 [00:00<00:00, 753.38it/s]\u001b[A\n",
      "\n",
      "100%|███████████████████████████████████████████████████████████████████████████████████| 4/4 [00:00<00:00, 561.39it/s]\u001b[A\n",
      "\n",
      "100%|███████████████████████████████████████████████████████████████████████████████████| 2/2 [00:00<00:00, 502.04it/s]\u001b[A\n",
      "\n",
      "100%|███████████████████████████████████████████████████████████████████████████████████| 2/2 [00:00<00:00, 435.05it/s]\u001b[A\n",
      "\n",
      "100%|███████████████████████████████████████████████████████████████████████████████████| 2/2 [00:00<00:00, 401.70it/s]\u001b[A\n",
      "\n",
      "100%|███████████████████████████████████████████████████████████████████████████████████| 2/2 [00:00<00:00, 502.22it/s]\u001b[A\n",
      "\n",
      "100%|███████████████████████████████████████████████████████████████████████████████████| 2/2 [00:00<00:00, 669.64it/s]\u001b[A\n",
      "\n",
      "100%|███████████████████████████████████████████████████████████████████████████████████| 2/2 [00:00<00:00, 559.88it/s]\u001b[A\n",
      "\n",
      "100%|███████████████████████████████████████████████████████████████████████████████████| 8/8 [00:00<00:00, 700.61it/s]\u001b[A\n",
      "\n",
      "100%|███████████████████████████████████████████████████████████████████████████████████| 7/7 [00:00<00:00, 702.78it/s]\u001b[A\n",
      " 31%|█████████████████████████▍                                                        | 18/58 [00:00<00:00, 84.20it/s]\n",
      "100%|███████████████████████████████████████████████████████████████████████████████████| 1/1 [00:00<00:00, 335.14it/s]\u001b[A\n",
      "\n",
      "100%|███████████████████████████████████████████████████████████████████████████████████| 2/2 [00:00<00:00, 447.11it/s]\u001b[A\n",
      "\n",
      "100%|███████████████████████████████████████████████████████████████████████████████████| 2/2 [00:00<00:00, 501.11it/s]\u001b[A\n",
      "\n",
      "100%|███████████████████████████████████████████████████████████████████████████████████| 2/2 [00:00<00:00, 367.76it/s]\u001b[A\n",
      "\n",
      "100%|███████████████████████████████████████████████████████████████████████████████████| 2/2 [00:00<00:00, 582.66it/s]\u001b[A\n",
      "\n",
      "100%|███████████████████████████████████████████████████████████████████████████████████| 2/2 [00:00<00:00, 254.83it/s]\u001b[A\n",
      "\n",
      "100%|███████████████████████████████████████████████████████████████████████████████████| 2/2 [00:00<00:00, 623.87it/s]\u001b[A\n",
      "\n",
      "100%|███████████████████████████████████████████████████████████████████████████████████| 2/2 [00:00<00:00, 662.40it/s]\u001b[A\n",
      "\n",
      "100%|███████████████████████████████████████████████████████████████████████████████████| 1/1 [00:00<00:00, 490.10it/s]\u001b[A\n",
      "\n",
      "100%|███████████████████████████████████████████████████████████████████████████████████| 2/2 [00:00<00:00, 501.71it/s]\u001b[A\n",
      "\n",
      "100%|███████████████████████████████████████████████████████████████████████████████████| 1/1 [00:00<00:00, 200.89it/s]\u001b[A\n",
      " 50%|█████████████████████████████████████████                                         | 29/58 [00:00<00:00, 91.86it/s]\n",
      "100%|███████████████████████████████████████████████████████████████████████████████████| 1/1 [00:00<00:00, 502.13it/s]\u001b[A\n",
      "\n",
      "100%|███████████████████████████████████████████████████████████████████████████████████| 1/1 [00:00<00:00, 500.16it/s]\u001b[A\n",
      "\n",
      "100%|███████████████████████████████████████████████████████████████████████████████████| 1/1 [00:00<00:00, 502.19it/s]\u001b[A\n",
      "\n",
      "100%|███████████████████████████████████████████████████████████████████████████████████| 1/1 [00:00<00:00, 200.79it/s]\u001b[A\n",
      "\n",
      "100%|███████████████████████████████████████████████████████████████████████████████████| 1/1 [00:00<00:00, 502.13it/s]\u001b[A\n",
      "\n",
      "100%|███████████████████████████████████████████████████████████████████████████████████| 2/2 [00:00<00:00, 502.16it/s]\u001b[A\n",
      "\n",
      "100%|███████████████████████████████████████████████████████████████████████████████████| 1/1 [00:00<00:00, 250.47it/s]\u001b[A\n",
      "\n",
      "100%|███████████████████████████████████████████████████████████████████████████████████| 1/1 [00:00<00:00, 499.56it/s]\u001b[A\n",
      "\n",
      "100%|███████████████████████████████████████████████████████████████████████████████████| 1/1 [00:00<00:00, 243.40it/s]\u001b[A\n",
      "\n",
      "100%|███████████████████████████████████████████████████████████████████████████████████| 3/3 [00:00<00:00, 530.61it/s]\u001b[A\n",
      "\n",
      "100%|███████████████████████████████████████████████████████████████████████████████████| 3/3 [00:00<00:00, 602.72it/s]\u001b[A\n",
      "\n",
      "100%|███████████████████████████████████████████████████████████████████████████████████| 3/3 [00:00<00:00, 655.74it/s]\u001b[A\n",
      " 71%|█████████████████████████████████████████████████████████▉                        | 41/58 [00:00<00:00, 99.18it/s]\n",
      "100%|███████████████████████████████████████████████████████████████████████████████████| 8/8 [00:00<00:00, 317.07it/s]\u001b[A\n",
      "\n",
      "100%|███████████████████████████████████████████████████████████████████████████████████| 2/2 [00:00<00:00, 416.41it/s]\u001b[A\n",
      "\n",
      "100%|███████████████████████████████████████████████████████████████████████████████████| 2/2 [00:00<00:00, 337.11it/s]\u001b[A\n",
      "\n",
      "100%|███████████████████████████████████████████████████████████████████████████████████| 2/2 [00:00<00:00, 315.20it/s]\u001b[A\n",
      "\n",
      "100%|███████████████████████████████████████████████████████████████████████████████████| 2/2 [00:00<00:00, 401.89it/s]\u001b[A\n",
      "\n",
      "100%|███████████████████████████████████████████████████████████████████████████████████| 8/8 [00:00<00:00, 556.01it/s]\u001b[A\n",
      "\n",
      "100%|███████████████████████████████████████████████████████████████████████████████████| 7/7 [00:00<00:00, 584.14it/s]\u001b[A\n",
      "\n",
      "100%|███████████████████████████████████████████████████████████████████████████████████| 5/5 [00:00<00:00, 559.18it/s]\u001b[A\n",
      "\n",
      "100%|███████████████████████████████████████████████████████████████████████████████████| 5/5 [00:00<00:00, 558.56it/s]\u001b[A\n",
      "\n",
      "100%|███████████████████████████████████████████████████████████████████████████████████| 6/6 [00:00<00:00, 524.97it/s]\u001b[A\n",
      " 88%|████████████████████████████████████████████████████████████████████████          | 51/58 [00:00<00:00, 81.26it/s]\n",
      "100%|█████████████████████████████████████████████████████████████████████████████████| 19/19 [00:00<00:00, 599.99it/s]\u001b[A\n",
      "\n",
      "100%|███████████████████████████████████████████████████████████████████████████████████| 7/7 [00:00<00:00, 432.90it/s]\u001b[A\n",
      "\n",
      "  0%|                                                                                           | 0/58 [00:00<?, ?it/s]\u001b[A\n",
      "100%|█████████████████████████████████████████████████████████████████████████████████| 58/58 [00:00<00:00, 468.98it/s]\u001b[A\n",
      "\n",
      "100%|███████████████████████████████████████████████████████████████████████████████████| 5/5 [00:00<00:00, 396.06it/s]\u001b[A\n",
      "\n",
      "100%|███████████████████████████████████████████████████████████████████████████████████| 4/4 [00:00<00:00, 402.62it/s]\u001b[A\n",
      "\n",
      "100%|███████████████████████████████████████████████████████████████████████████████████| 8/8 [00:00<00:00, 472.66it/s]\u001b[A\n",
      "\n",
      "100%|███████████████████████████████████████████████████████████████████████████████████| 3/3 [00:00<00:00, 412.69it/s]\u001b[A\n",
      "100%|██████████████████████████████████████████████████████████████████████████████████| 58/58 [00:00<00:00, 66.65it/s]\n"
     ]
    }
   ],
   "source": [
    "missing_values = joblib.load('data/home_credit/missing_values.pkl')\n",
    "for col in missing_values.keys():\n",
    "    test_df.loc[test_df[col].isnull(), col] = missing_values[col]\n",
    "\n",
    "encoders = joblib.load('data/home_credit/encoders.pkl')\n",
    "for col in encoders.keys():\n",
    "    test_df[col] = encoders[col].transform(test_df[col])\n",
    "cat_cols = ['CNT_CHILDREN', 'FLAG_MOBIL', 'FLAG_EMP_PHONE', 'FLAG_WORK_PHONE', 'FLAG_CONT_MOBILE', 'FLAG_PHONE', 'FLAG_EMAIL', 'CNT_FAM_MEMBERS', 'REGION_RATING_CLIENT', 'REGION_RATING_CLIENT_W_CITY', 'REG_REGION_NOT_LIVE_REGION', 'REG_REGION_NOT_WORK_REGION', 'LIVE_REGION_NOT_WORK_REGION', 'REG_CITY_NOT_LIVE_CITY', 'REG_CITY_NOT_WORK_CITY', 'LIVE_CITY_NOT_WORK_CITY', 'DEF_30_CNT_SOCIAL_CIRCLE', 'DEF_60_CNT_SOCIAL_CIRCLE', 'FLAG_DOCUMENT_2', 'FLAG_DOCUMENT_3', 'FLAG_DOCUMENT_4', 'FLAG_DOCUMENT_5', 'FLAG_DOCUMENT_6', 'FLAG_DOCUMENT_7', 'FLAG_DOCUMENT_8', 'FLAG_DOCUMENT_9', 'FLAG_DOCUMENT_10', 'FLAG_DOCUMENT_11', 'FLAG_DOCUMENT_12', 'FLAG_DOCUMENT_13', 'FLAG_DOCUMENT_14', 'FLAG_DOCUMENT_15', 'FLAG_DOCUMENT_16', 'FLAG_DOCUMENT_17', 'FLAG_DOCUMENT_18', 'FLAG_DOCUMENT_19', 'FLAG_DOCUMENT_20', 'FLAG_DOCUMENT_21', 'AMT_REQ_CREDIT_BUREAU_HOUR', 'AMT_REQ_CREDIT_BUREAU_DAY', 'AMT_REQ_CREDIT_BUREAU_WEEK', 'AMT_REQ_CREDIT_BUREAU_QRT', 'NAME_CONTRACT_TYPE', 'CODE_GENDER', 'FLAG_OWN_CAR', 'FLAG_OWN_REALTY', 'NAME_TYPE_SUITE', 'NAME_INCOME_TYPE', 'NAME_EDUCATION_TYPE', 'NAME_FAMILY_STATUS', 'NAME_HOUSING_TYPE', 'OCCUPATION_TYPE', 'WEEKDAY_APPR_PROCESS_START', 'ORGANIZATION_TYPE', 'FONDKAPREMONT_MODE', 'HOUSETYPE_MODE', 'WALLSMATERIAL_MODE', 'EMERGENCYSTATE_MODE']\n",
    "for col in tqdm(cat_cols, total=len(cat_cols)):\n",
    "    for value in tqdm(test_df[col].unique()):\n",
    "        test_df[f'dummy_{col}_{value}'] = 0\n",
    "        test_df.loc[test_df[col]==value, f'dummy_{col}_{value}'] = 1"
   ]
  },
  {
   "cell_type": "code",
   "execution_count": 32,
   "id": "1dd319d0-8883-4455-b734-147265c018d5",
   "metadata": {},
   "outputs": [],
   "source": [
    "models = joblib.load('data/home_credit/models.pkl')\n",
    "num_columns = joblib.load('data/home_credit/num_columns.pkl')\n",
    "dummy_columns = joblib.load('data/home_credit/dummy_columns.pkl')\n",
    "\n",
    "for col in dummy_columns:\n",
    "    if col not in test_df.columns:\n",
    "        test_df[col] = 0\n",
    "\n",
    "y_pred = np.zeros(test_df.shape[0])\n",
    "for model in models:\n",
    "    y_pred += model.predict_proba(test_df[num_columns+dummy_columns])[:, 1]/len(models)\n",
    "\n",
    "test_df['TARGET'] = y_pred\n",
    "test_df[['SK_ID_CURR', 'TARGET']].to_csv('data/home_credit/submission.csv', index=False)"
   ]
  },
  {
   "cell_type": "code",
   "execution_count": null,
   "id": "3c004d5d-c775-426e-ad31-f11cd94e8005",
   "metadata": {},
   "outputs": [],
   "source": []
  }
 ],
 "metadata": {
  "kernelspec": {
   "display_name": "Python 3 (ipykernel)",
   "language": "python",
   "name": "python3"
  },
  "language_info": {
   "codemirror_mode": {
    "name": "ipython",
    "version": 3
   },
   "file_extension": ".py",
   "mimetype": "text/x-python",
   "name": "python",
   "nbconvert_exporter": "python",
   "pygments_lexer": "ipython3",
   "version": "3.10.11"
  }
 },
 "nbformat": 4,
 "nbformat_minor": 5
}
