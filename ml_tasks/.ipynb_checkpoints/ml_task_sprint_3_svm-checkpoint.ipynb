{
 "cells": [
  {
   "cell_type": "code",
   "execution_count": 1,
   "id": "c55c59de-ee7c-4d3d-9d0e-28310bf1e59d",
   "metadata": {},
   "outputs": [],
   "source": [
    "import numpy as np"
   ]
  },
  {
   "cell_type": "code",
   "execution_count": 21,
   "id": "38bdef6f-0b51-413a-bbce-714159506ee7",
   "metadata": {},
   "outputs": [],
   "source": [
    "class ScratchSVMClassifier():\n",
    "    \"\"\"\n",
    "  Scratch implementation of SVM classifier\n",
    "\n",
    "     Parameters\n",
    "     ----------\n",
    "     num_iter : int\n",
    "       number of iterations\n",
    "     lr: float\n",
    "       learning rate\n",
    "     kernel :str\n",
    "       Kernel type. Linear kernel (linear) or polynomial kernel (polly)\n",
    "     threshold : float\n",
    "       Threshold for choosing support vectors\n",
    "     verbose : bool\n",
    "       True to output the learning process\n",
    "\n",
    "     Attributes\n",
    "     ----------\n",
    "     self.n_support_vectors : int\n",
    "       Number of support vectors\n",
    "     self.index_support_vectors : ndarray, shape (n_support_vectors,)\n",
    "       Support vector index\n",
    "     self.X_sv : ndarray of the following shape, shape(n_support_vectors, n_features)\n",
    "       Support vector features\n",
    "     self.lam_sv : ndarray of the following shape, shape(n_support_vectors, 1)\n",
    "       undetermined multiplier for support vectors\n",
    "     self.y_sv : ndarray of the following shape, shape(n_support_vectors, 1)\n",
    "       Support vector labels\n",
    "\n",
    "    \"\"\"\n",
    "\n",
    "    def __init__(self, num_iter, lr, kernel='linear', hit_vector_cnt_threshold = 2, \n",
    "                 threshold=1e-5, verbose=False):\n",
    "        # Record hyperparameters as attributes\n",
    "        self.iter = num_iter\n",
    "        self.lr = lr\n",
    "        self.kernel = kernel\n",
    "        self.threshold = threshold\n",
    "        self.verbose = verbose\n",
    "        self.hit_vector_cnt_threshold = hit_vector_cnt_threshold\n",
    "\n",
    "    def fit(self, x, y, x_val=None, y_val=None):\n",
    "        \n",
    "        \"\"\"\n",
    "       Learn an SVM classifier. If validation data is input, the accuracy for that data is also calculated for each iteration.\n",
    "\n",
    "         Parameters\n",
    "         ----------\n",
    "         X : ndarray of the following shape, shape (n_samples, n_features)\n",
    "             Training data features\n",
    "         y : ndarray of the following shape, shape (n_samples, )\n",
    "             Ground truth value of training data\n",
    "         X_val : ndarray of the following shape, shape (n_samples, n_features)\n",
    "             Features of validation data\n",
    "         y_val : ndarray of the following shape, shape (n_samples, )\n",
    "             Correct value of validation data\n",
    "        \"\"\"\n",
    "\n",
    "\n",
    "        y = y.reshape(len(y), 1)\n",
    "\n",
    "        if x_val is not None:\n",
    "             y_val = y_val.reshape(len(y_val), 1)\n",
    "\n",
    "        bias = np.array([1 for _ in range(x.shape[0])]).reshape(x.shape[0], 1)\n",
    "        x = np.concatenate((x, bias), axis=1)\n",
    "\n",
    "        if x_val is not None:\n",
    "            bias = np.array([1 for _ in range(x_val.shape[0])]).reshape(x_val.shape[0], 1)\n",
    "            x_val = np.concatenate((x_val, bias), axis=1)\n",
    "\n",
    "        self.num_of_feature = x.shape[1]\n",
    "        self.num_of_samples = x.shape[0]\n",
    "\n",
    "        self.label1_val = np.max(y)\n",
    "        self.label0_val = np.min(y)\n",
    "        \n",
    "        train_data = np.concatenate((x, y), axis=1)\n",
    "        \n",
    "        LAMBDA_INIT_MIN = 1\n",
    "        LAMBDA_INIT_MAX = 10\n",
    "        LAMBDA_INIT_SCALE = 1e-07\n",
    "        self.lam = np.random.randint(LAMBDA_INIT_MIN, LAMBDA_INIT_MAX, X.shape[0]) * LAMBDA_INIT_SCALE\n",
    "        self.lam = np.reshape(self.lam, (len(self.lam), 1))\n",
    "        self.lam_cal_log = np.zeros((len(self.lam), 1))\n",
    "        #print(\"Initial lambda:\\n{}\".format(self.lam))\n",
    "\n",
    "\n",
    "        for i in range(0, self.iter):\n",
    "            self.lam = self._gradient_descent(x, y)\n",
    "            if self.hit_vector_cnt_threshold <= np.sum(self.lam > self.threshold):\n",
    "                \n",
    "                selector = self.lam[:, 0] * np.ones(train_data.shape[0])\n",
    "                sp_vector = train_data[selector > self.threshold, :]\n",
    "                label_p_cnt = np.sum([sp_vector[:, :-1] == 1])\n",
    "                label_n_cnt = np.sum([sp_vector[:, :-1] == -1])\n",
    "\n",
    "        if self.verbose:\n",
    "            #verboseをTrueにした際は学習過程を出力\n",
    "            print()\n",
    "\n",
    "\n",
    "    def predict(self, x):\n",
    "        \"\"\"\n",
    "        Estimate labels using SVM classifier.\n",
    "\n",
    "         Parameters\n",
    "         ----------\n",
    "         X : ndarray of the following shape, shape (n_samples, n_features)\n",
    "             sample\n",
    "\n",
    "         Returns\n",
    "         -------\n",
    "             ndarray of the following shape, shape (n_samples, 1)\n",
    "             Estimation results by SVM classifier\n",
    "        \"\"\"\n",
    "\n",
    "        pred = self._svm_kernel_function(x, x)\n",
    "        \n",
    "        return\n",
    "\n",
    "    def _svm_kernel_function(self, X1, X2):\n",
    "    \n",
    "        if self.kernel == 'linear':\n",
    "            ans = np.dot(X1, X2.T)\n",
    "        # elif self.kernel == 'rbf':\n",
    "        #     ans = self.gamma * (np.dot(X1.T, X2) + self.theta0)**self.pow_d\n",
    "        else:\n",
    "            ans = 0\n",
    "\n",
    "        return ans\n",
    "\n",
    "    def _gradient_descent(self, x, y):\n",
    "\n",
    "        print(y.shape, self.lam.shape, x.shape)\n",
    "        tmp1 = y.T * y * self.lam * self._svm_kernel_function(x, x)\n",
    "        delta = 1 - (np.sum(tmp1, axis=0))\n",
    "        delta = delta.reshape(len(delta), 1)\n",
    "        result = self.lam + self.lr * delta.T\n",
    "        result[result < 0] = 0\n",
    "\n",
    "        return result"
   ]
  },
  {
   "cell_type": "markdown",
   "id": "2030f570-584f-4bbb-bd8a-d6bb29a9de20",
   "metadata": {},
   "source": [
    "Test"
   ]
  },
  {
   "cell_type": "code",
   "execution_count": 22,
   "id": "7a2baf68-a1d7-4547-a04b-534813ddd1ee",
   "metadata": {},
   "outputs": [],
   "source": [
    "import numpy as np\n",
    "from sklearn import datasets\n",
    "import matplotlib.pyplot as plt\n",
    "import numpy as np\n",
    "from sklearn.metrics import accuracy_score\n",
    "from sklearn.model_selection import train_test_split\n",
    "from sklearn import svm\n",
    "\n",
    "x, y = datasets.make_blobs( n_samples=50, n_features=2, centers=2, \n",
    "                           cluster_std=1.05, random_state=40)\n",
    "y = np.where(y == 0, -1, 1)\n",
    "\n",
    "x_train, x_test, y_train, y_test = train_test_split(\n",
    "    x, y, test_size=0.2, random_state=123\n",
    ")"
   ]
  },
  {
   "cell_type": "code",
   "execution_count": 15,
   "id": "e18244c4-387d-4975-9e5c-1fb7d1401d24",
   "metadata": {},
   "outputs": [
    {
     "ename": "ValueError",
     "evalue": "all the input array dimensions except for the concatenation axis must match exactly, but along dimension 0, the array at index 0 has size 50 and the array at index 1 has size 40",
     "output_type": "error",
     "traceback": [
      "\u001b[1;31m---------------------------------------------------------------------------\u001b[0m",
      "\u001b[1;31mValueError\u001b[0m                                Traceback (most recent call last)",
      "Cell \u001b[1;32mIn[15], line 2\u001b[0m\n\u001b[0;32m      1\u001b[0m clf \u001b[38;5;241m=\u001b[39m ScratchSVMClassifier(num_iter\u001b[38;5;241m=\u001b[39m\u001b[38;5;241m20\u001b[39m, lr\u001b[38;5;241m=\u001b[39m\u001b[38;5;241m0.05\u001b[39m)\n\u001b[1;32m----> 2\u001b[0m \u001b[43mclf\u001b[49m\u001b[38;5;241;43m.\u001b[39;49m\u001b[43mfit\u001b[49m\u001b[43m(\u001b[49m\u001b[43mx_train\u001b[49m\u001b[43m,\u001b[49m\u001b[43m \u001b[49m\u001b[43my_train\u001b[49m\u001b[43m)\u001b[49m\n",
      "Cell \u001b[1;32mIn[12], line 67\u001b[0m, in \u001b[0;36mScratchSVMClassifier.fit\u001b[1;34m(self, x, y, x_val, y_val)\u001b[0m\n\u001b[0;32m     64\u001b[0m      y_val \u001b[38;5;241m=\u001b[39m y_val\u001b[38;5;241m.\u001b[39mreshape(\u001b[38;5;28mlen\u001b[39m(y_val), \u001b[38;5;241m1\u001b[39m)\n\u001b[0;32m     66\u001b[0m bias \u001b[38;5;241m=\u001b[39m np\u001b[38;5;241m.\u001b[39marray([\u001b[38;5;241m1\u001b[39m \u001b[38;5;28;01mfor\u001b[39;00m _ \u001b[38;5;129;01min\u001b[39;00m \u001b[38;5;28mrange\u001b[39m(x\u001b[38;5;241m.\u001b[39mshape[\u001b[38;5;241m0\u001b[39m])])\u001b[38;5;241m.\u001b[39mreshape(x\u001b[38;5;241m.\u001b[39mshape[\u001b[38;5;241m0\u001b[39m], \u001b[38;5;241m1\u001b[39m)\n\u001b[1;32m---> 67\u001b[0m x \u001b[38;5;241m=\u001b[39m \u001b[43mnp\u001b[49m\u001b[38;5;241;43m.\u001b[39;49m\u001b[43mconcatenate\u001b[49m\u001b[43m(\u001b[49m\u001b[43m(\u001b[49m\u001b[43mX\u001b[49m\u001b[43m,\u001b[49m\u001b[43m \u001b[49m\u001b[43mbias\u001b[49m\u001b[43m)\u001b[49m\u001b[43m,\u001b[49m\u001b[43m \u001b[49m\u001b[43maxis\u001b[49m\u001b[38;5;241;43m=\u001b[39;49m\u001b[38;5;241;43m1\u001b[39;49m\u001b[43m)\u001b[49m\n\u001b[0;32m     69\u001b[0m \u001b[38;5;28;01mif\u001b[39;00m x_val \u001b[38;5;129;01mis\u001b[39;00m \u001b[38;5;129;01mnot\u001b[39;00m \u001b[38;5;28;01mNone\u001b[39;00m:\n\u001b[0;32m     70\u001b[0m     bias \u001b[38;5;241m=\u001b[39m np\u001b[38;5;241m.\u001b[39marray([\u001b[38;5;241m1\u001b[39m \u001b[38;5;28;01mfor\u001b[39;00m _ \u001b[38;5;129;01min\u001b[39;00m \u001b[38;5;28mrange\u001b[39m(x_val\u001b[38;5;241m.\u001b[39mshape[\u001b[38;5;241m0\u001b[39m])])\u001b[38;5;241m.\u001b[39mreshape(x_val\u001b[38;5;241m.\u001b[39mshape[\u001b[38;5;241m0\u001b[39m], \u001b[38;5;241m1\u001b[39m)\n",
      "\u001b[1;31mValueError\u001b[0m: all the input array dimensions except for the concatenation axis must match exactly, but along dimension 0, the array at index 0 has size 50 and the array at index 1 has size 40"
     ]
    }
   ],
   "source": [
    "clf = ScratchSVMClassifier(num_iter=20, lr=0.05)\n",
    "clf.fit(x_train, y_train)"
   ]
  },
  {
   "cell_type": "code",
   "execution_count": 16,
   "id": "86091d23-c877-4e30-baf6-97999728313b",
   "metadata": {},
   "outputs": [],
   "source": [
    "predictions = clf.predict(x_test)"
   ]
  },
  {
   "cell_type": "markdown",
   "id": "0fc0d9ce-1fbe-40f2-9dc1-838e1d7035a8",
   "metadata": {},
   "source": [
    "Decision Boundry"
   ]
  },
  {
   "cell_type": "code",
   "execution_count": 18,
   "id": "291f4616-7b72-4697-aab3-955dbac0bbf8",
   "metadata": {},
   "outputs": [
    {
     "ename": "IndentationError",
     "evalue": "unexpected indent (3028181523.py, line 3)",
     "output_type": "error",
     "traceback": [
      "\u001b[1;36m  Cell \u001b[1;32mIn[18], line 3\u001b[1;36m\u001b[0m\n\u001b[1;33m    (x_train, x_test, y_train, y_test) = train_test_split(x, y, test_size=0.2)\u001b[0m\n\u001b[1;37m    ^\u001b[0m\n\u001b[1;31mIndentationError\u001b[0m\u001b[1;31m:\u001b[0m unexpected indent\n"
     ]
    }
   ],
   "source": [
    "x = iris.data[:100,:2]\n",
    "y = iris.target[:100]\n",
    " (x_train, x_test, y_train, y_test) = train_test_split(x, y, test_size=0.2)\n",
    "slr = ScratchLogisticRegression(num_iter=1000, lr=0.005, no_bias=True,verbose=False, lam = 0.5)\n",
    "slr.fit(x_train, y_train, x_test, y_test)"
   ]
  },
  {
   "cell_type": "code",
   "execution_count": null,
   "id": "470e024d-1f34-46bc-8b36-64a69898ca2d",
   "metadata": {},
   "outputs": [],
   "source": []
  }
 ],
 "metadata": {
  "kernelspec": {
   "display_name": "Python 3 (ipykernel)",
   "language": "python",
   "name": "python3"
  },
  "language_info": {
   "codemirror_mode": {
    "name": "ipython",
    "version": 3
   },
   "file_extension": ".py",
   "mimetype": "text/x-python",
   "name": "python",
   "nbconvert_exporter": "python",
   "pygments_lexer": "ipython3",
   "version": "3.10.11"
  }
 },
 "nbformat": 4,
 "nbformat_minor": 5
}
