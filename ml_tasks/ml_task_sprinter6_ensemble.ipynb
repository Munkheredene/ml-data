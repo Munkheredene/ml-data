{
 "cells": [
  {
   "cell_type": "code",
   "execution_count": 1,
   "id": "8d64faea-01a9-4ab9-a99d-03889de13f0e",
   "metadata": {},
   "outputs": [],
   "source": [
    "import pandas as pd\n",
    "import numpy as np\n",
    "from sklearn.metrics import mean_squared_error\n",
    "from sklearn.linear_model import LinearRegression\n",
    "from sklearn.svm import SVR\n",
    "from sklearn.tree import DecisionTreeRegressor\n",
    "from sklearn.ensemble import RandomForestRegressor\n",
    "from sklearn.model_selection import train_test_split"
   ]
  },
  {
   "cell_type": "markdown",
   "id": "2d70cfce-565e-44bb-b6c1-5f523d429188",
   "metadata": {},
   "source": [
    "Data"
   ]
  },
  {
   "cell_type": "code",
   "execution_count": 2,
   "id": "a458c625-e488-4f8c-b52c-0df63a361937",
   "metadata": {},
   "outputs": [],
   "source": [
    "train_df = pd.read_csv('../data/train.csv')"
   ]
  },
  {
   "cell_type": "code",
   "execution_count": 3,
   "id": "4f0fb637-e115-416f-8f06-d51926a694ca",
   "metadata": {},
   "outputs": [],
   "source": [
    "input_cols = ['GrLivArea', 'YearBuilt']\n",
    "target = 'SalePrice'\n",
    "train_df[target] = np.log(train_df[target])"
   ]
  },
  {
   "cell_type": "code",
   "execution_count": 4,
   "id": "018c2973-ed42-40ed-86f5-718ac3cd1dee",
   "metadata": {},
   "outputs": [],
   "source": [
    "train_set, test_set = train_test_split(train_df, test_size=0.2,\n",
    "                                       shuffle=True, random_state=42)"
   ]
  },
  {
   "cell_type": "markdown",
   "id": "d792669f-4da5-41c9-a8c7-a8e05c9b8cc1",
   "metadata": {},
   "source": [
    "model training"
   ]
  },
  {
   "cell_type": "code",
   "execution_count": 5,
   "id": "d1d7ec3e-5148-4dfc-a627-ddc4e4a23683",
   "metadata": {},
   "outputs": [],
   "source": [
    "metrics = {'linear_reg':[],\n",
    "           'svr':[],\n",
    "           'dt':[]}\n",
    "\n",
    "models = [LinearRegression(), DecisionTreeRegressor(), SVR()]\n",
    "\n",
    "model_names = ['linear_reg', 'svr', 'dt',]\n",
    "preds = {}\n",
    "oofs = []\n",
    "for name, model in zip(model_names, models):\n",
    "    reg = model.fit(train_set[input_cols], train_set[target])\n",
    "    oofs.append(reg.predict(train_set[input_cols]))\n",
    "    pred = reg.predict(test_set[input_cols])\n",
    "    score = mean_squared_error(test_set[target], pred)\n",
    "    metrics[name].append(score)\n",
    "    preds[name] = pred"
   ]
  },
  {
   "cell_type": "code",
   "execution_count": 6,
   "id": "fbfb33b9-b5aa-49b6-9ed1-ac5ee47ff88d",
   "metadata": {},
   "outputs": [
    {
     "name": "stdout",
     "output_type": "stream",
     "text": [
      "Model linear_reg: 0.052\n",
      "Model svr: 0.064\n",
      "Model dt: 0.054\n"
     ]
    }
   ],
   "source": [
    "for name in metrics.keys():\n",
    "    print(f'Model {name}:', np.round(np.mean(metrics[name]), 3))"
   ]
  },
  {
   "cell_type": "markdown",
   "id": "7f28a5a9-6262-4dfb-bc10-877c8f4ba739",
   "metadata": {},
   "source": [
    "Ensemble"
   ]
  },
  {
   "cell_type": "code",
   "execution_count": 7,
   "id": "13bb0190-53b1-4b49-8e9e-2d804f861002",
   "metadata": {},
   "outputs": [
    {
     "name": "stdout",
     "output_type": "stream",
     "text": [
      "Blending: 0.048\n"
     ]
    }
   ],
   "source": [
    "weights = [0.4, 0.2, 0.4]\n",
    "\n",
    "final_pred = None\n",
    "for i, name in enumerate(model_names):\n",
    "    if i==0:\n",
    "        final_pred = weights[i]*preds[name]\n",
    "    else:\n",
    "        final_pred = final_pred + weights[i]*preds[name]\n",
    "\n",
    "score = mean_squared_error(test_set[target], final_pred)\n",
    "print(f'Blending:', np.round(np.mean(score), 3))"
   ]
  },
  {
   "cell_type": "markdown",
   "id": "1f003631-7b90-42ac-a07d-70c3978b3375",
   "metadata": {},
   "source": [
    "Stacked Ensemble"
   ]
  },
  {
   "cell_type": "code",
   "execution_count": 8,
   "id": "06e47759-2f7c-475b-83e0-d47adece55ff",
   "metadata": {},
   "outputs": [
    {
     "name": "stdout",
     "output_type": "stream",
     "text": [
      "Stacking: 0.064\n"
     ]
    }
   ],
   "source": [
    "stacking_model = LinearRegression()\n",
    "X_pred = np.asarray(oofs).T\n",
    "X_test_pred = np.zeros((test_set.shape[0], 3))\n",
    "for i, name in enumerate(model_names):\n",
    "    X_test_pred[:, i] = preds[name]\n",
    "\n",
    "reg = stacking_model.fit(X_pred, train_set[target])\n",
    "pred_stack = reg.predict(X_test_pred)\n",
    "\n",
    "score = mean_squared_error(test_set[target], pred_stack)\n",
    "print(f'Stacking:', np.round(np.mean(score), 3))"
   ]
  },
  {
   "cell_type": "code",
   "execution_count": 9,
   "id": "5322dd7c-006e-4980-be14-ca36164639be",
   "metadata": {},
   "outputs": [],
   "source": [
    "bagging = 5\n",
    "\n",
    "metrics = {'linear_reg': [],\n",
    "           'svr': [],\n",
    "           'dt': []}\n",
    "\n",
    "models = [LinearRegression(), DecisionTreeRegressor(),   SVR()]\n",
    "model_names = ['linear_reg', 'svr', 'dt', ]\n",
    "preds = {}\n",
    "\n",
    "for i in range(bagging):\n",
    "    frac = np.random.randint(80, 90)\n",
    "    train_ = train_set.sample(int(train_set.shape[0]*frac/100))\n",
    "    for name, model in zip(model_names, models):\n",
    "        reg = model.fit(train_[input_cols], train_[target])\n",
    "        pred = reg.predict(test_set[input_cols])\n",
    "        score = mean_squared_error(test_set[target], pred)\n",
    "        metrics[name].append(score)\n",
    "        if i==0:\n",
    "            preds[name] = pred/bagging\n",
    "        else:\n",
    "            preds[name] += pred / bagging"
   ]
  },
  {
   "cell_type": "code",
   "execution_count": null,
   "id": "5854597f-2df5-41e4-aab8-47a1206b6972",
   "metadata": {},
   "outputs": [],
   "source": []
  }
 ],
 "metadata": {
  "kernelspec": {
   "display_name": "Python 3 (ipykernel)",
   "language": "python",
   "name": "python3"
  },
  "language_info": {
   "codemirror_mode": {
    "name": "ipython",
    "version": 3
   },
   "file_extension": ".py",
   "mimetype": "text/x-python",
   "name": "python",
   "nbconvert_exporter": "python",
   "pygments_lexer": "ipython3",
   "version": "3.10.11"
  }
 },
 "nbformat": 4,
 "nbformat_minor": 5
}
