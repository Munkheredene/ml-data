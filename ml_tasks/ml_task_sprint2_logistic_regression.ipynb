{
 "cells": [
  {
   "cell_type": "code",
   "execution_count": 1,
   "id": "f1f39d7a-6816-44ee-b611-ee2f21fa8b07",
   "metadata": {},
   "outputs": [],
   "source": [
    "import numpy as np"
   ]
  },
  {
   "cell_type": "code",
   "execution_count": 10,
   "id": "4e1eabf8-e59a-42d7-b85b-512357491c64",
   "metadata": {},
   "outputs": [],
   "source": [
    "class ScratchLogisticRegression():\n",
    "    def __init__(self, num_iter, lr, no_bias, verbose,lam):\n",
    "        self.num_iter = num_iter\n",
    "        self.lr = lr\n",
    "        self.bias = no_bias\n",
    "        self.verbose = verbose\n",
    "        self.lam = lam\n",
    "        self.theta = np.array([])\n",
    "        self.loss = np.array([])\n",
    "        self.val_loss = np.array([])\n",
    "\n",
    "    def fit(self, X, y, X_val, y_val):\n",
    "        \"\"\"train\"\"\"\n",
    "        if self.bias == True:\n",
    "            bias = np.ones((X.shape[0], 1))\n",
    "            X = np.hstack((bias, X))\n",
    "            bias = np.ones((X_val.shape[0], 1))\n",
    "            X_val = np.hstack((bias, X_val))\n",
    "            \n",
    "        self.theta = np.zeros(X.shape[1])\n",
    "        self.theta = self.theta.reshape(X.shape[1], 1)\n",
    "        \n",
    "        for i in range(self.num_iter):\n",
    "            pred = self._logistic_hypothesis(X)\n",
    "            pred_val = self._logistic_hypothesis(X_val)\n",
    "            self._gradient_descent(X, y)\n",
    "            loss = self._loss_func(pred, y)\n",
    "            self.loss = np.append(self.loss, loss)\n",
    "            loss_val = self._loss_func(pred_val, y_val)\n",
    "            self.val_loss = np.append(self.val_loss, loss_val)\n",
    "            if self.verbose == True:\n",
    "                print('{}-th iter training loss = {}'.format(i,loss))\n",
    "\n",
    "    def _gradient_descent(self, X, y):\n",
    "        \"\"\"Θ update (steepest descent method)\"\"\"\n",
    "        m = X.shape[0]\n",
    "        n = X.shape[1]\n",
    "        pred = self._logistic_hypothesis(X)\n",
    "        for j in range(n):\n",
    "            gradient = 0\n",
    "            for i in range(m):\n",
    "                gradient += (pred[i] - y[i]) * X[i, j]\n",
    "            self.theta[j] = self.theta[j] - self.lr * ((gradient+self.lam*self.theta[j]) / m)\n",
    "     \n",
    "    def _sigmoid(self,y):\n",
    "        \"\"\"sigmoid function\"\"\"\n",
    "        return 1 / (1 + np.exp(-y))\n",
    "        \n",
    "    def _logistic_hypothesis(self, X):\n",
    "        pred = X @ self.theta\n",
    "        pred = self._sigmoid(pred)\n",
    "        return pred\n",
    "       \n",
    "    def predict(self, X):\n",
    "        \"\"\"prediction\"\"\"\n",
    "        if self.bias == True:\n",
    "            a = np.ones(X.shape[0]).reshape(X.shape[0], 1)\n",
    "            X = np.hstack([a, X])\n",
    "        return np.where(self._logistic_hypothesis(X) >= 0.5,1,0)\n",
    "\n",
    "    def predict_proba(self, X):\n",
    "        if self.bias == True:\n",
    "            a = np.ones(X.shape[0]).reshape(X.shape[0], 1)\n",
    "            X = np.hstack([a, X])\n",
    "        pred = self._logistic_hypothesis(X)\n",
    "        return pred\n",
    "        \n",
    "    def _loss_func(self, pred, y):\n",
    "        error = 0\n",
    "        for i in range(y.shape[0]):\n",
    "            error += -np.sum(y[i] *  np.log(pred[i])+(1-y[i]) *  np.log(1-pred[i]))\n",
    "        loss = error / (y.shape[0])\n",
    "        loss = loss + np.sum(self.theta**2)*self.lam/(2 * y.shape[0])\n",
    "        return loss"
   ]
  },
  {
   "cell_type": "markdown",
   "id": "17b6b3f8-db52-4349-8a55-a70de623c453",
   "metadata": {},
   "source": [
    "Test"
   ]
  },
  {
   "cell_type": "code",
   "execution_count": 11,
   "id": "aa5485be-5cb2-44eb-8920-7b0589bbfb94",
   "metadata": {},
   "outputs": [],
   "source": [
    "import numpy as np\n",
    "import pandas as pd\n",
    "from sklearn.datasets import load_iris\n",
    "from sklearn.model_selection import train_test_split\n",
    "\n",
    "iris = load_iris()\n",
    "X = iris.data[:100,:]\n",
    "y = iris.target[:100]\n",
    "(X_train, X_test, y_train, y_test) = train_test_split(X, y, test_size=0.2)"
   ]
  },
  {
   "cell_type": "code",
   "execution_count": 12,
   "id": "77163b6d-0165-45c8-a361-fd128bd58d2e",
   "metadata": {},
   "outputs": [
    {
     "name": "stdout",
     "output_type": "stream",
     "text": [
      "0-th iter training loss = 0.6931472152793304\n",
      "1-th iter training loss = 0.6876723961852191\n",
      "2-th iter training loss = 0.6824847491632078\n",
      "3-th iter training loss = 0.6775267364128742\n",
      "4-th iter training loss = 0.6727540350751329\n",
      "5-th iter training loss = 0.6681325095830186\n",
      "6-th iter training loss = 0.6636358640786778\n",
      "7-th iter training loss = 0.6592438287616662\n",
      "8-th iter training loss = 0.6549407623165743\n",
      "9-th iter training loss = 0.650714576869692\n",
      "10-th iter training loss = 0.6465559120272697\n",
      "11-th iter training loss = 0.6424575007740576\n",
      "12-th iter training loss = 0.6384136828932776\n",
      "13-th iter training loss = 0.63442003168147\n",
      "14-th iter training loss = 0.6304730676069237\n",
      "15-th iter training loss = 0.6265700386598045\n",
      "16-th iter training loss = 0.6227087518479217\n",
      "17-th iter training loss = 0.6188874439132146\n",
      "18-th iter training loss = 0.6151046821255393\n",
      "19-th iter training loss = 0.6113592881444109\n",
      "20-th iter training loss = 0.6076502795755607\n",
      "21-th iter training loss = 0.6039768251031307\n",
      "22-th iter training loss = 0.6003382100392283\n",
      "23-th iter training loss = 0.5967338098688446\n",
      "24-th iter training loss = 0.5931630699323999\n",
      "25-th iter training loss = 0.5896254898206506\n",
      "26-th iter training loss = 0.5861206113882607\n",
      "27-th iter training loss = 0.5826480095465748\n",
      "28-th iter training loss = 0.5792072851911233\n",
      "29-th iter training loss = 0.5757980597690233\n",
      "30-th iter training loss = 0.5724199711062136\n",
      "31-th iter training loss = 0.5690726702026073\n",
      "32-th iter training loss = 0.5657558187708837\n",
      "33-th iter training loss = 0.5624690873466003\n",
      "34-th iter training loss = 0.5592121538371974\n",
      "35-th iter training loss = 0.555984702408134\n",
      "36-th iter training loss = 0.5527864226279263\n",
      "37-th iter training loss = 0.5496170088119665\n",
      "38-th iter training loss = 0.5464761595189104\n",
      "39-th iter training loss = 0.5433635771641006\n",
      "40-th iter training loss = 0.5402789677227234\n",
      "41-th iter training loss = 0.5372220405017063\n",
      "42-th iter training loss = 0.5341925079642268\n",
      "43-th iter training loss = 0.5311900855944329\n",
      "44-th iter training loss = 0.528214491792852\n",
      "45-th iter training loss = 0.5252654477951759\n",
      "46-th iter training loss = 0.5223426776087979\n",
      "47-th iter training loss = 0.5194459079628014\n",
      "48-th iter training loss = 0.5165748682680849\n",
      "49-th iter training loss = 0.5137292905850943\n"
     ]
    }
   ],
   "source": [
    "slr = ScratchLogisticRegression(num_iter=50, lr=0.01, no_bias=True, verbose=True, lam=0.1)\n",
    "slr.fit(X_train, y_train, X_test, y_test)"
   ]
  },
  {
   "cell_type": "code",
   "execution_count": 13,
   "id": "9f6e20c4-3fe8-4159-a778-7ff19516872d",
   "metadata": {},
   "outputs": [],
   "source": [
    "pred = slr.predict_proba(X_test)"
   ]
  },
  {
   "cell_type": "code",
   "execution_count": 14,
   "id": "4d456dee-25cb-47dc-86cd-65fb99b701ae",
   "metadata": {},
   "outputs": [
    {
     "data": {
      "text/plain": [
       "array([[0.62814949],\n",
       "       [0.43195778],\n",
       "       [0.68608659],\n",
       "       [0.6392833 ],\n",
       "       [0.44858279],\n",
       "       [0.4277881 ],\n",
       "       [0.63463645],\n",
       "       [0.43911319],\n",
       "       [0.40730189],\n",
       "       [0.42318032],\n",
       "       [0.4442233 ],\n",
       "       [0.65392042],\n",
       "       [0.39201623],\n",
       "       [0.66774575],\n",
       "       [0.62986937],\n",
       "       [0.65960631],\n",
       "       [0.64687167],\n",
       "       [0.42072695],\n",
       "       [0.63594879],\n",
       "       [0.62429777]])"
      ]
     },
     "execution_count": 14,
     "metadata": {},
     "output_type": "execute_result"
    }
   ],
   "source": [
    "pred"
   ]
  },
  {
   "cell_type": "code",
   "execution_count": 15,
   "id": "0ff1effb-81ed-4cf5-9628-3f77b2d5d703",
   "metadata": {},
   "outputs": [
    {
     "data": {
      "image/png": "[encoded data removed]",
      "text/plain": [
       "<Figure size 640x480 with 1 Axes>"
      ]
     },
     "metadata": {},
     "output_type": "display_data"
    }
   ],
   "source": [
    "import matplotlib.pyplot as plt\n",
    "plt.plot(slr.loss)\n",
    "plt.plot(slr.val_loss)\n",
    "plt.show()"
   ]
  },
  {
   "cell_type": "markdown",
   "id": "a1c1a1d4-79a9-4d46-89e1-5406a35e6ec7",
   "metadata": {},
   "source": [
    "Decision Boundry"
   ]
  },
  {
   "cell_type": "code",
   "execution_count": null,
   "id": "1bb86080-c263-4cba-bc4b-84366e5f1d6b",
   "metadata": {},
   "outputs": [],
   "source": []
  }
 ],
 "metadata": {
  "kernelspec": {
   "display_name": "Python 3 (ipykernel)",
   "language": "python",
   "name": "python3"
  },
  "language_info": {
   "codemirror_mode": {
    "name": "ipython",
    "version": 3
   },
   "file_extension": ".py",
   "mimetype": "text/x-python",
   "name": "python",
   "nbconvert_exporter": "python",
   "pygments_lexer": "ipython3",
   "version": "3.10.11"
  }
 },
 "nbformat": 4,
 "nbformat_minor": 5
}
