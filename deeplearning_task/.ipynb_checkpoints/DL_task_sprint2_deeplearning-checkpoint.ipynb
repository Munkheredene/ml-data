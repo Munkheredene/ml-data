{
 "cells": [
  {
   "cell_type": "code",
   "execution_count": 1,
   "id": "a9805f93-02b9-4fe3-83aa-96315585bf04",
   "metadata": {},
   "outputs": [],
   "source": [
    "import numpy as np"
   ]
  },
  {
   "cell_type": "markdown",
   "id": "58d25268-c9cb-4187-9512-62669ebbd18c",
   "metadata": {},
   "source": [
    "Problem 1 Classification of fully connected layers"
   ]
  },
  {
   "cell_type": "code",
   "execution_count": 2,
   "id": "1efab9c1-f135-4f95-95ea-01f6c1e4e0b4",
   "metadata": {},
   "outputs": [],
   "source": [
    "class GetMiniBatch:\n",
    "    def __init__(self, X, y, batch_size = 20, seed=0):\n",
    "        self.batch_size = batch_size\n",
    "        np.random.seed(seed)\n",
    "        shuffle_index = np.random.permutation(np.arange(X.shape[0]))\n",
    "        self._X = X[shuffle_index]\n",
    "        self._y = y[shuffle_index]\n",
    "        self._stop = np.ceil(X.shape[0]/self.batch_size).astype(int)\n",
    "\n",
    "    def __len__(self):\n",
    "        return self._stop\n",
    "\n",
    "    def __getitem__(self,item):\n",
    "        p0 = item*self.batch_size\n",
    "        p1 = item*self.batch_size + self.batch_size\n",
    "        return self._X[p0:p1], self._y[p0:p1]\n",
    "\n",
    "    def __iter__(self):\n",
    "        self._counter = 0\n",
    "        return self\n",
    "\n",
    "    def __next__(self):\n",
    "        if self._counter >= self._stop:\n",
    "            raise StopIteration()\n",
    "        p0 = self._counter*self.batch_size\n",
    "        p1 = self._counter*self.batch_size + self.batch_size\n",
    "        self._counter += 1\n",
    "        return self._X[p0:p1], self._y[p0:p1]"
   ]
  },
  {
   "cell_type": "code",
   "execution_count": 3,
   "id": "1f3e93b3-faca-4ce8-9035-0b57d9ada9c8",
   "metadata": {},
   "outputs": [],
   "source": [
    "class FC:\n",
    "    \"\"\"\n",
    "  Fully connected layer from number of nodes n_nodes1 to n_nodes2\n",
    "     Parameters\n",
    "     ----------\n",
    "     n_nodes1 : int\n",
    "       Number of nodes in previous layer\n",
    "     n_nodes2 : int\n",
    "       Number of nodes in later layers\n",
    "     initializer : instance of initialization method\n",
    "     optimizer: instance of optimization method\n",
    "    \"\"\"\n",
    "    def __init__(self, n_nodes1, n_nodes2, initializer, optimizer):\n",
    "        \n",
    "        self.optimizer = optimizer\n",
    "        self.W, self.B = initializer.W(n_nodes1, n_nodes2), initializer.B(n_nodes2)\n",
    "        \n",
    "        \n",
    "    def forward(self, X):\n",
    "        \"\"\"\n",
    "        forward\n",
    "         Parameters\n",
    "         ----------\n",
    "         X : ndarray of the following shape, shape (batch_size, n_nodes1)\n",
    "             input\n",
    "         Returns\n",
    "         ----------\n",
    "         A: ndarray of the following shape, shape (batch_size, n_nodes2)\n",
    "             output\n",
    "        \"\"\"\n",
    "        self.X = X\n",
    "        A = X @ self.W + self.B\n",
    "        \n",
    "        return A\n",
    "        \n",
    "    def backward(self, dA):\n",
    "        \"\"\"\n",
    "     backwards\n",
    "         Parameters\n",
    "         ----------\n",
    "         dA : ndarray of the following shape, shape (batch_size, n_nodes2)\n",
    "             The slope flowing from behind\n",
    "         Returns\n",
    "         ----------\n",
    "         dZ : ndarray of the following shape, shape (batch_size, n_nodes1)\n",
    "             forward gradient\n",
    "        \"\"\"\n",
    "\n",
    "        self.dB = np.mean(dA, axis = 0)\n",
    "        self.dW = np.dot(self.X.T, dA)/len(self.X)\n",
    "        \n",
    "        dZ = dA @ self.W.T\n",
    "        self = self.optimizer.update(self)\n",
    "        \n",
    "        return dZ"
   ]
  },
  {
   "cell_type": "code",
   "execution_count": 4,
   "id": "0b02eaac-8f86-426d-8ad8-20d999585ec4",
   "metadata": {},
   "outputs": [],
   "source": [
    "# initializer\n",
    "class SimpleInitializer:\n",
    "    def __init__(self, sigma):\n",
    "        self.sigma = sigma\n",
    "        \n",
    "    def W(self, n_nodes1, n_nodes2):\n",
    "        W = self.sigma * np.random.randn(n_nodes1, n_nodes2)\n",
    "        return W\n",
    "        \n",
    "    def B(self, n_nodes2):\n",
    "        B = self.sigma * np.random.randn(1, n_nodes2)\n",
    "        \n",
    "        return B"
   ]
  },
  {
   "cell_type": "markdown",
   "id": "3018a097-e75c-4c8c-90c6-5f07e6bc330f",
   "metadata": {},
   "source": [
    "Optimizer "
   ]
  },
  {
   "cell_type": "code",
   "execution_count": 5,
   "id": "0f9871eb-c8cb-4f85-bd9b-c76d51f3f76e",
   "metadata": {},
   "outputs": [],
   "source": [
    "class SGD:\n",
    "    \"\"\"\n",
    "     stochastic gradient descent\n",
    "     Parameters\n",
    "     ----------\n",
    "     lr: learning rate\n",
    "    \"\"\"\n",
    "    def __init__(self, lr):\n",
    "        self.lr = lr\n",
    "        \n",
    "    def update(self, layer):\n",
    "        \"\"\"\n",
    "        Update weights and biases for a layer\n",
    "         Parameters\n",
    "         ----------\n",
    "        layer : Instance of layer before update\n",
    "        \"\"\"\n",
    "        layer.W -= self.lr*layer.dW\n",
    "        layer.B -= self.lr*layer.dB\n",
    "\n",
    "        return layer"
   ]
  },
  {
   "cell_type": "code",
   "execution_count": 6,
   "id": "bc35ade3-debf-45e2-aa36-1c61c4ed54e4",
   "metadata": {},
   "outputs": [],
   "source": [
    "class activation_func:\n",
    "\n",
    "    def __init__(self, function_type):\n",
    "        \n",
    "        self.function_type=function_type\n",
    "        \n",
    "    def forward(self, X):\n",
    "        \n",
    "        if self.function_type==\"tanh\":\n",
    "            self.A = self.tanh_function(X)\n",
    "        elif self.function_type==\"softmax\":\n",
    "            self.A = self.softmax(X)\n",
    "\n",
    "        return self.A\n",
    "        \n",
    "    def backward(self, dZ):\n",
    "\n",
    "        if self.function_type==\"tanh\":\n",
    "            grad_res = self.grad_tanh(dZ)\n",
    "        elif self.function_type==\"softmax\":\n",
    "            grad_res = self.grad_softmax(dZ)\n",
    "        return grad_res\n",
    "\n",
    "    def tanh_function(self, A):\n",
    "        return (np.exp(A)-np.exp(-A))/(np.exp(A)+np.exp(-A))\n",
    "    \n",
    "    def softmax(self, A):\n",
    "        return np.exp(A)/np.sum(np.exp(A), axis=0)\n",
    "\n",
    "    def grad_tanh(self, dZ):\n",
    "         return dZ * (1-self.A**2)\n",
    "\n",
    "    def grad_softmax(self, dZ):\n",
    "        return dZ"
   ]
  },
  {
   "cell_type": "code",
   "execution_count": 7,
   "id": "9b0550d1-4f4e-40a4-a577-0cb5ed0237ed",
   "metadata": {},
   "outputs": [],
   "source": [
    "class ScratchSimpleDeepNeuralNetrowkClassifier():\n",
    "    def __init__(self,\n",
    "                 batch_size = 20, #number of data\n",
    "                 n_features = 784, #input size\n",
    "                 n_nodes1 = 400, # hidden size of first layer \n",
    "                 n_nodes2 = 200, # hidden size of second layer \n",
    "                 n_output = 10, # 0-9 total 10 numbers\n",
    "                 sigma = 0.02, # parameter initialize \n",
    "                 lr = 0.01, #learning rate \n",
    "                 epoch = 10, #iteration \n",
    "                 verbose=True):\n",
    "        \n",
    "        self.verbose = verbose\n",
    "        self.batch_size = batch_size\n",
    "        self.n_features = n_features\n",
    "        self.n_nodes1 = n_nodes1\n",
    "        self.n_nodes2 = n_nodes2 \n",
    "        self.n_output = n_output\n",
    "        self.sigma = sigma\n",
    "        self.lr = lr\n",
    "        self.epoch = epoch\n",
    "        self.loss_train = []\n",
    "        self.loss_val = []\n",
    "\n",
    "        #neural net initilize\n",
    "        optimizer = SGD(self.lr)\n",
    "        self.FC1 = FC(self.n_features, self.n_nodes1, SimpleInitializer(self.sigma), optimizer)\n",
    "        self.activation1 = activation_func(function_type='tanh')\n",
    "        self.FC2 = FC(self.n_nodes1, self.n_nodes2, SimpleInitializer(self.sigma), optimizer)\n",
    "        self.activation2 = activation_func(function_type='tanh')\n",
    "        self.FC3 = FC(self.n_nodes2, self.n_output, SimpleInitializer(self.sigma), optimizer)\n",
    "        self.activation3 = activation_func(function_type='softmax')\n",
    "\n",
    "    def fit(self, X, y, X_val=None, y_val=None):\n",
    "        \n",
    "        for e in range(self.epoch):\n",
    "            get_mini_batch = GetMiniBatch(X, y, batch_size=self.batch_size)\n",
    "            for mini_X_train, mini_y_train in get_mini_batch:\n",
    "                self.Z3 = self.forward(mini_X_train)\n",
    "                self.backward(mini_y_train)\n",
    "                \n",
    "            self.forward(X)\n",
    "            self.loss_train.append(self.cross_entropy_error(y, self.Z3))\n",
    "            \n",
    "            if X_val is not None:\n",
    "                self.forward(X_val)\n",
    "                self.loss_val.append(self.cross_entropy_error(y_val, self.Z3))\n",
    "                \n",
    "            if self.verbose:\n",
    "                if X_val is None:\n",
    "                    print(self.loss_train)\n",
    "                else:\n",
    "                    print(f\"Epoch {e}:\", \"Train loss:\", self.loss_train[-1], \"Val loss:\", self.loss_val[-1])\n",
    "\n",
    "    \n",
    "    def forward(self, X):\n",
    "        \n",
    "        self.A1 = self.FC1.forward(X)\n",
    "        self.Z1 = self.activation1.forward(self.A1)\n",
    "        self.A2 = self.FC2.forward(self.Z1)\n",
    "        self.Z2 = self.activation2.forward(self.A2)\n",
    "        self.A3 = self.FC3.forward(self.Z2)\n",
    "        self.Z3 = self.activation3.forward(self.A3)\n",
    "        return self.Z3\n",
    "\n",
    "    def backward(self, Y):\n",
    "\n",
    "        self.dA3 = (self.Z3 - Y)/self.batch_size\n",
    "        self.dZ2 = self.FC3.backward(self.dA3)\n",
    "        self.dA2 = self.activation2.backward(self.dZ2)\n",
    "        self.dZ1 = self.FC2.backward(self.dA2)\n",
    "        self.dA1 = self.activation1.backward(self.dZ1)\n",
    "        self.dZ0 = self.FC1.backward(self.dA1) #\n",
    "\n",
    "    \n",
    "    def cross_entropy_error(self, y, Z):\n",
    "        L = - np.sum(y * np.log(Z+1e-7)) / len(y)\n",
    "        return L\n",
    "        \n",
    "    def predict(self, X):\n",
    "        self.forward(X)\n",
    "        return np.argmax(self.Z3, axis=1)"
   ]
  },
  {
   "cell_type": "markdown",
   "id": "4af393e8-1ae8-4dd2-82a4-44e2585b0135",
   "metadata": {},
   "source": [
    "Test"
   ]
  },
  {
   "cell_type": "code",
   "execution_count": 8,
   "id": "68632705-747c-4867-b4d3-7011059755f8",
   "metadata": {},
   "outputs": [],
   "source": [
    "from sklearn.preprocessing import OneHotEncoder\n",
    "import keras"
   ]
  },
  {
   "cell_type": "code",
   "execution_count": 9,
   "id": "44363a98-61bf-4a3f-b05f-1a2f146f379e",
   "metadata": {},
   "outputs": [],
   "source": [
    "(X_train, y_train), (X_test, y_test) = keras.datasets.mnist.load_data()\n",
    "X_train = X_train.reshape(-1, 784)\n",
    "X_test = X_test.reshape(-1, 784)\n",
    "\n",
    "X_train = X_train / 255.0\n",
    "X_test = X_test / 255.0\n",
    "\n",
    "X_train = X_train[:500, :] #because of computation\n",
    "X_test = X_test[:100, :]\n",
    "y_train = y_train[:500]\n",
    "y_test = y_test[:100]"
   ]
  },
  {
   "cell_type": "code",
   "execution_count": 10,
   "id": "b7b5b75c-3bb9-406e-b486-0ea13bccab88",
   "metadata": {},
   "outputs": [],
   "source": [
    "enc = OneHotEncoder(handle_unknown='ignore')\n",
    "y_train_one_hot = enc.fit_transform(y_train[:, np.newaxis])\n",
    "y_test_one_hot = enc.transform(y_test[:, np.newaxis])"
   ]
  },
  {
   "cell_type": "code",
   "execution_count": 11,
   "id": "25d53411-4826-43a2-9134-f46629963eff",
   "metadata": {},
   "outputs": [],
   "source": [
    "model_nn = ScratchSimpleDeepNeuralNetrowkClassifier(batch_size=8, epoch=50)"
   ]
  },
  {
   "cell_type": "code",
   "execution_count": 12,
   "id": "46126638-41d9-40ff-9a65-1a7fe503ad7a",
   "metadata": {},
   "outputs": [
    {
     "name": "stdout",
     "output_type": "stream",
     "text": [
      "Epoch 0: Train loss: 6.211438093541354 Val loss: 4.601854483680448\n",
      "Epoch 1: Train loss: 6.207744263674495 Val loss: 4.59859731388154\n",
      "Epoch 2: Train loss: 6.2040464699949105 Val loss: 4.595335449224039\n",
      "Epoch 3: Train loss: 6.20033485009225 Val loss: 4.592059919298471\n",
      "Epoch 4: Train loss: 6.196599606474054 Val loss: 4.588761807838233\n",
      "Epoch 5: Train loss: 6.192830958415097 Val loss: 4.585432208273806\n",
      "Epoch 6: Train loss: 6.189019096219329 Val loss: 4.58206218141266\n",
      "Epoch 7: Train loss: 6.185154137613615 Val loss: 4.578642714976583\n",
      "Epoch 8: Train loss: 6.181226086067065 Val loss: 4.575164684794414\n",
      "Epoch 9: Train loss: 6.177224790903745 Val loss: 4.571618817513719\n",
      "Epoch 10: Train loss: 6.17313990915208 Val loss: 4.567995654761603\n",
      "Epoch 11: Train loss: 6.168960869152996 Val loss: 4.564285518754234\n",
      "Epoch 12: Train loss: 6.1646768360324335 Val loss: 4.5604784794282835\n",
      "Epoch 13: Train loss: 6.160276679234085 Val loss: 4.5565643232468815\n",
      "Epoch 14: Train loss: 6.155748942406235 Val loss: 4.552532523919167\n",
      "Epoch 15: Train loss: 6.151081816043847 Val loss: 4.548372215367273\n",
      "Epoch 16: Train loss: 6.146263113404342 Val loss: 4.544072167378606\n",
      "Epoch 17: Train loss: 6.141280250343371 Val loss: 4.53962076449516\n",
      "Epoch 18: Train loss: 6.136120229855246 Val loss: 4.53500598881554\n",
      "Epoch 19: Train loss: 6.1307696322505505 Val loss: 4.5302154075188605\n",
      "Epoch 20: Train loss: 6.1252146120590805 Val loss: 4.525236166061449\n",
      "Epoch 21: Train loss: 6.1194409029061845 Val loss: 4.520054988144856\n",
      "Epoch 22: Train loss: 6.113433831770031 Val loss: 4.514658183703439\n",
      "Epoch 23: Train loss: 6.1071783441793706 Val loss: 4.5090316663060825\n",
      "Epoch 24: Train loss: 6.1006590420466855 Val loss: 4.503160981502323\n",
      "Epoch 25: Train loss: 6.0938602359384895 Val loss: 4.497031347758379\n",
      "Epoch 26: Train loss: 6.086766013648085 Val loss: 4.490627711711429\n",
      "Epoch 27: Train loss: 6.0793603269388425 Val loss: 4.483934819506204\n",
      "Epoch 28: Train loss: 6.071627098247895 Val loss: 4.476937305949536\n",
      "Epoch 29: Train loss: 6.0635503489585245 Val loss: 4.469619803106717\n",
      "Epoch 30: Train loss: 6.055114350541445 Val loss: 4.461967069747974\n",
      "Epoch 31: Train loss: 6.046303799407555 Val loss: 4.453964142713233\n",
      "Epoch 32: Train loss: 6.03710401568753 Val loss: 4.445596510779437\n",
      "Epoch 33: Train loss: 6.0275011653422 Val loss: 4.436850310971281\n",
      "Epoch 34: Train loss: 6.017482504005986 Val loss: 4.427712546444142\n",
      "Epoch 35: Train loss: 6.007036639780827 Val loss: 4.4181713240869644\n",
      "Epoch 36: Train loss: 5.99615381085314 Val loss: 4.40821610885609\n",
      "Epoch 37: Train loss: 5.984826172345296 Val loss: 4.397837990587107\n",
      "Epoch 38: Train loss: 5.973048085302746 Val loss: 4.387029957688793\n",
      "Epoch 39: Train loss: 5.9608163992501835 Val loss: 4.37578717077039\n",
      "Epoch 40: Train loss: 5.948130718441554 Val loss: 4.36410722798196\n",
      "Epoch 41: Train loss: 5.934993640917008 Val loss: 4.351990412769732\n",
      "Epoch 42: Train loss: 5.921410958918185 Val loss: 4.339439913993698\n",
      "Epoch 43: Train loss: 5.9073918092587805 Val loss: 4.326462008063487\n",
      "Epoch 44: Train loss: 5.892948763046983 Val loss: 4.313066193059921\n",
      "Epoch 45: Train loss: 5.878097845826915 Val loss: 4.299265265847592\n",
      "Epoch 46: Train loss: 5.862858481810031 Val loss: 4.285075335035321\n",
      "Epoch 47: Train loss: 5.84725335938631 Val loss: 4.270515765333407\n",
      "Epoch 48: Train loss: 5.831308219413484 Val loss: 4.255609052329199\n",
      "Epoch 49: Train loss: 5.815051572627002 Val loss: 4.240380630784958\n"
     ]
    }
   ],
   "source": [
    "model_nn.fit(X_train, y_train_one_hot.toarray(), X_test, y_test_one_hot.toarray())"
   ]
  },
  {
   "cell_type": "code",
   "execution_count": 13,
   "id": "a4aa5a98-e11b-4546-adf7-8ee244639f8f",
   "metadata": {},
   "outputs": [
    {
     "name": "stdout",
     "output_type": "stream",
     "text": [
      "[7 2 1 0 4 1 9 4 2 7 0 0 9 0 1 0 9 7 3 4 9 6 6 3 4 0 7 4 0 1 3 1 3 0 7 2 7\n",
      " 1 3 1 1 7 9 1 1 3 1 1 9 4 6 0 0 5 2 0 4 1 9 5 7 2 4 2 7 5 2 4 3 0 7 0 0 1\n",
      " 1 7 3 7 1 7 9 0 2 7 4 4 7 0 6 1 3 6 1 3 1 9 1 1 0 9]\n",
      "Accuracy: 0.65\n"
     ]
    }
   ],
   "source": [
    "from sklearn.metrics import accuracy_score, f1_score\n",
    "\n",
    "pred = model_nn.predict(X_test)\n",
    "print(pred)\n",
    "acc = accuracy_score(y_test, pred)\n",
    "print(\"Accuracy:\", acc)"
   ]
  },
  {
   "cell_type": "code",
   "execution_count": 14,
   "id": "dfe6f615-6635-4168-a34f-8fa8321abea1",
   "metadata": {},
   "outputs": [
    {
     "data": {
      "image/png": "[encoded data removed]",
      "text/plain": [
       "<Figure size 640x480 with 1 Axes>"
      ]
     },
     "metadata": {},
     "output_type": "display_data"
    }
   ],
   "source": [
    "import matplotlib.pyplot as plt\n",
    "fig = plt.subplots()\n",
    "plt.title(\"Loss learning graph\")\n",
    "plt.xlabel(\"epoch\")\n",
    "plt.ylabel('Loss')\n",
    "plt.plot(model_nn.loss_train)\n",
    "plt.show()"
   ]
  },
  {
   "cell_type": "code",
   "execution_count": 15,
   "id": "89edddbf-f7bc-42c3-8aed-6880787bbe78",
   "metadata": {},
   "outputs": [],
   "source": [
    "class XavierInitializer:\n",
    "\n",
    "    def __init__(self):\n",
    "        self.n_prev_nodes = 1\n",
    "        pass\n",
    "        \n",
    "    def W(self, n_nodes1, n_nodes2):\n",
    "        self.n_prev_nodes = n_nodes1\n",
    "        W = np.random.randn(n_nodes1, n_nodes2) / np.sqrt(n_nodes1)\n",
    "        return W\n",
    "    \n",
    "    def B(self, n_nodes2):\n",
    "        B = np.random.randn(1, n_nodes2) / np.sqrt(self.n_prev_nodes)\n",
    "        return B"
   ]
  },
  {
   "cell_type": "code",
   "execution_count": 16,
   "id": "111bb22a-ea1b-48a7-851e-2736c1fa0596",
   "metadata": {},
   "outputs": [],
   "source": [
    "class HeInitializer:\n",
    " \n",
    "    def __init__(self):\n",
    "        self.n_prev_nodes = 1\n",
    "        pass\n",
    "        \n",
    "    def W(self, n_nodes1, n_nodes2):\n",
    "        self.n_prev_nodes = n_nodes1\n",
    "        W = np.random.randn(n_nodes1, n_nodes2) * np.sqrt(2 / n_nodes1)\n",
    "        return W\n",
    "    \n",
    "    def B(self, n_nodes2):\n",
    "        B = np.random.randn(1, n_nodes2) * np.sqrt(2 / self.n_prev_nodes)\n",
    "        return B"
   ]
  },
  {
   "cell_type": "code",
   "execution_count": 17,
   "id": "0cd35a68-ffc7-4f14-84ad-bc6cd34ab03c",
   "metadata": {},
   "outputs": [],
   "source": [
    "class AdaGrad:\n",
    "  \n",
    "    def __init__(self, lr):\n",
    "        self.lr = lr\n",
    "        self.H_B = 1\n",
    "        self.H_W = 1\n",
    "    def update(self, layer):\n",
    "            \n",
    "        #dA, dW Update & save\n",
    "        self.H_B = self.H_B + np.average(layer.dA)**2\n",
    "        self.H_W = self.H_W + np.average(layer.dW)**2\n",
    "        \n",
    "        layer.B = layer.B - self.lr * np.average(layer.dA, axis=0) / np.sqrt(self.H_B)\n",
    "        layer.W = layer.W - self.lr * layer.dW / layer.dA.shape[0] / np.sqrt(self.H_W)\n",
    "        \n",
    "        return layer"
   ]
  },
  {
   "cell_type": "code",
   "execution_count": 18,
   "id": "7ce970dd-5530-4f96-8136-0da942162b39",
   "metadata": {},
   "outputs": [],
   "source": [
    "model_nn = ScratchSimpleDeepNeuralNetrowkClassifier(batch_size=8, epoch=10)"
   ]
  },
  {
   "cell_type": "code",
   "execution_count": 19,
   "id": "e2d43822-b087-4130-99d7-fbd3453e2d51",
   "metadata": {},
   "outputs": [
    {
     "name": "stdout",
     "output_type": "stream",
     "text": [
      "Epoch 0: Train loss: 6.2131157344382935 Val loss: 4.604782053226574\n",
      "Epoch 1: Train loss: 6.209492644012882 Val loss: 4.601711520880262\n",
      "Epoch 2: Train loss: 6.205865100553302 Val loss: 4.59863740593987\n",
      "Epoch 3: Train loss: 6.202223648765309 Val loss: 4.59555138776255\n",
      "Epoch 4: Train loss: 6.198558873588392 Val loss: 4.592445180032001\n",
      "Epoch 5: Train loss: 6.194861354913943 Val loss: 4.589310490024265\n",
      "Epoch 6: Train loss: 6.191121624152451 Val loss: 4.586138979443115\n",
      "Epoch 7: Train loss: 6.187330122386882 Val loss: 4.582922226574155\n",
      "Epoch 8: Train loss: 6.183477159909315 Val loss: 4.5796516895578545\n",
      "Epoch 9: Train loss: 6.179552876997925 Val loss: 4.576318670632631\n"
     ]
    }
   ],
   "source": [
    "model_nn.fit(X_train, y_train_one_hot.toarray(), X_test, y_test_one_hot.toarray())"
   ]
  },
  {
   "cell_type": "code",
   "execution_count": null,
   "id": "c8b43c81-6600-4469-8116-2f2441c17eb5",
   "metadata": {},
   "outputs": [],
   "source": []
  }
 ],
 "metadata": {
  "kernelspec": {
   "display_name": "Python 3 (ipykernel)",
   "language": "python",
   "name": "python3"
  },
  "language_info": {
   "codemirror_mode": {
    "name": "ipython",
    "version": 3
   },
   "file_extension": ".py",
   "mimetype": "text/x-python",
   "name": "python",
   "nbconvert_exporter": "python",
   "pygments_lexer": "ipython3",
   "version": "3.10.11"
  }
 },
 "nbformat": 4,
 "nbformat_minor": 5
}
