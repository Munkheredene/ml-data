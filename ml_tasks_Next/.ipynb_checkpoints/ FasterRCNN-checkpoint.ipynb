{
 "cells": [
  {
   "cell_type": "code",
   "execution_count": 21,
   "id": "756df465-dc28-4c89-ba73-3a4ceda04d33",
   "metadata": {},
   "outputs": [
    {
     "name": "stdout",
     "output_type": "stream",
     "text": [
      "Requirement already satisfied: albumentations==0.4.6 in c:\\users\\munkherdene\\appdata\\local\\programs\\python\\python310\\lib\\site-packages (0.4.6)\n",
      "Requirement already satisfied: numpy>=1.11.1 in c:\\users\\munkherdene\\appdata\\local\\programs\\python\\python310\\lib\\site-packages (from albumentations==0.4.6) (1.26.4)\n",
      "Requirement already satisfied: scipy in c:\\users\\munkherdene\\appdata\\local\\programs\\python\\python310\\lib\\site-packages (from albumentations==0.4.6) (1.10.1)\n",
      "Requirement already satisfied: imgaug>=0.4.0 in c:\\users\\munkherdene\\appdata\\local\\programs\\python\\python310\\lib\\site-packages (from albumentations==0.4.6) (0.4.0)\n",
      "Requirement already satisfied: PyYAML in c:\\users\\munkherdene\\appdata\\local\\programs\\python\\python310\\lib\\site-packages (from albumentations==0.4.6) (5.1)\n",
      "Requirement already satisfied: opencv-python>=4.1.1 in c:\\users\\munkherdene\\appdata\\local\\programs\\python\\python310\\lib\\site-packages (from albumentations==0.4.6) (4.9.0.80)\n",
      "Requirement already satisfied: six in c:\\users\\munkherdene\\appdata\\local\\programs\\python\\python310\\lib\\site-packages (from imgaug>=0.4.0->albumentations==0.4.6) (1.16.0)\n",
      "Requirement already satisfied: Pillow in c:\\users\\munkherdene\\appdata\\local\\programs\\python\\python310\\lib\\site-packages (from imgaug>=0.4.0->albumentations==0.4.6) (10.3.0)\n",
      "Requirement already satisfied: matplotlib in c:\\users\\munkherdene\\appdata\\local\\programs\\python\\python310\\lib\\site-packages (from imgaug>=0.4.0->albumentations==0.4.6) (3.8.4)\n",
      "Requirement already satisfied: scikit-image>=0.14.2 in c:\\users\\munkherdene\\appdata\\local\\programs\\python\\python310\\lib\\site-packages (from imgaug>=0.4.0->albumentations==0.4.6) (0.20.0)\n",
      "Requirement already satisfied: imageio in c:\\users\\munkherdene\\appdata\\local\\programs\\python\\python310\\lib\\site-packages (from imgaug>=0.4.0->albumentations==0.4.6) (2.5.0)\n",
      "Requirement already satisfied: Shapely in c:\\users\\munkherdene\\appdata\\local\\programs\\python\\python310\\lib\\site-packages (from imgaug>=0.4.0->albumentations==0.4.6) (2.0.4)\n",
      "Requirement already satisfied: networkx>=2.8 in c:\\users\\munkherdene\\appdata\\local\\programs\\python\\python310\\lib\\site-packages (from scikit-image>=0.14.2->imgaug>=0.4.0->albumentations==0.4.6) (3.2.1)\n",
      "Requirement already satisfied: tifffile>=2019.7.26 in c:\\users\\munkherdene\\appdata\\local\\programs\\python\\python310\\lib\\site-packages (from scikit-image>=0.14.2->imgaug>=0.4.0->albumentations==0.4.6) (2024.5.3)\n",
      "Requirement already satisfied: PyWavelets>=1.1.1 in c:\\users\\munkherdene\\appdata\\local\\programs\\python\\python310\\lib\\site-packages (from scikit-image>=0.14.2->imgaug>=0.4.0->albumentations==0.4.6) (1.6.0)\n",
      "Requirement already satisfied: packaging>=20.0 in c:\\users\\munkherdene\\appdata\\local\\programs\\python\\python310\\lib\\site-packages (from scikit-image>=0.14.2->imgaug>=0.4.0->albumentations==0.4.6) (24.0)\n",
      "Requirement already satisfied: lazy_loader>=0.1 in c:\\users\\munkherdene\\appdata\\local\\programs\\python\\python310\\lib\\site-packages (from scikit-image>=0.14.2->imgaug>=0.4.0->albumentations==0.4.6) (0.4)\n",
      "Requirement already satisfied: contourpy>=1.0.1 in c:\\users\\munkherdene\\appdata\\local\\programs\\python\\python310\\lib\\site-packages (from matplotlib->imgaug>=0.4.0->albumentations==0.4.6) (1.2.1)\n",
      "Requirement already satisfied: cycler>=0.10 in c:\\users\\munkherdene\\appdata\\local\\programs\\python\\python310\\lib\\site-packages (from matplotlib->imgaug>=0.4.0->albumentations==0.4.6) (0.12.1)\n",
      "Requirement already satisfied: fonttools>=4.22.0 in c:\\users\\munkherdene\\appdata\\local\\programs\\python\\python310\\lib\\site-packages (from matplotlib->imgaug>=0.4.0->albumentations==0.4.6) (4.51.0)\n",
      "Requirement already satisfied: kiwisolver>=1.3.1 in c:\\users\\munkherdene\\appdata\\local\\programs\\python\\python310\\lib\\site-packages (from matplotlib->imgaug>=0.4.0->albumentations==0.4.6) (1.4.5)\n",
      "Requirement already satisfied: pyparsing>=2.3.1 in c:\\users\\munkherdene\\appdata\\local\\programs\\python\\python310\\lib\\site-packages (from matplotlib->imgaug>=0.4.0->albumentations==0.4.6) (3.1.2)\n",
      "Requirement already satisfied: python-dateutil>=2.7 in c:\\users\\munkherdene\\appdata\\local\\programs\\python\\python310\\lib\\site-packages (from matplotlib->imgaug>=0.4.0->albumentations==0.4.6) (2.9.0.post0)\n"
     ]
    }
   ],
   "source": [
    "!pip install albumentations==0.4.6"
   ]
  },
  {
   "cell_type": "code",
   "execution_count": 34,
   "id": "3ef8becd-f6f1-4744-baf8-25daa7d5204c",
   "metadata": {},
   "outputs": [],
   "source": [
    "import pandas as pd\n",
    "import numpy as np\n",
    "import cv2\n",
    "import os\n",
    "import re\n",
    "\n",
    "from PIL import Image\n",
    "\n",
    "import albumentations as A\n",
    "from albumentations.pytorch.transforms import ToTensorV2\n",
    "\n",
    "import torch\n",
    "import torchvision\n",
    "\n",
    "from torchvision.models.detection.faster_rcnn import FastRCNNPredictor\n",
    "from torchvision.models.detection import FasterRCNN\n",
    "from torchvision.models.detection.rpn import AnchorGenerator\n",
    "\n",
    "from torch.utils.data import DataLoader, Dataset\n",
    "from torch.utils.data.sampler import SequentialSampler\n",
    "\n",
    "from matplotlib import pyplot as plt\n"
   ]
  },
  {
   "cell_type": "code",
   "execution_count": 35,
   "id": "4b792607-b888-42ee-9b16-26468badc500",
   "metadata": {},
   "outputs": [],
   "source": [
    "DIR_INPUT = '/images/global-wheat-detection'\n",
    "DIR_TRAIN = f'{DIR_INPUT}/train'\n",
    "DIR_TEST = f'{DIR_INPUT}/test'"
   ]
  },
  {
   "cell_type": "code",
   "execution_count": 36,
   "id": "e2148da6-c097-4e90-b4cc-ee5cfee4fedd",
   "metadata": {},
   "outputs": [
    {
     "data": {
      "text/plain": [
       "(147793, 5)"
      ]
     },
     "execution_count": 36,
     "metadata": {},
     "output_type": "execute_result"
    }
   ],
   "source": [
    "train_df = pd.read_csv(f'images/global-wheat-detection/train.csv')\n",
    "train_df.shape"
   ]
  },
  {
   "cell_type": "code",
   "execution_count": 45,
   "id": "6ee9d532-a6f5-4d4b-8a40-e68d1062e09e",
   "metadata": {},
   "outputs": [],
   "source": [
    "train_df['x'] = -1\n",
    "train_df['y'] = -1\n",
    "train_df['w'] = -1\n",
    "train_df['h'] = -1\n",
    "\n",
    "def expand_bbox(x):\n",
    "    r = np.array(re.findall(\"([0-9]+[.]?[0-9]*)\", x))\n",
    "    if len(r) == 0:\n",
    "        r = [-1, -1, -1, -1]\n",
    "    return r\n"
   ]
  },
  {
   "cell_type": "code",
   "execution_count": 46,
   "id": "ef3cb520-1b23-4638-b7ef-e461c2ab1696",
   "metadata": {},
   "outputs": [
    {
     "ename": "KeyError",
     "evalue": "'bboxs'",
     "output_type": "error",
     "traceback": [
      "\u001b[1;31m---------------------------------------------------------------------------\u001b[0m",
      "\u001b[1;31mKeyError\u001b[0m                                  Traceback (most recent call last)",
      "File \u001b[1;32m~\\AppData\\Local\\Programs\\Python\\Python310\\lib\\site-packages\\pandas\\core\\indexes\\base.py:3805\u001b[0m, in \u001b[0;36mIndex.get_loc\u001b[1;34m(self, key)\u001b[0m\n\u001b[0;32m   3804\u001b[0m \u001b[38;5;28;01mtry\u001b[39;00m:\n\u001b[1;32m-> 3805\u001b[0m     \u001b[38;5;28;01mreturn\u001b[39;00m \u001b[38;5;28;43mself\u001b[39;49m\u001b[38;5;241;43m.\u001b[39;49m\u001b[43m_engine\u001b[49m\u001b[38;5;241;43m.\u001b[39;49m\u001b[43mget_loc\u001b[49m\u001b[43m(\u001b[49m\u001b[43mcasted_key\u001b[49m\u001b[43m)\u001b[49m\n\u001b[0;32m   3806\u001b[0m \u001b[38;5;28;01mexcept\u001b[39;00m \u001b[38;5;167;01mKeyError\u001b[39;00m \u001b[38;5;28;01mas\u001b[39;00m err:\n",
      "File \u001b[1;32mindex.pyx:167\u001b[0m, in \u001b[0;36mpandas._libs.index.IndexEngine.get_loc\u001b[1;34m()\u001b[0m\n",
      "File \u001b[1;32mindex.pyx:196\u001b[0m, in \u001b[0;36mpandas._libs.index.IndexEngine.get_loc\u001b[1;34m()\u001b[0m\n",
      "File \u001b[1;32mpandas\\\\_libs\\\\hashtable_class_helper.pxi:7081\u001b[0m, in \u001b[0;36mpandas._libs.hashtable.PyObjectHashTable.get_item\u001b[1;34m()\u001b[0m\n",
      "File \u001b[1;32mpandas\\\\_libs\\\\hashtable_class_helper.pxi:7089\u001b[0m, in \u001b[0;36mpandas._libs.hashtable.PyObjectHashTable.get_item\u001b[1;34m()\u001b[0m\n",
      "\u001b[1;31mKeyError\u001b[0m: 'bboxs'",
      "\nThe above exception was the direct cause of the following exception:\n",
      "\u001b[1;31mKeyError\u001b[0m                                  Traceback (most recent call last)",
      "Cell \u001b[1;32mIn[46], line 1\u001b[0m\n\u001b[1;32m----> 1\u001b[0m train_df[[\u001b[38;5;124m'\u001b[39m\u001b[38;5;124mx\u001b[39m\u001b[38;5;124m'\u001b[39m, \u001b[38;5;124m'\u001b[39m\u001b[38;5;124my\u001b[39m\u001b[38;5;124m'\u001b[39m, \u001b[38;5;124m'\u001b[39m\u001b[38;5;124mw\u001b[39m\u001b[38;5;124m'\u001b[39m, \u001b[38;5;124m'\u001b[39m\u001b[38;5;124mh\u001b[39m\u001b[38;5;124m'\u001b[39m]] \u001b[38;5;241m=\u001b[39m np\u001b[38;5;241m.\u001b[39mstack(\u001b[43mtrain_df\u001b[49m\u001b[43m[\u001b[49m\u001b[38;5;124;43m'\u001b[39;49m\u001b[38;5;124;43mbboxs\u001b[39;49m\u001b[38;5;124;43m'\u001b[39;49m\u001b[43m]\u001b[49m\u001b[38;5;241m.\u001b[39mapply(\u001b[38;5;28;01mlambda\u001b[39;00m x: expand_bbox(x)))\n\u001b[0;32m      2\u001b[0m train_df\u001b[38;5;241m.\u001b[39mdrop(columns\u001b[38;5;241m=\u001b[39m[\u001b[38;5;124m'\u001b[39m\u001b[38;5;124mbboxs\u001b[39m\u001b[38;5;124m'\u001b[39m], inplace\u001b[38;5;241m=\u001b[39m\u001b[38;5;28;01mTrue\u001b[39;00m)\n\u001b[0;32m      3\u001b[0m train_df[\u001b[38;5;124m'\u001b[39m\u001b[38;5;124mx\u001b[39m\u001b[38;5;124m'\u001b[39m] \u001b[38;5;241m=\u001b[39m train_df[\u001b[38;5;124m'\u001b[39m\u001b[38;5;124mx\u001b[39m\u001b[38;5;124m'\u001b[39m]\u001b[38;5;241m.\u001b[39mastype(np\u001b[38;5;241m.\u001b[39mfloat64)\n",
      "File \u001b[1;32m~\\AppData\\Local\\Programs\\Python\\Python310\\lib\\site-packages\\pandas\\core\\frame.py:4090\u001b[0m, in \u001b[0;36mDataFrame.__getitem__\u001b[1;34m(self, key)\u001b[0m\n\u001b[0;32m   4088\u001b[0m \u001b[38;5;28;01mif\u001b[39;00m \u001b[38;5;28mself\u001b[39m\u001b[38;5;241m.\u001b[39mcolumns\u001b[38;5;241m.\u001b[39mnlevels \u001b[38;5;241m>\u001b[39m \u001b[38;5;241m1\u001b[39m:\n\u001b[0;32m   4089\u001b[0m     \u001b[38;5;28;01mreturn\u001b[39;00m \u001b[38;5;28mself\u001b[39m\u001b[38;5;241m.\u001b[39m_getitem_multilevel(key)\n\u001b[1;32m-> 4090\u001b[0m indexer \u001b[38;5;241m=\u001b[39m \u001b[38;5;28;43mself\u001b[39;49m\u001b[38;5;241;43m.\u001b[39;49m\u001b[43mcolumns\u001b[49m\u001b[38;5;241;43m.\u001b[39;49m\u001b[43mget_loc\u001b[49m\u001b[43m(\u001b[49m\u001b[43mkey\u001b[49m\u001b[43m)\u001b[49m\n\u001b[0;32m   4091\u001b[0m \u001b[38;5;28;01mif\u001b[39;00m is_integer(indexer):\n\u001b[0;32m   4092\u001b[0m     indexer \u001b[38;5;241m=\u001b[39m [indexer]\n",
      "File \u001b[1;32m~\\AppData\\Local\\Programs\\Python\\Python310\\lib\\site-packages\\pandas\\core\\indexes\\base.py:3812\u001b[0m, in \u001b[0;36mIndex.get_loc\u001b[1;34m(self, key)\u001b[0m\n\u001b[0;32m   3807\u001b[0m     \u001b[38;5;28;01mif\u001b[39;00m \u001b[38;5;28misinstance\u001b[39m(casted_key, \u001b[38;5;28mslice\u001b[39m) \u001b[38;5;129;01mor\u001b[39;00m (\n\u001b[0;32m   3808\u001b[0m         \u001b[38;5;28misinstance\u001b[39m(casted_key, abc\u001b[38;5;241m.\u001b[39mIterable)\n\u001b[0;32m   3809\u001b[0m         \u001b[38;5;129;01mand\u001b[39;00m \u001b[38;5;28many\u001b[39m(\u001b[38;5;28misinstance\u001b[39m(x, \u001b[38;5;28mslice\u001b[39m) \u001b[38;5;28;01mfor\u001b[39;00m x \u001b[38;5;129;01min\u001b[39;00m casted_key)\n\u001b[0;32m   3810\u001b[0m     ):\n\u001b[0;32m   3811\u001b[0m         \u001b[38;5;28;01mraise\u001b[39;00m InvalidIndexError(key)\n\u001b[1;32m-> 3812\u001b[0m     \u001b[38;5;28;01mraise\u001b[39;00m \u001b[38;5;167;01mKeyError\u001b[39;00m(key) \u001b[38;5;28;01mfrom\u001b[39;00m \u001b[38;5;21;01merr\u001b[39;00m\n\u001b[0;32m   3813\u001b[0m \u001b[38;5;28;01mexcept\u001b[39;00m \u001b[38;5;167;01mTypeError\u001b[39;00m:\n\u001b[0;32m   3814\u001b[0m     \u001b[38;5;66;03m# If we have a listlike key, _check_indexing_error will raise\u001b[39;00m\n\u001b[0;32m   3815\u001b[0m     \u001b[38;5;66;03m#  InvalidIndexError. Otherwise we fall through and re-raise\u001b[39;00m\n\u001b[0;32m   3816\u001b[0m     \u001b[38;5;66;03m#  the TypeError.\u001b[39;00m\n\u001b[0;32m   3817\u001b[0m     \u001b[38;5;28mself\u001b[39m\u001b[38;5;241m.\u001b[39m_check_indexing_error(key)\n",
      "\u001b[1;31mKeyError\u001b[0m: 'bboxs'"
     ]
    }
   ],
   "source": [
    "train_df[['x', 'y', 'w', 'h']] = np.stack(train_df['bbox'].apply(lambda x: expand_bbox(x)))\n",
    "train_df.drop(columns=['bbox'], inplace=True)\n",
    "train_df['x'] = train_df['x'].astype(np.float64)\n",
    "train_df['y'] = train_df['y'].astype(np.float64)\n",
    "train_df['w'] = train_df['w'].astype(np.float64)\n",
    "train_df['h'] = train_df['h'].astype(np.float64)"
   ]
  },
  {
   "cell_type": "code",
   "execution_count": null,
   "id": "229feb10-779f-4bf5-b09b-21c450e21314",
   "metadata": {},
   "outputs": [],
   "source": []
  }
 ],
 "metadata": {
  "kernelspec": {
   "display_name": "Python 3 (ipykernel)",
   "language": "python",
   "name": "python3"
  },
  "language_info": {
   "codemirror_mode": {
    "name": "ipython",
    "version": 3
   },
   "file_extension": ".py",
   "mimetype": "text/x-python",
   "name": "python",
   "nbconvert_exporter": "python",
   "pygments_lexer": "ipython3",
   "version": "3.10.11"
  }
 },
 "nbformat": 4,
 "nbformat_minor": 5
}
