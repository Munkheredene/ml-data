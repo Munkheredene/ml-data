{
 "cells": [
  {
   "cell_type": "code",
   "execution_count": 1,
   "id": "883bfc3d-ffa6-43c3-a096-ed277794f7c1",
   "metadata": {},
   "outputs": [],
   "source": [
    "class ScratchSVMClassifier():\n",
    "   \n",
    "    def __init__(self, \n",
    "                 num_iter, \n",
    "                 lr, \n",
    "                 kernel_type ='linear', \n",
    "                 threshold=1e-5, \n",
    "                 sp_vector_cnt_threshold=5,\n",
    "                 gamma=1, \n",
    "                 theta0=0, \n",
    "                 pow_d=1,\n",
    "                 verbose=False):\n",
    "        \n",
    "        self.iter = num_iter\n",
    "        self.lr = lr\n",
    "        self.kernel = kernel_type\n",
    "        self.threshold = threshold\n",
    "        self.sp_vector_cnt_threshold = sp_vector_cnt_threshold\n",
    "        self.verbose = verbose\n",
    "        self.gamma = gamma\n",
    "        self.theta0 = theta0\n",
    "        self.pow_d = pow_d\n",
    "\n",
    "    def fit(self, X, y, X_val=None, y_val=None):\n",
    "        \n",
    "        #train set transpose\n",
    "        X = X.T\n",
    "        bias = np.array([1 for _ in range(X.shape[1])])\n",
    "        X = np.vstack((bias, X))\n",
    "        y = y.reshape(1, len(y))\n",
    "\n",
    "        #valid set\n",
    "        if X_val is not None:\n",
    "            X_val = X_val.T\n",
    "            bias = np.array([1 for _ in range(X_val.shape[1])])\n",
    "            X_val = np.vstack((bias, X_val))\n",
    "            y_val = y_val.reshape(1, len(y_val))\n",
    "\n",
    "\n",
    "        self.num_of_feature = X.shape[0]\n",
    "        self.num_of_samples = X.shape[1]\n",
    "\n",
    "        y = np.where(y>0, 1, -1)\n",
    "        if X_val is not None:\n",
    "            y_val = np.where(y_val>0, 1, -1)\n",
    "        \n",
    "        train_data = np.concatenate((X, y), axis=0)\n",
    "        SP_LABEL_CNT_THRESHOLD = int(self.sp_vector_cnt_threshold / 2)\n",
    "\n",
    "        ##create lambda for each observation\n",
    "        LAMBDA_INIT_MIN = 1\n",
    "        LAMBDA_INIT_MAX = 10\n",
    "        LAMBDA_INIT_SCALE = 1e-07\n",
    "        self.lam = np.random.randint(LAMBDA_INIT_MIN, LAMBDA_INIT_MAX, X.shape[1]) * LAMBDA_INIT_SCALE\n",
    "        self.lam = np.reshape(self.lam, (1, len(self.lam)))\n",
    "\n",
    "        #training \n",
    "        for i in range(0, self.iter):\n",
    "            self.lam = self._gradient_descent(X, y)\n",
    "            if self.sp_vector_cnt_threshold <= np.sum(self.lam > self.threshold):\n",
    "                selector = self.lam * np.ones((train_data.shape[0], 1))\n",
    "                sp_vector = train_data[selector > self.threshold]\n",
    "                sp_vector = sp_vector.reshape(train_data.shape[0], (int)(len(sp_vector) / train_data.shape[0]))\n",
    "                label_p_cnt = np.sum([sp_vector[sp_vector.shape[0] - 1] == 1])\n",
    "                label_n_cnt = np.sum([sp_vector[sp_vector.shape[0] - 1] == -1])\n",
    "               \n",
    "                if label_p_cnt >= SP_LABEL_CNT_THRESHOLD & label_n_cnt >= SP_LABEL_CNT_THRESHOLD:\n",
    "                    self.sp_vector = sp_vector\n",
    "                    self.lam = self.lam[self.lam > self.threshold]\n",
    "                    break\n",
    "\n",
    "\n",
    "        if self.verbose:\n",
    "            #verboseをTrueにした際は学習過程を出力\n",
    "            print()\n",
    "\n",
    "\n",
    "    def predict(self, X):\n",
    "        \n",
    "        X = X.T\n",
    "        bias = np.array([1 for _ in range(X.shape[1])])\n",
    "        X = np.vstack((bias, X))\n",
    "\n",
    "        #create support vectors\n",
    "        x_sn = self.sp_vector[0:self.sp_vector.shape[0] - 1]\n",
    "        x_sn = x_sn.reshape((self.num_of_feature, x_sn.shape[1]))\n",
    "        y_sn = self.sp_vector[self.sp_vector.shape[0] - 1].reshape((1, x_sn.shape[1]))\n",
    "   \n",
    "        lam = self.lam\n",
    "        tmp1 = self._svm_kernel_function(X, x_sn)\n",
    "    \n",
    "        tmp2 = lam * y_sn * tmp1\n",
    "        pred = np.sum(tmp2, axis=1)\n",
    "        pred[pred < 0] = -1\n",
    "        pred[pred >= 0] = 1\n",
    "        pred = pred.astype('int8').T\n",
    "        \n",
    "        return np.where(pred==-1, 0, 1)\n",
    "\n",
    "    def _svm_kernel_function(self, X1, X2):\n",
    "    \n",
    "        if self.kernel == 'linear':\n",
    "            out = np.dot(X1.T, X2)\n",
    "        elif self.kernel == 'rbf':\n",
    "            out = self.gamma * (np.dot(X1.T, X2) + self.theta0)**self.pow_d\n",
    "        else:\n",
    "            out = 0\n",
    "\n",
    "        return out\n",
    "\n",
    "    def _gradient_descent(self, X, y):\n",
    "        \n",
    "        tmp1 = y.T * y * self.lam * self._svm_kernel_function(X, X)\n",
    "        delta = 1 - (np.sum(tmp1, axis=0))\n",
    "        delta = delta.reshape(len(delta), 1)\n",
    "        res = self.lam + self.lr * delta.T\n",
    "        res[res < 0] = 0\n",
    "\n",
    "        return res\n",
    "        \n",
    "    def plot_boundary(self, feature, target, index_of_x1, index_of_x2):\n",
    "        \n",
    "        x_sn = self.sp_vector[0:self.sp_vector.shape[0] - 1]\n",
    "        x_sn = x_sn.reshape((self.num_of_feature, x_sn.shape[1]))\n",
    "        y_sn = self.sp_vector[self.sp_vector.shape[0] - 1].reshape((1, x_sn.shape[1]))\n",
    "        sp_theta = self.lam * y_sn * x_sn\n",
    "        sp_theta = np.sum(sp_theta, axis=1)\n",
    "        b = sp_theta[0]\n",
    "    \n",
    "        y = -1 * (b + sp_theta[index_of_x1]) / sp_theta[index_of_x2] * feature[:, index_of_x1]\n",
    "        plt.title(\"Boundary\")\n",
    "        plt.xlabel(\"Feature index={}\".format(index_of_x1))\n",
    "        plt.ylabel(\"Feature index={}\".format(index_of_x2))\n",
    "        plt.plot(feature[:, index_of_x1], y, label=\"Boundary\")\n",
    "        plt.scatter(feature[:, index_of_x1], feature[:, index_of_x2], c=target)\n",
    "        plt.show()\n",
    "\n",
    "    def get_sp_vectors(self):\n",
    "        return self.sp_vector"
   ]
  },
  {
   "cell_type": "code",
   "execution_count": 2,
   "id": "54b56937-ad34-4c7b-9b50-cb8128003f8b",
   "metadata": {},
   "outputs": [],
   "source": [
    "import numpy as np"
   ]
  },
  {
   "cell_type": "markdown",
   "id": "dc3da29a-456b-4712-8882-ad3e16a345e0",
   "metadata": {},
   "source": [
    "test"
   ]
  },
  {
   "cell_type": "code",
   "execution_count": 3,
   "id": "305caa3c-c3e5-4bef-8a65-88be2cf88360",
   "metadata": {},
   "outputs": [],
   "source": [
    "import numpy as np\n",
    "from sklearn import datasets\n",
    "import matplotlib.pyplot as plt\n",
    "import numpy as np\n",
    "from sklearn.metrics import accuracy_score\n",
    "from sklearn.model_selection import train_test_split\n",
    "from sklearn import svm\n",
    "from sklearn.preprocessing import StandardScaler\n",
    "\n",
    "X, y = datasets.make_blobs(n_samples=200, n_features=2, centers=2, \n",
    "                           cluster_std=1.05, random_state=40)\n",
    "\n",
    "X_train, X_test, y_train, y_test = train_test_split(\n",
    "    X, y, test_size=0.2, random_state=123\n",
    ")\n",
    "\n",
    "scaler = StandardScaler()\n",
    "scaler.fit(X_train)\n",
    "X_train = scaler.transform(X_train)\n",
    "scaler.fit(X_test)\n",
    "X_test = scaler.transform(X_test)"
   ]
  },
  {
   "cell_type": "code",
   "execution_count": 4,
   "id": "36f8265a-068c-4048-ba3b-82bcfd6280e9",
   "metadata": {},
   "outputs": [],
   "source": [
    "clf = ScratchSVMClassifier(num_iter=200, lr=0.05, threshold=0.01, kernel_type='rbf')\n",
    "clf.fit(X_train, y_train)"
   ]
  },
  {
   "cell_type": "code",
   "execution_count": 5,
   "id": "a6ebe71e-7233-487b-9922-4a1fb967fc86",
   "metadata": {},
   "outputs": [
    {
     "data": {
      "text/plain": [
       "(40, 2)"
      ]
     },
     "execution_count": 5,
     "metadata": {},
     "output_type": "execute_result"
    }
   ],
   "source": [
    "X_test.shape"
   ]
  },
  {
   "cell_type": "code",
   "execution_count": 6,
   "id": "37ff9501-4085-4082-82d2-5b0b92c8a2e2",
   "metadata": {},
   "outputs": [
    {
     "data": {
      "text/plain": [
       "array([0, 0, 0, 1, 0, 1, 0, 1, 1, 0, 1, 0, 0, 0, 0, 0, 0, 1, 1, 1, 1, 1,\n",
       "       1, 1, 0, 0, 1, 1, 0, 0, 0, 0, 1, 0, 0, 1, 1, 1, 0, 0])"
      ]
     },
     "execution_count": 6,
     "metadata": {},
     "output_type": "execute_result"
    }
   ],
   "source": [
    "pred = clf.predict(X_test)\n",
    "pred"
   ]
  },
  {
   "cell_type": "markdown",
   "id": "296c7448-ce77-4f1a-9109-7cfbf964472a",
   "metadata": {},
   "source": [
    "Decision Boundry"
   ]
  },
  {
   "cell_type": "code",
   "execution_count": 7,
   "id": "f1532f44-80ad-4022-8e9a-6a6d63003068",
   "metadata": {},
   "outputs": [
    {
     "data": {
      "image/png": "[encoded data removed]",
      "text/plain": [
       "<Figure size 640x480 with 1 Axes>"
      ]
     },
     "metadata": {},
     "output_type": "display_data"
    }
   ],
   "source": [
    "clf.plot_boundary(X_train, y_train, 0, 1)"
   ]
  },
  {
   "cell_type": "code",
   "execution_count": 8,
   "id": "116ebb14-7412-47c8-a9fb-f6c5b3bfa026",
   "metadata": {},
   "outputs": [],
   "source": [
    "from matplotlib.colors import ListedColormap\n",
    "import matplotlib.patches as mpatches\n",
    "\n",
    "def decision_region(X_train, y_train, model, step=0.01, title='decision region', xlabel='xlabel', ylabel='ylabel', target_names=['versicolor', 'virginica']):\n",
    "    \"\"\"\n",
    "    2値分類を2次元の特徴量で学習したモデルの決定領域を描く。\n",
    "    背景の色が学習したモデルによる推定値から描画される。\n",
    "    散布図の点は学習用データである。\n",
    "\n",
    "    Parameters\n",
    "    ----------------\n",
    "    X_train : ndarray, shape(n_samples, 2)\n",
    "        学習用データの特徴量\n",
    "    y_train : ndarray, shape(n_samples,)\n",
    "        学習用データの正解値\n",
    "    model : object\n",
    "        学習したモデルのインスンタスを入れる\n",
    "    step : float, (default : 0.1)\n",
    "        推定値を計算する間隔を設定する\n",
    "    title : str\n",
    "        グラフのタイトルの文章を与える\n",
    "    xlabel, ylabel : str\n",
    "        軸ラベルの文章を与える\n",
    "    target_names= : list of str\n",
    "        凡例の一覧を与える\n",
    "    \"\"\"\n",
    "    # setting\n",
    "    scatter_color = ['red', 'blue']\n",
    "    contourf_color = ['pink', 'skyblue']\n",
    "    n_class = 2\n",
    "\n",
    "    # pred\n",
    "    mesh_f0, mesh_f1  = np.meshgrid(np.arange(np.min(X_train[:,0])-0.5, np.max(X_train[:,0])+0.5, step), np.arange(np.min(X_train[:,1])-0.5, np.max(X_train[:,1])+0.5, step))\n",
    "    mesh = np.c_[np.ravel(mesh_f0),np.ravel(mesh_f1)]\n",
    "    pred = model.predict(mesh).reshape(mesh_f0.shape)\n",
    "\n",
    "    # plot\n",
    "    plt.title(title)\n",
    "    plt.xlabel(xlabel)\n",
    "    plt.ylabel(ylabel)\n",
    "    plt.contourf(mesh_f0, mesh_f1, pred, n_class-1, cmap=ListedColormap(contourf_color))\n",
    "    plt.contour(mesh_f0, mesh_f1, pred, n_class-1, colors='y', linewidths=3, alpha=0.5)\n",
    "    for i, target in enumerate(set(y_train)):\n",
    "        plt.scatter(X_train[y_train==target][:, 0], X_train[y_train==target][:, 1], s=80, color=scatter_color[i], label=target_names[i], marker='o')\n",
    "    patches = [mpatches.Patch(color=scatter_color[i], label=target_names[i]) for i in range(n_class)]\n",
    "    plt.scatter(model.sp_vector[1], model.sp_vector[2], s=80, color='yellow')\n",
    "    plt.legend(handles=patches)\n",
    "    plt.legend()\n",
    "    plt.show()"
   ]
  },
  {
   "cell_type": "code",
   "execution_count": null,
   "id": "b9c8a71b-0c87-42fa-81c5-60163235c77b",
   "metadata": {},
   "outputs": [],
   "source": []
  }
 ],
 "metadata": {
  "kernelspec": {
   "display_name": "Python 3 (ipykernel)",
   "language": "python",
   "name": "python3"
  },
  "language_info": {
   "codemirror_mode": {
    "name": "ipython",
    "version": 3
   },
   "file_extension": ".py",
   "mimetype": "text/x-python",
   "name": "python",
   "nbconvert_exporter": "python",
   "pygments_lexer": "ipython3",
   "version": "3.10.11"
  }
 },
 "nbformat": 4,
 "nbformat_minor": 5
}
