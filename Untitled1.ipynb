{
 "cells": [
  {
   "cell_type": "markdown",
   "id": "a2c3e3d3-0b93-4407-a50a-c91b81c89c61",
   "metadata": {},
   "source": [
    "Problem 1 Learning/estimation\n",
    "Use the Keras implementation below for training and estimation."
   ]
  },
  {
   "cell_type": "code",
   "execution_count": 1,
   "id": "c0e89a03-e34c-430b-9bd0-3ac29c8d0045",
   "metadata": {},
   "outputs": [
    {
     "name": "stderr",
     "output_type": "stream",
     "text": [
      "python: can't open file 'C:\\\\Users\\\\munkherdene\\\\Desktop\\\\pdata\\\\main.py': [Errno 2] No such file or directory\n"
     ]
    }
   ],
   "source": []
  },
  {
   "cell_type": "code",
   "execution_count": null,
   "id": "b3948d55-6a9e-41b5-933f-12ea1b8cde8c",
   "metadata": {},
   "outputs": [],
   "source": []
  }
 ],
 "metadata": {
  "kernelspec": {
   "display_name": "Python 3 (ipykernel)",
   "language": "python",
   "name": "python3"
  },
  "language_info": {
   "codemirror_mode": {
    "name": "ipython",
    "version": 3
   },
   "file_extension": ".py",
   "mimetype": "text/x-python",
   "name": "python",
   "nbconvert_exporter": "python",
   "pygments_lexer": "ipython3",
   "version": "3.10.11"
  }
 },
 "nbformat": 4,
 "nbformat_minor": 5
}
